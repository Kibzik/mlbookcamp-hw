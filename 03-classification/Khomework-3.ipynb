{
 "cells": [
  {
   "cell_type": "code",
   "execution_count": 1,
   "id": "a07d3c54",
   "metadata": {
    "ExecuteTime": {
     "end_time": "2022-09-23T14:27:18.089454Z",
     "start_time": "2022-09-23T14:27:17.076210Z"
    }
   },
   "outputs": [],
   "source": [
    "import random\n",
    "import pandas as pd\n",
    "import numpy as np\n",
    "import seaborn as sns\n",
    "import matplotlib.pyplot as plt\n",
    "\n",
    "%matplotlib inline"
   ]
  },
  {
   "cell_type": "markdown",
   "id": "d7aaadc6",
   "metadata": {},
   "source": [
    "## Get the data"
   ]
  },
  {
   "cell_type": "code",
   "execution_count": 2,
   "id": "484cf549",
   "metadata": {
    "ExecuteTime": {
     "end_time": "2022-09-23T14:27:18.135529Z",
     "start_time": "2022-09-23T14:27:18.091465Z"
    }
   },
   "outputs": [],
   "source": [
    "df = pd.read_csv(\"housing.csv\")"
   ]
  },
  {
   "cell_type": "code",
   "execution_count": 3,
   "id": "7e795c27",
   "metadata": {
    "ExecuteTime": {
     "end_time": "2022-09-23T14:27:18.165529Z",
     "start_time": "2022-09-23T14:27:18.137492Z"
    },
    "scrolled": true
   },
   "outputs": [
    {
     "data": {
      "text/html": [
       "<div>\n",
       "<style scoped>\n",
       "    .dataframe tbody tr th:only-of-type {\n",
       "        vertical-align: middle;\n",
       "    }\n",
       "\n",
       "    .dataframe tbody tr th {\n",
       "        vertical-align: top;\n",
       "    }\n",
       "\n",
       "    .dataframe thead th {\n",
       "        text-align: right;\n",
       "    }\n",
       "</style>\n",
       "<table border=\"1\" class=\"dataframe\">\n",
       "  <thead>\n",
       "    <tr style=\"text-align: right;\">\n",
       "      <th></th>\n",
       "      <th>longitude</th>\n",
       "      <th>latitude</th>\n",
       "      <th>housing_median_age</th>\n",
       "      <th>total_rooms</th>\n",
       "      <th>total_bedrooms</th>\n",
       "      <th>population</th>\n",
       "      <th>households</th>\n",
       "      <th>median_income</th>\n",
       "      <th>median_house_value</th>\n",
       "      <th>ocean_proximity</th>\n",
       "    </tr>\n",
       "  </thead>\n",
       "  <tbody>\n",
       "    <tr>\n",
       "      <th>0</th>\n",
       "      <td>-122.23</td>\n",
       "      <td>37.88</td>\n",
       "      <td>41.0</td>\n",
       "      <td>880.0</td>\n",
       "      <td>129.0</td>\n",
       "      <td>322.0</td>\n",
       "      <td>126.0</td>\n",
       "      <td>8.3252</td>\n",
       "      <td>452600.0</td>\n",
       "      <td>NEAR BAY</td>\n",
       "    </tr>\n",
       "    <tr>\n",
       "      <th>1</th>\n",
       "      <td>-122.22</td>\n",
       "      <td>37.86</td>\n",
       "      <td>21.0</td>\n",
       "      <td>7099.0</td>\n",
       "      <td>1106.0</td>\n",
       "      <td>2401.0</td>\n",
       "      <td>1138.0</td>\n",
       "      <td>8.3014</td>\n",
       "      <td>358500.0</td>\n",
       "      <td>NEAR BAY</td>\n",
       "    </tr>\n",
       "    <tr>\n",
       "      <th>2</th>\n",
       "      <td>-122.24</td>\n",
       "      <td>37.85</td>\n",
       "      <td>52.0</td>\n",
       "      <td>1467.0</td>\n",
       "      <td>190.0</td>\n",
       "      <td>496.0</td>\n",
       "      <td>177.0</td>\n",
       "      <td>7.2574</td>\n",
       "      <td>352100.0</td>\n",
       "      <td>NEAR BAY</td>\n",
       "    </tr>\n",
       "    <tr>\n",
       "      <th>3</th>\n",
       "      <td>-122.25</td>\n",
       "      <td>37.85</td>\n",
       "      <td>52.0</td>\n",
       "      <td>1274.0</td>\n",
       "      <td>235.0</td>\n",
       "      <td>558.0</td>\n",
       "      <td>219.0</td>\n",
       "      <td>5.6431</td>\n",
       "      <td>341300.0</td>\n",
       "      <td>NEAR BAY</td>\n",
       "    </tr>\n",
       "    <tr>\n",
       "      <th>4</th>\n",
       "      <td>-122.25</td>\n",
       "      <td>37.85</td>\n",
       "      <td>52.0</td>\n",
       "      <td>1627.0</td>\n",
       "      <td>280.0</td>\n",
       "      <td>565.0</td>\n",
       "      <td>259.0</td>\n",
       "      <td>3.8462</td>\n",
       "      <td>342200.0</td>\n",
       "      <td>NEAR BAY</td>\n",
       "    </tr>\n",
       "  </tbody>\n",
       "</table>\n",
       "</div>"
      ],
      "text/plain": [
       "   longitude  latitude  housing_median_age  total_rooms  total_bedrooms  \\\n",
       "0    -122.23     37.88                41.0        880.0           129.0   \n",
       "1    -122.22     37.86                21.0       7099.0          1106.0   \n",
       "2    -122.24     37.85                52.0       1467.0           190.0   \n",
       "3    -122.25     37.85                52.0       1274.0           235.0   \n",
       "4    -122.25     37.85                52.0       1627.0           280.0   \n",
       "\n",
       "   population  households  median_income  median_house_value ocean_proximity  \n",
       "0       322.0       126.0         8.3252            452600.0        NEAR BAY  \n",
       "1      2401.0      1138.0         8.3014            358500.0        NEAR BAY  \n",
       "2       496.0       177.0         7.2574            352100.0        NEAR BAY  \n",
       "3       558.0       219.0         5.6431            341300.0        NEAR BAY  \n",
       "4       565.0       259.0         3.8462            342200.0        NEAR BAY  "
      ]
     },
     "execution_count": 3,
     "metadata": {},
     "output_type": "execute_result"
    }
   ],
   "source": [
    "df.head()"
   ]
  },
  {
   "cell_type": "markdown",
   "id": "09f65e1e",
   "metadata": {},
   "source": [
    "## Data preparation \n",
    "- Select only the features from above and fill in the missing values with 0.\n",
    "- Create a new column rooms_per_household by dividing the column total_rooms by the column households from dataframe.\n",
    "- Create a new column bedrooms_per_room by dividing the column total_bedrooms by the column total_rooms from dataframe.\n",
    "- Create a new column population_per_household by dividing the column population by the column households from dataframe."
   ]
  },
  {
   "cell_type": "code",
   "execution_count": 4,
   "id": "998c9c50",
   "metadata": {
    "ExecuteTime": {
     "end_time": "2022-09-23T14:27:18.181529Z",
     "start_time": "2022-09-23T14:27:18.167489Z"
    }
   },
   "outputs": [],
   "source": [
    "df = df[['latitude', 'longitude', 'housing_median_age', 'total_rooms',\n",
    "         'total_bedrooms', 'population', 'households', 'median_income', 'median_house_value', 'ocean_proximity']]"
   ]
  },
  {
   "cell_type": "code",
   "execution_count": 5,
   "id": "abacd3bc",
   "metadata": {
    "ExecuteTime": {
     "end_time": "2022-09-23T14:27:18.196537Z",
     "start_time": "2022-09-23T14:27:18.183487Z"
    }
   },
   "outputs": [],
   "source": [
    "df = df.fillna(0)"
   ]
  },
  {
   "cell_type": "code",
   "execution_count": 6,
   "id": "415cc765",
   "metadata": {
    "ExecuteTime": {
     "end_time": "2022-09-23T14:27:18.242529Z",
     "start_time": "2022-09-23T14:27:18.199498Z"
    }
   },
   "outputs": [],
   "source": [
    "df['rooms_per_household'] = df['total_rooms'] / df['households']\n",
    "df['bedrooms_per_room'] = df['total_bedrooms'] / df['total_rooms']\n",
    "df['population_per_household'] = df['population'] / df['households']"
   ]
  },
  {
   "cell_type": "markdown",
   "id": "43bfb058",
   "metadata": {},
   "source": [
    "### Make median_house_value binary\n",
    "- We need to turn the median_house_value variable from numeric into binary.\n",
    "- Let's create a variable above_average which is 1 if the median_house_value is above its mean value and 0 otherwise."
   ]
  },
  {
   "cell_type": "code",
   "execution_count": 7,
   "id": "14940f17",
   "metadata": {
    "ExecuteTime": {
     "end_time": "2022-09-23T14:27:19.504792Z",
     "start_time": "2022-09-23T14:27:18.245533Z"
    }
   },
   "outputs": [],
   "source": [
    "df['above_average'] = df['median_house_value'].apply(lambda x: 1 if x > df['median_house_value'].mean() else 0)"
   ]
  },
  {
   "cell_type": "code",
   "execution_count": 8,
   "id": "5ae02b3b",
   "metadata": {
    "ExecuteTime": {
     "end_time": "2022-09-23T14:27:19.520493Z",
     "start_time": "2022-09-23T14:27:19.507493Z"
    },
    "scrolled": true
   },
   "outputs": [
    {
     "data": {
      "text/plain": [
       "0    0.59375\n",
       "1    0.40625\n",
       "Name: above_average, dtype: float64"
      ]
     },
     "execution_count": 8,
     "metadata": {},
     "output_type": "execute_result"
    }
   ],
   "source": [
    "df['above_average'].value_counts(normalize=True)"
   ]
  },
  {
   "cell_type": "markdown",
   "id": "b8d8be15",
   "metadata": {},
   "source": [
    "### Feature Importance\n",
    "* Difference\n",
    "* Risk Ratio\n",
    "* mutual info\n",
    "* correlation"
   ]
  },
  {
   "cell_type": "markdown",
   "id": "d128d222",
   "metadata": {},
   "source": [
    "## Question 1\n",
    "What is the most frequent observation (mode) for the column ocean_proximity?"
   ]
  },
  {
   "cell_type": "code",
   "execution_count": 9,
   "id": "a0c1e1b2",
   "metadata": {
    "ExecuteTime": {
     "end_time": "2022-09-23T14:27:19.535527Z",
     "start_time": "2022-09-23T14:27:19.523491Z"
    }
   },
   "outputs": [
    {
     "data": {
      "text/plain": [
       "<1H OCEAN     9136\n",
       "INLAND        6551\n",
       "NEAR OCEAN    2658\n",
       "NEAR BAY      2290\n",
       "ISLAND           5\n",
       "Name: ocean_proximity, dtype: int64"
      ]
     },
     "execution_count": 9,
     "metadata": {},
     "output_type": "execute_result"
    }
   ],
   "source": [
    "df['ocean_proximity'].value_counts()"
   ]
  },
  {
   "cell_type": "markdown",
   "id": "32e96bba",
   "metadata": {},
   "source": [
    "### Answer = <1h ocean"
   ]
  },
  {
   "cell_type": "markdown",
   "id": "2405fbe3",
   "metadata": {},
   "source": [
    "## Question 2\n",
    "- Create the correlation matrix for the numerical features of your train dataset.  \n",
    " - In a correlation matrix, you compute the correlation coefficient between every pair of features in the dataset. \n",
    "\n",
    "What are the two features that have the biggest correlation in this dataset?"
   ]
  },
  {
   "cell_type": "code",
   "execution_count": 10,
   "id": "25fc4834",
   "metadata": {
    "ExecuteTime": {
     "end_time": "2022-09-23T14:27:20.035527Z",
     "start_time": "2022-09-23T14:27:19.537493Z"
    }
   },
   "outputs": [
    {
     "data": {
      "text/plain": [
       "<AxesSubplot:>"
      ]
     },
     "execution_count": 10,
     "metadata": {},
     "output_type": "execute_result"
    },
    {
     "data": {
      "image/png": "[encoded data removed]",
      "text/plain": [
       "<Figure size 792x648 with 2 Axes>"
      ]
     },
     "metadata": {
      "needs_background": "light"
     },
     "output_type": "display_data"
    }
   ],
   "source": [
    "corr = df[(df.select_dtypes(include=np.number).columns.difference(['median_house_value']))].corr()\n",
    "mask = np.triu(np.ones_like(corr, dtype=bool))\n",
    "\n",
    "# Set up the matplotlib figure\n",
    "f, ax = plt.subplots(figsize=(11, 9))\n",
    "\n",
    "# Generate a custom diverging colormap\n",
    "cmap = sns.diverging_palette(230, 20, as_cmap=True)\n",
    "\n",
    "# Draw the heatmap with the mask and correct aspect ratio\n",
    "sns.heatmap(corr, mask=mask, cmap=cmap, vmax=1., center=0,\n",
    "            square=True, linewidths=.5, cbar_kws={\"shrink\": .5})"
   ]
  },
  {
   "cell_type": "code",
   "execution_count": 11,
   "id": "bd20bac9",
   "metadata": {
    "ExecuteTime": {
     "end_time": "2022-09-23T14:27:20.051528Z",
     "start_time": "2022-09-23T14:27:20.037493Z"
    }
   },
   "outputs": [],
   "source": [
    "sol = (corr.where(np.triu(corr, k=1).astype(bool))\n",
    "                  .stack()\n",
    "                  .sort_values(ascending=False))"
   ]
  },
  {
   "cell_type": "code",
   "execution_count": 12,
   "id": "0dd894b0",
   "metadata": {
    "ExecuteTime": {
     "end_time": "2022-09-23T14:27:20.067527Z",
     "start_time": "2022-09-23T14:27:20.054535Z"
    }
   },
   "outputs": [
    {
     "data": {
      "text/plain": [
       "households  total_bedrooms    0.966507\n",
       "dtype: float64"
      ]
     },
     "execution_count": 12,
     "metadata": {},
     "output_type": "execute_result"
    }
   ],
   "source": [
    "sol.head(1)"
   ]
  },
  {
   "cell_type": "markdown",
   "id": "adcef82e",
   "metadata": {},
   "source": [
    "### Answer = total_bedrooms and households"
   ]
  },
  {
   "cell_type": "markdown",
   "id": "d7bd83b3",
   "metadata": {},
   "source": [
    "## Split the data\n",
    "- Split your data in train/val/test sets, with 60%/20%/20% distribution.\n",
    "- Use Scikit-Learn for that (the train_test_split function) and set the seed to 42.\n",
    "- Make sure that the target value (median_house_value) is not in your dataframe."
   ]
  },
  {
   "cell_type": "code",
   "execution_count": 13,
   "id": "40c2fd7b",
   "metadata": {
    "ExecuteTime": {
     "end_time": "2022-09-23T14:27:20.659496Z",
     "start_time": "2022-09-23T14:27:20.069492Z"
    }
   },
   "outputs": [],
   "source": [
    "from sklearn.model_selection import train_test_split"
   ]
  },
  {
   "cell_type": "code",
   "execution_count": 14,
   "id": "83f50f9e",
   "metadata": {
    "ExecuteTime": {
     "end_time": "2022-09-23T14:27:20.675493Z",
     "start_time": "2022-09-23T14:27:20.661487Z"
    }
   },
   "outputs": [],
   "source": [
    "df_full_train, df_test = train_test_split(\n",
    "    df[(df.columns.difference(['median_house_value']))], test_size=.2, random_state=42)"
   ]
  },
  {
   "cell_type": "code",
   "execution_count": 15,
   "id": "5f42aa12",
   "metadata": {
    "ExecuteTime": {
     "end_time": "2022-09-23T14:27:20.690526Z",
     "start_time": "2022-09-23T14:27:20.677490Z"
    }
   },
   "outputs": [],
   "source": [
    "df_train, df_val = train_test_split(df_full_train, test_size=.25, random_state=42)"
   ]
  },
  {
   "cell_type": "code",
   "execution_count": 16,
   "id": "bea3433d",
   "metadata": {
    "ExecuteTime": {
     "end_time": "2022-09-23T14:27:20.706491Z",
     "start_time": "2022-09-23T14:27:20.692495Z"
    }
   },
   "outputs": [
    {
     "data": {
      "text/plain": [
       "(12384, 4128, 4128)"
      ]
     },
     "execution_count": 16,
     "metadata": {},
     "output_type": "execute_result"
    }
   ],
   "source": [
    "len(df_train), len(df_val), len(df_test)"
   ]
  },
  {
   "cell_type": "markdown",
   "id": "3cb4efa2",
   "metadata": {},
   "source": [
    "## Question 3\n",
    "- Calculate the mutual information score with the (binarized) price for the categorical variable that we have. Use the training set only.\n",
    "- What is the value of mutual information?\n",
    "- Round it to 2 decimal digits using round(score, 2)"
   ]
  },
  {
   "cell_type": "markdown",
   "id": "4b83eb6b",
   "metadata": {},
   "source": [
    "https://en.wikipedia.org/wiki/Mutual_information"
   ]
  },
  {
   "cell_type": "code",
   "execution_count": 17,
   "id": "9e851cf4",
   "metadata": {
    "ExecuteTime": {
     "end_time": "2022-09-23T14:27:20.721528Z",
     "start_time": "2022-09-23T14:27:20.708495Z"
    }
   },
   "outputs": [],
   "source": [
    "from sklearn.metrics import mutual_info_score"
   ]
  },
  {
   "cell_type": "code",
   "execution_count": 18,
   "id": "dc357654",
   "metadata": {
    "ExecuteTime": {
     "end_time": "2022-09-23T14:27:20.737526Z",
     "start_time": "2022-09-23T14:27:20.723490Z"
    }
   },
   "outputs": [
    {
     "data": {
      "text/plain": [
       "latitude                    float64\n",
       "longitude                   float64\n",
       "housing_median_age          float64\n",
       "total_rooms                 float64\n",
       "total_bedrooms              float64\n",
       "population                  float64\n",
       "households                  float64\n",
       "median_income               float64\n",
       "median_house_value          float64\n",
       "ocean_proximity              object\n",
       "rooms_per_household         float64\n",
       "bedrooms_per_room           float64\n",
       "population_per_household    float64\n",
       "above_average                 int64\n",
       "dtype: object"
      ]
     },
     "execution_count": 18,
     "metadata": {},
     "output_type": "execute_result"
    }
   ],
   "source": [
    "df.dtypes"
   ]
  },
  {
   "cell_type": "code",
   "execution_count": 19,
   "id": "ff91306c",
   "metadata": {
    "ExecuteTime": {
     "end_time": "2022-09-23T14:27:20.768525Z",
     "start_time": "2022-09-23T14:27:20.739489Z"
    }
   },
   "outputs": [
    {
     "data": {
      "text/plain": [
       "0.101"
      ]
     },
     "execution_count": 19,
     "metadata": {},
     "output_type": "execute_result"
    }
   ],
   "source": [
    "round(mutual_info_score(df_train.above_average, df_train.ocean_proximity), 3)"
   ]
  },
  {
   "cell_type": "markdown",
   "id": "e693cd38",
   "metadata": {},
   "source": [
    "### Answer = 0.101"
   ]
  },
  {
   "cell_type": "markdown",
   "id": "33c5bc72",
   "metadata": {},
   "source": [
    "## Question 4\n",
    "\n",
    "* Now let's train a logistic regression\n",
    "* Remember that we have one categorical variable `ocean_proximity` in the data. Include it using one-hot encoding.\n",
    "* Fit the model on the training dataset.\n",
    "    - To make sure the results are reproducible across different versions of Scikit-Learn, fit the model with these parameters:\n",
    "    - `model = LogisticRegression(solver=\"liblinear\", C=1.0, max_iter=1000, random_state=42)`\n",
    "* Calculate the accuracy on the validation dataset and round it to 2 decimal digits."
   ]
  },
  {
   "cell_type": "code",
   "execution_count": 20,
   "id": "febed58a",
   "metadata": {
    "ExecuteTime": {
     "end_time": "2022-09-23T14:27:20.784525Z",
     "start_time": "2022-09-23T14:27:20.770491Z"
    }
   },
   "outputs": [],
   "source": [
    "y_train, y_val, y_test = df_train['above_average'], df_val['above_average'], df_test['above_average']\n",
    "for df_ in [df_train, df_val, df_test]:\n",
    "    del df_['above_average']  "
   ]
  },
  {
   "cell_type": "markdown",
   "id": "1fc1a10c",
   "metadata": {},
   "source": [
    "### One-hot encoding"
   ]
  },
  {
   "cell_type": "code",
   "execution_count": 21,
   "id": "bcf3a520",
   "metadata": {
    "ExecuteTime": {
     "end_time": "2022-09-23T14:27:20.831490Z",
     "start_time": "2022-09-23T14:27:20.786490Z"
    }
   },
   "outputs": [],
   "source": [
    "from sklearn.feature_extraction import DictVectorizer\n",
    "from sklearn.linear_model import LogisticRegression\n",
    "from sklearn.metrics import accuracy_score"
   ]
  },
  {
   "cell_type": "code",
   "execution_count": 22,
   "id": "c8aaf39c",
   "metadata": {
    "ExecuteTime": {
     "end_time": "2022-09-23T14:27:21.064547Z",
     "start_time": "2022-09-23T14:27:20.837532Z"
    }
   },
   "outputs": [],
   "source": [
    "train_dict = df_train.to_dict(orient='records')\n",
    "val_dict = df_val.to_dict(orient='records')"
   ]
  },
  {
   "cell_type": "code",
   "execution_count": 46,
   "id": "6662f936",
   "metadata": {
    "ExecuteTime": {
     "end_time": "2022-09-23T14:30:19.331370Z",
     "start_time": "2022-09-23T14:30:19.319372Z"
    }
   },
   "outputs": [
    {
     "data": {
      "text/plain": [
       "[{'bedrooms_per_room': 0.25971370143149286,\n",
       "  'households': 374.0,\n",
       "  'housing_median_age': 39.0,\n",
       "  'latitude': 34.43,\n",
       "  'longitude': -119.67,\n",
       "  'median_income': 2.3681,\n",
       "  'ocean_proximity': '<1H OCEAN',\n",
       "  'population': 1404.0,\n",
       "  'population_per_household': 3.7540106951871657,\n",
       "  'rooms_per_household': 3.9224598930481283,\n",
       "  'total_bedrooms': 381.0,\n",
       "  'total_rooms': 1467.0},\n",
       " {'bedrooms_per_room': 0.13022798097424962,\n",
       "  'households': 806.0,\n",
       "  'housing_median_age': 24.0,\n",
       "  'latitude': 33.74,\n",
       "  'longitude': -118.32,\n",
       "  'median_income': 10.1357,\n",
       "  'ocean_proximity': 'NEAR OCEAN',\n",
       "  'population': 2248.0,\n",
       "  'population_per_household': 2.7890818858560795,\n",
       "  'rooms_per_household': 7.564516129032258,\n",
       "  'total_bedrooms': 794.0,\n",
       "  'total_rooms': 6097.0},\n",
       " {'bedrooms_per_room': 0.23462414578587698,\n",
       "  'households': 337.0,\n",
       "  'housing_median_age': 41.0,\n",
       "  'latitude': 39.13,\n",
       "  'longitude': -121.62,\n",
       "  'median_income': 1.6719,\n",
       "  'ocean_proximity': 'INLAND',\n",
       "  'population': 856.0,\n",
       "  'population_per_household': 2.540059347181009,\n",
       "  'rooms_per_household': 3.908011869436202,\n",
       "  'total_bedrooms': 309.0,\n",
       "  'total_rooms': 1317.0},\n",
       " {'bedrooms_per_room': 0.19415843664635427,\n",
       "  'households': 915.0,\n",
       "  'housing_median_age': 9.0,\n",
       "  'latitude': 34.24,\n",
       "  'longitude': -118.63,\n",
       "  'median_income': 4.8333,\n",
       "  'ocean_proximity': '<1H OCEAN',\n",
       "  'population': 1884.0,\n",
       "  'population_per_household': 2.059016393442623,\n",
       "  'rooms_per_household': 5.201092896174863,\n",
       "  'total_bedrooms': 924.0,\n",
       "  'total_rooms': 4759.0},\n",
       " {'bedrooms_per_room': 0.13976164680390032,\n",
       "  'households': 395.0,\n",
       "  'housing_median_age': 38.0,\n",
       "  'latitude': 37.52,\n",
       "  'longitude': -122.3,\n",
       "  'median_income': 5.5902,\n",
       "  'ocean_proximity': 'NEAR OCEAN',\n",
       "  'population': 994.0,\n",
       "  'population_per_household': 2.5164556962025317,\n",
       "  'rooms_per_household': 7.010126582278481,\n",
       "  'total_bedrooms': 387.0,\n",
       "  'total_rooms': 2769.0}]"
      ]
     },
     "execution_count": 46,
     "metadata": {},
     "output_type": "execute_result"
    }
   ],
   "source": [
    "train_dict[:5]"
   ]
  },
  {
   "cell_type": "code",
   "execution_count": 24,
   "id": "07e983f7",
   "metadata": {
    "ExecuteTime": {
     "end_time": "2022-09-23T14:27:21.470485Z",
     "start_time": "2022-09-23T14:27:21.363448Z"
    }
   },
   "outputs": [
    {
     "data": {
      "text/plain": [
       "DictVectorizer(sparse=False)"
      ]
     },
     "execution_count": 24,
     "metadata": {},
     "output_type": "execute_result"
    }
   ],
   "source": [
    "# sparse - is a matrix that is comprised of mostly zero values.\n",
    "dv = DictVectorizer(sparse=False)\n",
    "dv.fit(train_dict)"
   ]
  },
  {
   "cell_type": "code",
   "execution_count": 25,
   "id": "99081626",
   "metadata": {
    "ExecuteTime": {
     "end_time": "2022-09-23T14:27:21.597445Z",
     "start_time": "2022-09-23T14:27:21.472445Z"
    }
   },
   "outputs": [],
   "source": [
    "X_train = dv.transform(train_dict)\n",
    "X_val = dv.transform(val_dict)"
   ]
  },
  {
   "cell_type": "code",
   "execution_count": 26,
   "id": "8bdf609b",
   "metadata": {
    "ExecuteTime": {
     "end_time": "2022-09-23T14:27:21.626483Z",
     "start_time": "2022-09-23T14:27:21.606448Z"
    }
   },
   "outputs": [
    {
     "data": {
      "text/plain": [
       "[0.25971370143149286,\n",
       " 374.0,\n",
       " 39.0,\n",
       " 34.43,\n",
       " -119.67,\n",
       " 2.3681,\n",
       " 1.0,\n",
       " 0.0,\n",
       " 0.0,\n",
       " 0.0,\n",
       " 0.0,\n",
       " 1404.0,\n",
       " 3.7540106951871657,\n",
       " 3.9224598930481283,\n",
       " 381.0,\n",
       " 1467.0]"
      ]
     },
     "execution_count": 26,
     "metadata": {},
     "output_type": "execute_result"
    }
   ],
   "source": [
    "list(X_train[:5][0])"
   ]
  },
  {
   "cell_type": "code",
   "execution_count": 27,
   "id": "a5edfa0f",
   "metadata": {
    "ExecuteTime": {
     "end_time": "2022-09-23T14:27:21.642484Z",
     "start_time": "2022-09-23T14:27:21.628444Z"
    }
   },
   "outputs": [
    {
     "data": {
      "text/plain": [
       "['bedrooms_per_room',\n",
       " 'households',\n",
       " 'housing_median_age',\n",
       " 'latitude',\n",
       " 'longitude',\n",
       " 'median_income',\n",
       " 'ocean_proximity=<1H OCEAN',\n",
       " 'ocean_proximity=INLAND',\n",
       " 'ocean_proximity=ISLAND',\n",
       " 'ocean_proximity=NEAR BAY',\n",
       " 'ocean_proximity=NEAR OCEAN',\n",
       " 'population',\n",
       " 'population_per_household',\n",
       " 'rooms_per_household',\n",
       " 'total_bedrooms',\n",
       " 'total_rooms']"
      ]
     },
     "execution_count": 27,
     "metadata": {},
     "output_type": "execute_result"
    }
   ],
   "source": [
    "dv.get_feature_names()"
   ]
  },
  {
   "cell_type": "code",
   "execution_count": 28,
   "id": "79d22a6d",
   "metadata": {
    "ExecuteTime": {
     "end_time": "2022-09-23T14:27:21.844484Z",
     "start_time": "2022-09-23T14:27:21.644445Z"
    }
   },
   "outputs": [
    {
     "name": "stdout",
     "output_type": "stream",
     "text": [
      "0.8359980620155039\n"
     ]
    }
   ],
   "source": [
    "model = LogisticRegression(solver=\"liblinear\", C=1.0, max_iter=1000, random_state=42)\n",
    "model.fit(X_train, y_train)\n",
    "\n",
    "y_pred = model.predict(X_val)\n",
    "\n",
    "accuracy = accuracy_score(y_val, y_pred)\n",
    "print(accuracy)"
   ]
  },
  {
   "cell_type": "code",
   "execution_count": 29,
   "id": "cb817645",
   "metadata": {
    "ExecuteTime": {
     "end_time": "2022-09-23T14:27:21.860485Z",
     "start_time": "2022-09-23T14:27:21.846445Z"
    }
   },
   "outputs": [
    {
     "data": {
      "text/plain": [
       "array([[8.86130922e-01, 1.13869078e-01],\n",
       "       [6.17766286e-04, 9.99382234e-01],\n",
       "       [9.80558072e-01, 1.94419276e-02],\n",
       "       ...,\n",
       "       [6.68219736e-01, 3.31780264e-01],\n",
       "       [3.33224156e-01, 6.66775844e-01],\n",
       "       [4.04331495e-01, 5.95668505e-01]])"
      ]
     },
     "execution_count": 29,
     "metadata": {},
     "output_type": "execute_result"
    }
   ],
   "source": [
    "model.predict_proba(X_train)"
   ]
  },
  {
   "cell_type": "code",
   "execution_count": 30,
   "id": "fa7ff811",
   "metadata": {
    "ExecuteTime": {
     "end_time": "2022-09-23T14:27:21.876483Z",
     "start_time": "2022-09-23T14:27:21.862485Z"
    }
   },
   "outputs": [
    {
     "data": {
      "text/plain": [
       "{'bedrooms_per_room': array([ 1.13420e-01,  4.04000e-03,  3.57200e-02,  1.02630e-01,\n",
       "         8.27400e-02,  1.19639e+00,  4.52130e-01, -1.59851e+00,\n",
       "         1.19100e-02,  3.09190e-01,  7.63020e-01, -1.63000e-03,\n",
       "         1.04800e-02, -1.36700e-02,  1.81000e-03, -1.50000e-04])}"
      ]
     },
     "execution_count": 30,
     "metadata": {},
     "output_type": "execute_result"
    }
   ],
   "source": [
    "dict(zip(dv.get_feature_names(), model.coef_.round(5)))"
   ]
  },
  {
   "cell_type": "markdown",
   "id": "daac1f3e",
   "metadata": {},
   "source": [
    "### Answer = 0.84"
   ]
  },
  {
   "cell_type": "markdown",
   "id": "48b25c99",
   "metadata": {},
   "source": [
    "### Question 5 \n",
    "\n",
    "* Let's find the least useful feature using the *feature elimination* technique.\n",
    "* Train a model with all these features (using the same parameters as in Q4).\n",
    "* Now exclude each feature from this set and train a model without it. Record the accuracy for each model.\n",
    "* For each feature, calculate the difference between the original accuracy and the accuracy without the feature. \n",
    "* Which of following feature has the smallest difference? \n",
    "   * `total_rooms`\n",
    "   * `total_bedrooms` \n",
    "   * `population`\n",
    "   * `households`\n",
    "\n",
    "> **note**: the difference doesn't have to be positive"
   ]
  },
  {
   "cell_type": "code",
   "execution_count": 31,
   "id": "9c461939",
   "metadata": {
    "ExecuteTime": {
     "end_time": "2022-09-23T14:27:21.891483Z",
     "start_time": "2022-09-23T14:27:21.878482Z"
    }
   },
   "outputs": [
    {
     "data": {
      "text/plain": [
       "numpy.ndarray"
      ]
     },
     "execution_count": 31,
     "metadata": {},
     "output_type": "execute_result"
    }
   ],
   "source": [
    "type(X_train)"
   ]
  },
  {
   "cell_type": "code",
   "execution_count": 32,
   "id": "9e9af0ed",
   "metadata": {
    "ExecuteTime": {
     "end_time": "2022-09-23T14:27:28.831431Z",
     "start_time": "2022-09-23T14:27:21.892445Z"
    }
   },
   "outputs": [],
   "source": [
    "orig_score = accuracy\n",
    "\n",
    "differences = {}\n",
    "features = list(df_train.columns.copy())\n",
    "for col in features:\n",
    "    subset = features.copy()\n",
    "    subset.remove(col)\n",
    "    train_dict = df_train[subset].to_dict(orient='records')\n",
    "    val_dict = df_val[subset].to_dict(orient='records')\n",
    "    # sparse - is a matrix that is comprised of mostly zero values.\n",
    "    dv = DictVectorizer(sparse=False)\n",
    "    dv.fit(train_dict)\n",
    "    X_train = dv.transform(train_dict)\n",
    "    X_val = dv.transform(val_dict)\n",
    "    \n",
    "    model = LogisticRegression(solver=\"liblinear\", C=1.0, max_iter=1000, random_state=42)\n",
    "    model.fit(X_train, y_train)\n",
    "\n",
    "    y_pred = model.predict(X_val)\n",
    "    accuracy = accuracy_score(y_val, y_pred)\n",
    "    differences[col] = orig_score - accuracy"
   ]
  },
  {
   "cell_type": "code",
   "execution_count": 33,
   "id": "b12305ed",
   "metadata": {
    "ExecuteTime": {
     "end_time": "2022-09-23T14:27:28.847129Z",
     "start_time": "2022-09-23T14:27:28.833126Z"
    },
    "scrolled": true
   },
   "outputs": [
    {
     "data": {
      "text/plain": [
       "[('total_bedrooms', -0.001211240310077577),\n",
       " ('bedrooms_per_room', -0.00024224806201555982),\n",
       " ('total_rooms', -0.00024224806201555982),\n",
       " ('population_per_household', 0.0002422480620154488),\n",
       " ('rooms_per_household', 0.0007267441860464574),\n",
       " ('households', 0.0019379844961240345),\n",
       " ('latitude', 0.003633720930232509),\n",
       " ('longitude', 0.004118217054263518),\n",
       " ('housing_median_age', 0.0043604651162790775),\n",
       " ('population', 0.009689922480620172),\n",
       " ('ocean_proximity', 0.015746124031007724),\n",
       " ('median_income', 0.050629844961240345)]"
      ]
     },
     "execution_count": 33,
     "metadata": {},
     "output_type": "execute_result"
    }
   ],
   "source": [
    "sorted(differences.items(), key=lambda x: x[1])"
   ]
  },
  {
   "cell_type": "markdown",
   "id": "f1fcb091",
   "metadata": {},
   "source": [
    "### Answer = 'total rooms'"
   ]
  },
  {
   "cell_type": "markdown",
   "id": "0555de6b",
   "metadata": {},
   "source": [
    "## Question 6\n",
    "\n",
    "* For this question, we'll see how to use a linear regression model from Scikit-Learn\n",
    "* We'll need to use the original column `'median_house_value'`. Apply the logarithmic transformation to this column.\n",
    "* Fit the Ridge regression model (`model = Ridge(alpha=a, solver=\"sag\", random_state=42)`) on the training data.\n",
    "* This model has a parameter `alpha`. Let's try the following values: `[0, 0.01, 0.1, 1, 10]`\n",
    "* Which of these alphas leads to the best RMSE on the validation set? Round your RMSE scores to 3 decimal digits.\n",
    "\n",
    "If there are multiple options, select the smallest `alpha`."
   ]
  },
  {
   "cell_type": "code",
   "execution_count": 34,
   "id": "f2d74518",
   "metadata": {
    "ExecuteTime": {
     "end_time": "2022-09-23T14:27:28.862128Z",
     "start_time": "2022-09-23T14:27:28.851132Z"
    }
   },
   "outputs": [],
   "source": [
    "df['median_house_value']=np.log1p(df['median_house_value'])"
   ]
  },
  {
   "cell_type": "code",
   "execution_count": 35,
   "id": "903d6249",
   "metadata": {
    "ExecuteTime": {
     "end_time": "2022-09-23T14:27:28.893711Z",
     "start_time": "2022-09-23T14:27:28.865128Z"
    }
   },
   "outputs": [],
   "source": [
    "df_full_train, df_test = train_test_split(\n",
    "    df[(df.columns.difference(['above_average']))], test_size=.2, random_state=42)"
   ]
  },
  {
   "cell_type": "code",
   "execution_count": 36,
   "id": "a18cec60",
   "metadata": {
    "ExecuteTime": {
     "end_time": "2022-09-23T14:27:28.909750Z",
     "start_time": "2022-09-23T14:27:28.897712Z"
    }
   },
   "outputs": [],
   "source": [
    "df_train, df_val = train_test_split(df_full_train, test_size=.25, random_state=42)"
   ]
  },
  {
   "cell_type": "code",
   "execution_count": 37,
   "id": "d79169a5",
   "metadata": {
    "ExecuteTime": {
     "end_time": "2022-09-23T14:27:28.925748Z",
     "start_time": "2022-09-23T14:27:28.912710Z"
    }
   },
   "outputs": [],
   "source": [
    "y_train, y_val, y_test = df_train['median_house_value'], df_val['median_house_value'], df_test['median_house_value']\n",
    "for df_ in [df_train, df_val, df_test]:\n",
    "    del df_['median_house_value']  "
   ]
  },
  {
   "cell_type": "code",
   "execution_count": 38,
   "id": "25c72e33",
   "metadata": {
    "ExecuteTime": {
     "end_time": "2022-09-23T14:27:29.236401Z",
     "start_time": "2022-09-23T14:27:28.928719Z"
    }
   },
   "outputs": [],
   "source": [
    "train_dict = df_train.iloc[:].to_dict(orient='records')\n",
    "val_dict = df_val.to_dict(orient='records')"
   ]
  },
  {
   "cell_type": "code",
   "execution_count": 39,
   "id": "409a6b8b",
   "metadata": {
    "ExecuteTime": {
     "end_time": "2022-09-23T14:27:29.376011Z",
     "start_time": "2022-09-23T14:27:29.238436Z"
    }
   },
   "outputs": [
    {
     "data": {
      "text/plain": [
       "DictVectorizer(sparse=False)"
      ]
     },
     "execution_count": 39,
     "metadata": {},
     "output_type": "execute_result"
    }
   ],
   "source": [
    "# sparse - is a matrix that is comprised of mostly zero values.\n",
    "dv = DictVectorizer(sparse=False)\n",
    "dv.fit(train_dict)"
   ]
  },
  {
   "cell_type": "code",
   "execution_count": 40,
   "id": "3e5b0fdc",
   "metadata": {
    "ExecuteTime": {
     "end_time": "2022-09-23T14:27:29.532384Z",
     "start_time": "2022-09-23T14:27:29.379010Z"
    }
   },
   "outputs": [],
   "source": [
    "X_train = dv.transform(train_dict)\n",
    "X_val = dv.transform(val_dict)"
   ]
  },
  {
   "cell_type": "code",
   "execution_count": 41,
   "id": "28392258",
   "metadata": {
    "ExecuteTime": {
     "end_time": "2022-09-23T14:27:29.548424Z",
     "start_time": "2022-09-23T14:27:29.534411Z"
    }
   },
   "outputs": [],
   "source": [
    "from sklearn.linear_model import Ridge\n",
    "from sklearn.metrics import mean_squared_error"
   ]
  },
  {
   "cell_type": "code",
   "execution_count": 42,
   "id": "c84e011b",
   "metadata": {
    "ExecuteTime": {
     "end_time": "2022-09-23T14:27:41.872999Z",
     "start_time": "2022-09-23T14:27:29.550388Z"
    }
   },
   "outputs": [
    {
     "name": "stdout",
     "output_type": "stream",
     "text": [
      "0 0.275\n",
      "0.01 0.275\n",
      "0.1 0.275\n",
      "1 0.275\n",
      "10 0.275\n"
     ]
    }
   ],
   "source": [
    "for a in [0, 0.01, 0.1, 1, 10]:\n",
    "    model = Ridge(alpha=a, solver=\"sag\", random_state=42)\n",
    "    model.fit(X_train, y_train)\n",
    "\n",
    "    y_pred = model.predict(X_val)\n",
    "\n",
    "    rmse = mean_squared_error(y_val, y_pred, squared=True)\n",
    "    print(a, round(rmse, 3))"
   ]
  },
  {
   "cell_type": "code",
   "execution_count": 43,
   "id": "d0548e70",
   "metadata": {
    "ExecuteTime": {
     "end_time": "2022-09-23T14:27:41.888021Z",
     "start_time": "2022-09-23T14:27:41.876000Z"
    }
   },
   "outputs": [
    {
     "data": {
      "text/plain": [
       "array([-1.23535851e-05,  1.46792452e-03,  3.78849037e-03, -1.62015918e-03,\n",
       "        1.30099914e-04,  3.16742060e-03,  5.93558621e-04, -8.77043886e-04,\n",
       "        1.00095081e-06,  1.31615066e-04,  1.50869249e-04, -2.80754944e-04,\n",
       "        4.18390805e-04,  6.00905306e-04, -1.43943760e-03,  1.96864724e-04])"
      ]
     },
     "execution_count": 43,
     "metadata": {},
     "output_type": "execute_result"
    }
   ],
   "source": [
    "model.coef_"
   ]
  },
  {
   "cell_type": "code",
   "execution_count": 44,
   "id": "cb5d11ea",
   "metadata": {
    "ExecuteTime": {
     "end_time": "2022-09-23T14:27:41.904004Z",
     "start_time": "2022-09-23T14:27:41.891006Z"
    }
   },
   "outputs": [
    {
     "data": {
      "text/plain": [
       "11.956075603133666"
      ]
     },
     "execution_count": 44,
     "metadata": {},
     "output_type": "execute_result"
    }
   ],
   "source": [
    "model.intercept_"
   ]
  },
  {
   "cell_type": "code",
   "execution_count": 45,
   "id": "f84553a7",
   "metadata": {
    "ExecuteTime": {
     "end_time": "2022-09-23T14:27:41.934998Z",
     "start_time": "2022-09-23T14:27:41.909021Z"
    },
    "scrolled": true
   },
   "outputs": [
    {
     "data": {
      "text/plain": [
       "array([11.93969303, 12.62428837, 12.10885983, ..., 12.08779275,\n",
       "       12.06835275, 12.07351078])"
      ]
     },
     "execution_count": 45,
     "metadata": {},
     "output_type": "execute_result"
    }
   ],
   "source": [
    "model.predict(X_train)"
   ]
  },
  {
   "cell_type": "markdown",
   "id": "ee602d78",
   "metadata": {},
   "source": [
    "### Answer = 0"
   ]
  }
 ],
 "metadata": {
  "hide_input": false,
  "kernelspec": {
   "display_name": "Python 3",
   "language": "python",
   "name": "python3"
  },
  "language_info": {
   "codemirror_mode": {
    "name": "ipython",
    "version": 3
   },
   "file_extension": ".py",
   "mimetype": "text/x-python",
   "name": "python",
   "nbconvert_exporter": "python",
   "pygments_lexer": "ipython3",
   "version": "3.8.5"
  },
  "toc": {
   "base_numbering": 1,
   "nav_menu": {},
   "number_sections": true,
   "sideBar": true,
   "skip_h1_title": false,
   "title_cell": "Table of Contents",
   "title_sidebar": "Contents",
   "toc_cell": false,
   "toc_position": {},
   "toc_section_display": true,
   "toc_window_display": false
  },
  "varInspector": {
   "cols": {
    "lenName": 16,
    "lenType": 16,
    "lenVar": 40
   },
   "kernels_config": {
    "python": {
     "delete_cmd_postfix": "",
     "delete_cmd_prefix": "del ",
     "library": "var_list.py",
     "varRefreshCmd": "print(var_dic_list())"
    },
    "r": {
     "delete_cmd_postfix": ") ",
     "delete_cmd_prefix": "rm(",
     "library": "var_list.r",
     "varRefreshCmd": "cat(var_dic_list()) "
    }
   },
   "types_to_exclude": [
    "module",
    "function",
    "builtin_function_or_method",
    "instance",
    "_Feature"
   ],
   "window_display": false
  }
 },
 "nbformat": 4,
 "nbformat_minor": 5
}
