{
 "cells": [
  {
   "cell_type": "markdown",
   "id": "131cf2af",
   "metadata": {},
   "source": [
    "# Task\n",
    "In this homework, we'll build a model for predicting if we have an image of a dino or a dragon. For this, we will use the \"Dino or Dragon?\" dataset that can be downloaded from [Kaggle](https://www.kaggle.com/datasets/agrigorev/dino-or-dragon). \n",
    "\n",
    "In the lectures we saw how to use a pre-trained neural network. In the homework, we'll train a much smaller model from scratch. \n",
    "\n",
    "**Note:** You will need an environment with a GPU for this homework. We recommend to use [Saturn Cloud](https://bit.ly/saturn-mlzoomcamp). \n",
    "You can also use a computer without a GPU (e.g. your laptop), but it will be slower."
   ]
  },
  {
   "cell_type": "code",
   "execution_count": 27,
   "id": "1d5a091d",
   "metadata": {},
   "outputs": [],
   "source": [
    "import os\n",
    "import shutil\n",
    "\n",
    "import numpy as np\n",
    "import matplotlib.pyplot as plt"
   ]
  },
  {
   "cell_type": "code",
   "execution_count": 28,
   "id": "bc12b92a",
   "metadata": {},
   "outputs": [],
   "source": [
    "from tensorflow import keras\n",
    "\n",
    "from tensorflow.keras import layers\n",
    "from tensorflow.keras import models\n",
    "from tensorflow.keras import optimizers\n",
    "\n",
    "from tensorflow.keras.preprocessing.image import ImageDataGenerator"
   ]
  },
  {
   "cell_type": "code",
   "execution_count": 29,
   "id": "af0b8a3f",
   "metadata": {},
   "outputs": [
    {
     "data": {
      "text/plain": [
       "'2.10.0'"
      ]
     },
     "execution_count": 29,
     "metadata": {},
     "output_type": "execute_result"
    }
   ],
   "source": [
    "import tensorflow\n",
    "tensorflow.__version__"
   ]
  },
  {
   "cell_type": "markdown",
   "id": "f139a56c",
   "metadata": {},
   "source": [
    "# Data preparation\n",
    "The dataset contains around 1900 images of dinos and around 1900 images of dragons. \n",
    "\n",
    "The dataset contains separate folders for training and validation. "
   ]
  },
  {
   "cell_type": "code",
   "execution_count": 30,
   "id": "a91dd8c5",
   "metadata": {},
   "outputs": [],
   "source": [
    "train_dir = 'data/train'\n",
    "val_dir = 'data/test'"
   ]
  },
  {
   "cell_type": "markdown",
   "id": "59fbc007",
   "metadata": {},
   "source": [
    "# Model\n",
    "For this homework we will use Convolutional Neural Network (CNN). Like in the lectures, we'll use Keras.\n",
    "\n",
    "You need to develop the model with following structure:\n",
    "\n",
    "* The shape for input should be `(150, 150, 3)`\n",
    "* Next, create a convolutional layer ([`Conv2D`](https://keras.io/api/layers/convolution_layers/convolution2d/)):\n",
    "    * Use 32 filters\n",
    "    * Kernel size should be `(3, 3)` (that's the size of the filter)\n",
    "    * Use `'relu'` as activation \n",
    "* Reduce the size of the feature map with max pooling ([`MaxPooling2D`](https://keras.io/api/layers/pooling_layers/max_pooling2d/))\n",
    "    * Set the pooling size to `(2, 2)`\n",
    "* Turn the multi-dimensional result into vectors using a [`Flatten`](https://keras.io/api/layers/reshaping_layers/flatten/) layer\n",
    "* Next, add a `Dense` layer with 64 neurons and `'relu'` activation\n",
    "* Finally, create the `Dense` layer with 1 neuron - this will be the output\n",
    "    * The output layer should have an activation - use the appropriate activation for the binary classification case\n",
    "\n",
    "As optimizer use [`SGD`](https://keras.io/api/optimizers/sgd/) with the following parameters:\n",
    "\n",
    "* `SGD(lr=0.002, momentum=0.8)`\n",
    "\n",
    "For clarification about kernel size and max pooling, check [Office Hours](https://www.youtube.com/watch?v=1WRgdBTUaAc)."
   ]
  },
  {
   "cell_type": "code",
   "execution_count": 31,
   "id": "e0d0ed45",
   "metadata": {},
   "outputs": [],
   "source": [
    "model = models.Sequential()\n",
    "\n",
    "model.add(layers.Conv2D(32, (3, 3),\n",
    "                        activation='relu',\n",
    "                        input_shape=(150, 150, 3)))\n",
    "model.add(layers.MaxPooling2D((2, 2)))\n",
    "model.add(layers.Flatten())\n",
    "model.add(layers.Dense(64, activation='relu'))\n",
    "model.add(layers.Dense(1, activation='sigmoid'))"
   ]
  },
  {
   "cell_type": "code",
   "execution_count": 32,
   "id": "3ff93ad3",
   "metadata": {},
   "outputs": [],
   "source": [
    "model.compile(loss='binary_crossentropy',\n",
    "              optimizer=optimizers.SGD(learning_rate=0.002, momentum=0.8), \n",
    "              metrics=['acc'])"
   ]
  },
  {
   "cell_type": "markdown",
   "id": "71735dad",
   "metadata": {},
   "source": [
    "# Question 1\n",
    "Since we have a binary classification problem, what is the best loss function for us?\n",
    "\n",
    "- `binary crossentropy` [X]\n",
    "- `focal loss`\n",
    "- `mean squared error`\n",
    "- `categorical crossentropy`\n",
    "\n",
    "Note: since we specify an activation for the output layer, we don't need to set `from_logits=True`"
   ]
  },
  {
   "cell_type": "markdown",
   "id": "76691aac",
   "metadata": {},
   "source": [
    "# Question 2\n",
    "What's the total number of parameters of the model? You can use the `summary` method for that. \n",
    "\n",
    "- 9215873\n",
    "- 11215873 [X]\n",
    "- 14215873\n",
    "- 19215873"
   ]
  },
  {
   "cell_type": "code",
   "execution_count": 33,
   "id": "fa0556a3",
   "metadata": {},
   "outputs": [
    {
     "name": "stdout",
     "output_type": "stream",
     "text": [
      "Model: \"sequential_1\"\n",
      "_________________________________________________________________\n",
      " Layer (type)                Output Shape              Param #   \n",
      "=================================================================\n",
      " conv2d_1 (Conv2D)           (None, 148, 148, 32)      896       \n",
      "                                                                 \n",
      " max_pooling2d_1 (MaxPooling  (None, 74, 74, 32)       0         \n",
      " 2D)                                                             \n",
      "                                                                 \n",
      " flatten_1 (Flatten)         (None, 175232)            0         \n",
      "                                                                 \n",
      " dense_2 (Dense)             (None, 64)                11214912  \n",
      "                                                                 \n",
      " dense_3 (Dense)             (None, 1)                 65        \n",
      "                                                                 \n",
      "=================================================================\n",
      "Total params: 11,215,873\n",
      "Trainable params: 11,215,873\n",
      "Non-trainable params: 0\n",
      "_________________________________________________________________\n"
     ]
    }
   ],
   "source": [
    "model.summary()"
   ]
  },
  {
   "cell_type": "markdown",
   "id": "1f4760dc",
   "metadata": {},
   "source": [
    "# Generators and Training\n",
    "For the next two questions, use the following data generator for both train and validation:\n",
    "\n",
    "```python\n",
    "ImageDataGenerator(rescale=1./255)\n",
    "```\n",
    "\n",
    "* We don't need to do any additional pre-processing for the images.\n",
    "* When reading the data from train/val directories, check the `class_mode` parameter. Which value should it be for a binary classification problem?\n",
    "* Use `batch_size=20`\n",
    "* Use `shuffle=True` for both training and validation \n",
    "\n",
    "For training use `.fit()` with the following params:\n",
    "\n",
    "```python\n",
    "model.fit(\n",
    "    train_generator,\n",
    "    epochs=10,\n",
    "    validation_data=validation_generator\n",
    ")\n",
    "```"
   ]
  },
  {
   "cell_type": "code",
   "execution_count": 34,
   "id": "db43f095",
   "metadata": {},
   "outputs": [],
   "source": [
    "train_datagen = ImageDataGenerator(rescale=1./255)\n",
    "val_datagen = ImageDataGenerator(rescale=1./255)"
   ]
  },
  {
   "cell_type": "code",
   "execution_count": 35,
   "id": "33ce6674",
   "metadata": {},
   "outputs": [
    {
     "name": "stdout",
     "output_type": "stream",
     "text": [
      "Found 1594 images belonging to 2 classes.\n"
     ]
    }
   ],
   "source": [
    "train_generator = train_datagen.flow_from_directory(train_dir,\n",
    "                                                    target_size=(150, 150),\n",
    "                                                    batch_size=20,\n",
    "                                                    shuffle=True,\n",
    "                                                    class_mode='binary')"
   ]
  },
  {
   "cell_type": "code",
   "execution_count": 36,
   "id": "01aadccb",
   "metadata": {},
   "outputs": [
    {
     "name": "stdout",
     "output_type": "stream",
     "text": [
      "Found 394 images belonging to 2 classes.\n"
     ]
    }
   ],
   "source": [
    "val_generator = val_datagen.flow_from_directory(test_dir,\n",
    "                                                target_size=(150, 150),\n",
    "                                                batch_size=20,\n",
    "                                                shuffle=True,\n",
    "                                                class_mode='binary')"
   ]
  },
  {
   "cell_type": "code",
   "execution_count": 37,
   "id": "dd4c0e78",
   "metadata": {},
   "outputs": [
    {
     "name": "stdout",
     "output_type": "stream",
     "text": [
      "data batch shape: (20, 150, 150, 3)\n",
      "labels batch shape: (20,)\n"
     ]
    }
   ],
   "source": [
    "for data_batch, labels_batch in train_generator:\n",
    "    print('data batch shape:', data_batch.shape)\n",
    "    print('labels batch shape:', labels_batch.shape)\n",
    "    break"
   ]
  },
  {
   "cell_type": "code",
   "execution_count": 38,
   "id": "92da1b00",
   "metadata": {},
   "outputs": [
    {
     "name": "stdout",
     "output_type": "stream",
     "text": [
      "Epoch 1/10\n",
      "80/80 [==============================] - 15s 177ms/step - loss: 0.5568 - acc: 0.7077 - val_loss: 0.4166 - val_acc: 0.8401\n",
      "Epoch 2/10\n",
      "80/80 [==============================] - 14s 169ms/step - loss: 0.4078 - acc: 0.8287 - val_loss: 0.3628 - val_acc: 0.8579\n",
      "Epoch 3/10\n",
      "80/80 [==============================] - 14s 169ms/step - loss: 0.3382 - acc: 0.8651 - val_loss: 0.3401 - val_acc: 0.8579\n",
      "Epoch 4/10\n",
      "80/80 [==============================] - 14s 172ms/step - loss: 0.2883 - acc: 0.8883 - val_loss: 0.3060 - val_acc: 0.8832\n",
      "Epoch 5/10\n",
      "80/80 [==============================] - 14s 171ms/step - loss: 0.2744 - acc: 0.8864 - val_loss: 0.2913 - val_acc: 0.8680\n",
      "Epoch 6/10\n",
      "80/80 [==============================] - 14s 172ms/step - loss: 0.2243 - acc: 0.9115 - val_loss: 0.2750 - val_acc: 0.8807\n",
      "Epoch 7/10\n",
      "80/80 [==============================] - 14s 170ms/step - loss: 0.2003 - acc: 0.9310 - val_loss: 0.2694 - val_acc: 0.8807\n",
      "Epoch 8/10\n",
      "80/80 [==============================] - 14s 170ms/step - loss: 0.1843 - acc: 0.9348 - val_loss: 0.2975 - val_acc: 0.8706\n",
      "Epoch 9/10\n",
      "80/80 [==============================] - 14s 173ms/step - loss: 0.1450 - acc: 0.9592 - val_loss: 0.2704 - val_acc: 0.8832\n",
      "Epoch 10/10\n",
      "80/80 [==============================] - 14s 174ms/step - loss: 0.1348 - acc: 0.9592 - val_loss: 0.2670 - val_acc: 0.8858\n"
     ]
    }
   ],
   "source": [
    "history = model.fit(\n",
    "    train_generator,\n",
    "    epochs=10,\n",
    "    validation_data=val_generator)"
   ]
  },
  {
   "cell_type": "code",
   "execution_count": 39,
   "id": "bb18553b",
   "metadata": {},
   "outputs": [],
   "source": [
    "acc = history.history['acc']\n",
    "val_acc = history.history['val_acc']\n",
    "loss = history.history['loss']\n",
    "val_loss = history.history['val_loss']"
   ]
  },
  {
   "cell_type": "markdown",
   "id": "240290b5",
   "metadata": {},
   "source": [
    "# Question 3\n",
    "What is the median of training accuracy for all the epochs for this model?\n",
    "\n",
    "- 0.40\n",
    "- 0.60\n",
    "- 0.90 [X]\n",
    "- 0.20\n"
   ]
  },
  {
   "cell_type": "code",
   "execution_count": 40,
   "id": "1aaad638",
   "metadata": {},
   "outputs": [
    {
     "data": {
      "text/plain": [
       "0.8999372720718384"
      ]
     },
     "execution_count": 40,
     "metadata": {},
     "output_type": "execute_result"
    }
   ],
   "source": [
    "acc_median = np.median(acc)\n",
    "acc_median"
   ]
  },
  {
   "cell_type": "markdown",
   "id": "fe4e7881",
   "metadata": {},
   "source": [
    "# Question 4\n",
    "What is the standard deviation of training loss for all the epochs for this model?\n",
    "\n",
    "- 0.11 [X]\n",
    "- 0.66\n",
    "- 0.99\n",
    "- 0.33"
   ]
  },
  {
   "cell_type": "code",
   "execution_count": 41,
   "id": "e48c21c7",
   "metadata": {},
   "outputs": [
    {
     "data": {
      "text/plain": [
       "0.1241493000804223"
      ]
     },
     "execution_count": 41,
     "metadata": {},
     "output_type": "execute_result"
    }
   ],
   "source": [
    "loss_std = np.std(loss)\n",
    "loss_std"
   ]
  },
  {
   "cell_type": "markdown",
   "id": "1973dc24",
   "metadata": {},
   "source": [
    "# Data Augmentation\n",
    "For the next two questions, we'll generate more data using data augmentations. \n",
    "\n",
    "Add the following augmentations to your training data generator:\n",
    "\n",
    "* `rotation_range=40,`\n",
    "* `width_shift_range=0.2,`\n",
    "* `height_shift_range=0.2,`\n",
    "* `shear_range=0.2,`\n",
    "* `zoom_range=0.2,`\n",
    "* `horizontal_flip=True,`\n",
    "* `fill_mode='nearest'`"
   ]
  },
  {
   "cell_type": "code",
   "execution_count": 42,
   "id": "c4fbc25b",
   "metadata": {},
   "outputs": [],
   "source": [
    "datagen = ImageDataGenerator(\n",
    "    rotation_range=40,\n",
    "    width_shift_range=0.2,\n",
    "    height_shift_range=0.2,\n",
    "    shear_range=0.2,\n",
    "    zoom_range=0.2,\n",
    "    horizontal_flip=True,\n",
    "    fill_mode='nearest')"
   ]
  },
  {
   "cell_type": "code",
   "execution_count": null,
   "id": "5ad1d606",
   "metadata": {},
   "outputs": [],
   "source": []
  },
  {
   "cell_type": "markdown",
   "id": "31bca667",
   "metadata": {},
   "source": [
    "# Question 5\n",
    "Let's train our model for 10 more epochs using the same code as previously.\n",
    "Make sure you don't re-create the model - we want to continue training the model\n",
    "we already started training.\n",
    "\n",
    "What is the mean of validation loss for all the epochs for the model trained with augmentations?\n",
    "\n",
    "- 0.15\n",
    "- 0.77\n",
    "- 0.37\n",
    "- 0.97"
   ]
  },
  {
   "cell_type": "markdown",
   "id": "5809707c",
   "metadata": {},
   "source": [
    "# Question 6\n",
    "What's the average of validation accuracy for the last 5 epochs (from 6 to 10)\n",
    "for the model trained with augmentations?\n",
    "\n",
    "- 0.84\n",
    "- 0.54\n",
    "- 0.44\n",
    "- 0.24"
   ]
  }
 ],
 "metadata": {
  "kernelspec": {
   "display_name": "Python 3 (ipykernel)",
   "language": "python",
   "name": "python3"
  },
  "language_info": {
   "codemirror_mode": {
    "name": "ipython",
    "version": 3
   },
   "file_extension": ".py",
   "mimetype": "text/x-python",
   "name": "python",
   "nbconvert_exporter": "python",
   "pygments_lexer": "ipython3",
   "version": "3.9.13"
  }
 },
 "nbformat": 4,
 "nbformat_minor": 5
}
