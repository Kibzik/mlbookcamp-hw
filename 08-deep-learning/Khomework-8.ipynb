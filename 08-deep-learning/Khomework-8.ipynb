{
 "cells": [
  {
   "cell_type": "markdown",
   "id": "131cf2af",
   "metadata": {},
   "source": [
    "# Task\n",
    "In this homework, we'll build a model for predicting if we have an image of a dino or a dragon. For this, we will use the \"Dino or Dragon?\" dataset that can be downloaded from [Kaggle](https://www.kaggle.com/datasets/agrigorev/dino-or-dragon). \n",
    "\n",
    "In the lectures we saw how to use a pre-trained neural network. In the homework, we'll train a much smaller model from scratch. \n",
    "\n",
    "**Note:** You will need an environment with a GPU for this homework. We recommend to use [Saturn Cloud](https://bit.ly/saturn-mlzoomcamp). \n",
    "You can also use a computer without a GPU (e.g. your laptop), but it will be slower."
   ]
  },
  {
   "cell_type": "code",
   "execution_count": 1,
   "id": "1d5a091d",
   "metadata": {},
   "outputs": [],
   "source": [
    "import os\n",
    "import numpy as np\n",
    "import tensorflow as tf\n",
    "\n",
    "from tensorflow import keras\n",
    "from tensorflow.keras import models, layers, optimizers\n",
    "from tensorflow.keras.preprocessing.image import load_img, ImageDataGenerator"
   ]
  },
  {
   "cell_type": "code",
   "execution_count": 2,
   "id": "af0b8a3f",
   "metadata": {},
   "outputs": [
    {
     "data": {
      "text/plain": [
       "'2.10.0'"
      ]
     },
     "execution_count": 2,
     "metadata": {},
     "output_type": "execute_result"
    }
   ],
   "source": [
    "import tensorflow\n",
    "tensorflow.__version__"
   ]
  },
  {
   "cell_type": "markdown",
   "id": "f139a56c",
   "metadata": {},
   "source": [
    "# Data preparation\n",
    "The dataset contains around 1900 images of dinos and around 1900 images of dragons. \n",
    "\n",
    "The dataset contains separate folders for training and validation. "
   ]
  },
  {
   "cell_type": "code",
   "execution_count": 3,
   "id": "a91dd8c5",
   "metadata": {},
   "outputs": [],
   "source": [
    "train_dir = 'data/train'\n",
    "val_dir = 'data/test'"
   ]
  },
  {
   "cell_type": "markdown",
   "id": "59fbc007",
   "metadata": {},
   "source": [
    "# Model\n",
    "For this homework we will use Convolutional Neural Network (CNN). Like in the lectures, we'll use Keras.\n",
    "\n",
    "You need to develop the model with following structure:\n",
    "\n",
    "* The shape for input should be `(150, 150, 3)`\n",
    "* Next, create a convolutional layer ([`Conv2D`](https://keras.io/api/layers/convolution_layers/convolution2d/)):\n",
    "    * Use 32 filters\n",
    "    * Kernel size should be `(3, 3)` (that's the size of the filter)\n",
    "    * Use `'relu'` as activation \n",
    "* Reduce the size of the feature map with max pooling ([`MaxPooling2D`](https://keras.io/api/layers/pooling_layers/max_pooling2d/))\n",
    "    * Set the pooling size to `(2, 2)`\n",
    "* Turn the multi-dimensional result into vectors using a [`Flatten`](https://keras.io/api/layers/reshaping_layers/flatten/) layer\n",
    "* Next, add a `Dense` layer with 64 neurons and `'relu'` activation\n",
    "* Finally, create the `Dense` layer with 1 neuron - this will be the output\n",
    "    * The output layer should have an activation - use the appropriate activation for the binary classification case\n",
    "\n",
    "As optimizer use [`SGD`](https://keras.io/api/optimizers/sgd/) with the following parameters:\n",
    "\n",
    "* `SGD(lr=0.002, momentum=0.8)`\n",
    "\n",
    "For clarification about kernel size and max pooling, check [Office Hours](https://www.youtube.com/watch?v=1WRgdBTUaAc)."
   ]
  },
  {
   "cell_type": "code",
   "execution_count": 4,
   "id": "e0d0ed45",
   "metadata": {},
   "outputs": [],
   "source": [
    "model = models.Sequential()\n",
    "\n",
    "model.add(layers.Conv2D(32, (3, 3),\n",
    "                        activation='relu',\n",
    "                        input_shape=(150, 150, 3)))\n",
    "model.add(layers.MaxPooling2D((2, 2)))\n",
    "model.add(layers.Flatten())\n",
    "model.add(layers.Dense(64, activation='relu'))\n",
    "model.add(layers.Dense(1, activation='sigmoid'))"
   ]
  },
  {
   "cell_type": "code",
   "execution_count": 5,
   "id": "3ff93ad3",
   "metadata": {},
   "outputs": [],
   "source": [
    "model.compile(loss='binary_crossentropy',\n",
    "              optimizer=optimizers.SGD(learning_rate=0.002, momentum=0.8), \n",
    "              metrics=['acc'])"
   ]
  },
  {
   "cell_type": "markdown",
   "id": "71735dad",
   "metadata": {},
   "source": [
    "# Question 1\n",
    "Since we have a binary classification problem, what is the best loss function for us?\n",
    "\n",
    "- `binary crossentropy` [X]\n",
    "- `focal loss`\n",
    "- `mean squared error`\n",
    "- `categorical crossentropy`\n",
    "\n",
    "Note: since we specify an activation for the output layer, we don't need to set `from_logits=True`"
   ]
  },
  {
   "cell_type": "markdown",
   "id": "76691aac",
   "metadata": {},
   "source": [
    "# Question 2\n",
    "What's the total number of parameters of the model? You can use the `summary` method for that. \n",
    "\n",
    "- 9215873\n",
    "- 11215873 [X]\n",
    "- 14215873\n",
    "- 19215873"
   ]
  },
  {
   "cell_type": "code",
   "execution_count": 6,
   "id": "fa0556a3",
   "metadata": {},
   "outputs": [
    {
     "name": "stdout",
     "output_type": "stream",
     "text": [
      "Model: \"sequential\"\n",
      "_________________________________________________________________\n",
      " Layer (type)                Output Shape              Param #   \n",
      "=================================================================\n",
      " conv2d (Conv2D)             (None, 148, 148, 32)      896       \n",
      "                                                                 \n",
      " max_pooling2d (MaxPooling2D  (None, 74, 74, 32)       0         \n",
      " )                                                               \n",
      "                                                                 \n",
      " flatten (Flatten)           (None, 175232)            0         \n",
      "                                                                 \n",
      " dense (Dense)               (None, 64)                11214912  \n",
      "                                                                 \n",
      " dense_1 (Dense)             (None, 1)                 65        \n",
      "                                                                 \n",
      "=================================================================\n",
      "Total params: 11,215,873\n",
      "Trainable params: 11,215,873\n",
      "Non-trainable params: 0\n",
      "_________________________________________________________________\n"
     ]
    }
   ],
   "source": [
    "model.summary()"
   ]
  },
  {
   "cell_type": "markdown",
   "id": "1f4760dc",
   "metadata": {},
   "source": [
    "# Generators and Training\n",
    "For the next two questions, use the following data generator for both train and validation:\n",
    "\n",
    "```python\n",
    "ImageDataGenerator(rescale=1./255)\n",
    "```\n",
    "\n",
    "* We don't need to do any additional pre-processing for the images.\n",
    "* When reading the data from train/val directories, check the `class_mode` parameter. Which value should it be for a binary classification problem?\n",
    "* Use `batch_size=20`\n",
    "* Use `shuffle=True` for both training and validation \n",
    "\n",
    "For training use `.fit()` with the following params:\n",
    "\n",
    "```python\n",
    "model.fit(\n",
    "    train_generator,\n",
    "    epochs=10,\n",
    "    validation_data=validation_generator\n",
    ")\n",
    "```"
   ]
  },
  {
   "cell_type": "code",
   "execution_count": 7,
   "id": "db43f095",
   "metadata": {},
   "outputs": [],
   "source": [
    "train_datagen = ImageDataGenerator(rescale=1./255)\n",
    "val_datagen = ImageDataGenerator(rescale=1./255)"
   ]
  },
  {
   "cell_type": "code",
   "execution_count": 8,
   "id": "33ce6674",
   "metadata": {},
   "outputs": [
    {
     "name": "stdout",
     "output_type": "stream",
     "text": [
      "Found 1594 images belonging to 2 classes.\n"
     ]
    }
   ],
   "source": [
    "train_generator = train_datagen.flow_from_directory(train_dir,\n",
    "                                                    target_size=(150, 150),\n",
    "                                                    batch_size=20,\n",
    "                                                    shuffle=True,\n",
    "                                                    class_mode='binary')"
   ]
  },
  {
   "cell_type": "code",
   "execution_count": 9,
   "id": "03a91483",
   "metadata": {},
   "outputs": [
    {
     "data": {
      "text/plain": [
       "{'dino': 0, 'dragon': 1}"
      ]
     },
     "execution_count": 9,
     "metadata": {},
     "output_type": "execute_result"
    }
   ],
   "source": [
    "train_generator.class_indices"
   ]
  },
  {
   "cell_type": "code",
   "execution_count": 10,
   "id": "a61f249c",
   "metadata": {},
   "outputs": [],
   "source": [
    "X, y = next(train_generator)"
   ]
  },
  {
   "cell_type": "code",
   "execution_count": 11,
   "id": "170d9020",
   "metadata": {},
   "outputs": [
    {
     "name": "stdout",
     "output_type": "stream",
     "text": [
      "[[[[0.14901961 0.15294118 0.17254902]\n",
      "   [0.15686275 0.16078432 0.18039216]\n",
      "   [0.15294118 0.15686275 0.1764706 ]\n",
      "   ...\n",
      "   [0.19215688 0.21960786 0.24313727]\n",
      "   [0.20000002 0.227451   0.2509804 ]\n",
      "   [0.20000002 0.227451   0.2509804 ]]\n",
      "\n",
      "  [[0.14901961 0.15294118 0.17254902]\n",
      "   [0.15686275 0.16078432 0.18039216]\n",
      "   [0.15686275 0.16078432 0.18039216]\n",
      "   ...\n",
      "   [0.22352943 0.2509804  0.27450982]\n",
      "   [0.20000002 0.227451   0.2509804 ]\n",
      "   [0.21176472 0.2392157  0.2627451 ]]\n",
      "\n",
      "  [[0.15686275 0.16078432 0.18039216]\n",
      "   [0.15686275 0.16078432 0.18039216]\n",
      "   [0.16470589 0.16862746 0.18823531]\n",
      "   ...\n",
      "   [0.23137257 0.25882354 0.28235295]\n",
      "   [0.21176472 0.2392157  0.2627451 ]\n",
      "   [0.23137257 0.25882354 0.28235295]]\n",
      "\n",
      "  ...\n",
      "\n",
      "  [[0.28627452 0.31764707 0.32941177]\n",
      "   [0.26666668 0.29803923 0.30980393]\n",
      "   [0.27450982 0.30588236 0.31764707]\n",
      "   ...\n",
      "   [0.16470589 0.12156864 0.1137255 ]\n",
      "   [0.16862746 0.12941177 0.1254902 ]\n",
      "   [0.13725491 0.1137255  0.1137255 ]]\n",
      "\n",
      "  [[0.27450982 0.30588236 0.31764707]\n",
      "   [0.29803923 0.32941177 0.34117648]\n",
      "   [0.2784314  0.30980393 0.32156864]\n",
      "   ...\n",
      "   [0.17254902 0.13333334 0.1254902 ]\n",
      "   [0.16078432 0.12941177 0.12156864]\n",
      "   [0.14117648 0.11764707 0.11764707]]\n",
      "\n",
      "  [[0.29411766 0.3254902  0.3372549 ]\n",
      "   [0.3137255  0.34509805 0.35686275]\n",
      "   [0.3254902  0.35686275 0.36862746]\n",
      "   ...\n",
      "   [0.16862746 0.12941177 0.12156864]\n",
      "   [0.15686275 0.1254902  0.11764707]\n",
      "   [0.15686275 0.12156864 0.1254902 ]]]\n",
      "\n",
      "\n",
      " [[[0.21176472 0.2392157  0.2627451 ]\n",
      "   [0.16862746 0.19607845 0.21960786]\n",
      "   [0.15294118 0.18039216 0.20392159]\n",
      "   ...\n",
      "   [0.19607845 0.22352943 0.25490198]\n",
      "   [0.16078432 0.18823531 0.21960786]\n",
      "   [0.1764706  0.20392159 0.23529413]]\n",
      "\n",
      "  [[0.20784315 0.23529413 0.25882354]\n",
      "   [0.20392159 0.23137257 0.25490198]\n",
      "   [0.18431373 0.21176472 0.23529413]\n",
      "   ...\n",
      "   [0.18823531 0.21568629 0.24705884]\n",
      "   [0.20784315 0.23529413 0.26666668]\n",
      "   [0.16862746 0.19607845 0.227451  ]]\n",
      "\n",
      "  [[0.24313727 0.27058825 0.29411766]\n",
      "   [0.18431373 0.21176472 0.23529413]\n",
      "   [0.18823531 0.21568629 0.2392157 ]\n",
      "   ...\n",
      "   [0.18823531 0.21568629 0.24705884]\n",
      "   [0.17254902 0.20000002 0.23137257]\n",
      "   [0.19607845 0.22352943 0.25490198]]\n",
      "\n",
      "  ...\n",
      "\n",
      "  [[0.25490198 0.28235295 0.3137255 ]\n",
      "   [0.24313727 0.27058825 0.3019608 ]\n",
      "   [0.21176472 0.2392157  0.27058825]\n",
      "   ...\n",
      "   [0.13725491 0.16470589 0.18823531]\n",
      "   [0.15294118 0.18823531 0.21568629]\n",
      "   [0.1764706  0.21568629 0.2509804 ]]\n",
      "\n",
      "  [[0.2509804  0.2784314  0.30980393]\n",
      "   [0.2509804  0.2784314  0.30980393]\n",
      "   [0.23137257 0.25882354 0.2901961 ]\n",
      "   ...\n",
      "   [0.10196079 0.12941177 0.15294118]\n",
      "   [0.14117648 0.1764706  0.20392159]\n",
      "   [0.21176472 0.2509804  0.28627452]]\n",
      "\n",
      "  [[0.22352943 0.2509804  0.28235295]\n",
      "   [0.21176472 0.2392157  0.27058825]\n",
      "   [0.18823531 0.21568629 0.24705884]\n",
      "   ...\n",
      "   [0.12156864 0.14901961 0.17254902]\n",
      "   [0.13725491 0.17254902 0.20000002]\n",
      "   [0.1764706  0.21568629 0.2509804 ]]]\n",
      "\n",
      "\n",
      " [[[0.32941177 0.32156864 0.2627451 ]\n",
      "   [0.36862746 0.36078432 0.3019608 ]\n",
      "   [0.36078432 0.3529412  0.29411766]\n",
      "   ...\n",
      "   [0.6901961  0.6431373  0.5568628 ]\n",
      "   [0.73333335 0.6862745  0.6       ]\n",
      "   [0.74509805 0.69803923 0.6117647 ]]\n",
      "\n",
      "  [[0.32941177 0.32156864 0.2627451 ]\n",
      "   [0.34509805 0.3372549  0.2784314 ]\n",
      "   [0.3529412  0.34509805 0.28627452]\n",
      "   ...\n",
      "   [0.6666667  0.61960787 0.53333336]\n",
      "   [0.6901961  0.6431373  0.5568628 ]\n",
      "   [0.7411765  0.69411767 0.60784316]]\n",
      "\n",
      "  [[0.3529412  0.34509805 0.28627452]\n",
      "   [0.34509805 0.3372549  0.2784314 ]\n",
      "   [0.34117648 0.33333334 0.27450982]\n",
      "   ...\n",
      "   [0.64705884 0.6        0.5137255 ]\n",
      "   [0.6862745  0.6392157  0.5529412 ]\n",
      "   [0.73333335 0.6862745  0.6       ]]\n",
      "\n",
      "  ...\n",
      "\n",
      "  [[0.23529413 0.14901961 0.09803922]\n",
      "   [0.20000002 0.1137255  0.05882353]\n",
      "   [0.1764706  0.09019608 0.03529412]\n",
      "   ...\n",
      "   [0.25882354 0.28235295 0.10196079]\n",
      "   [0.41176474 0.41960788 0.23529413]\n",
      "   [0.41960788 0.4039216  0.21960786]]\n",
      "\n",
      "  [[0.27450982 0.19607845 0.16078432]\n",
      "   [0.2901961  0.21176472 0.16862746]\n",
      "   [0.30980393 0.23529413 0.18039216]\n",
      "   ...\n",
      "   [0.25882354 0.28627452 0.12156864]\n",
      "   [0.27058825 0.2784314  0.12156864]\n",
      "   [0.22352943 0.21568629 0.0627451 ]]\n",
      "\n",
      "  [[0.10588236 0.04705883 0.03529412]\n",
      "   [0.14509805 0.08627451 0.06666667]\n",
      "   [0.16078432 0.10196079 0.07450981]\n",
      "   ...\n",
      "   [0.1764706  0.18039216 0.05882353]\n",
      "   [0.18431373 0.19607845 0.07450981]\n",
      "   [0.24705884 0.25882354 0.14509805]]]\n",
      "\n",
      "\n",
      " ...\n",
      "\n",
      "\n",
      " [[[0.7019608  0.76470596 0.7607844 ]\n",
      "   [0.7411765  0.8000001  0.78823537]\n",
      "   [0.8078432  0.854902   0.83921576]\n",
      "   ...\n",
      "   [0.16078432 0.19607845 0.23137257]\n",
      "   [0.14901961 0.18431373 0.21960786]\n",
      "   [0.15294118 0.18823531 0.22352943]]\n",
      "\n",
      "  [[0.75294125 0.8000001  0.7843138 ]\n",
      "   [0.7803922  0.8235295  0.8000001 ]\n",
      "   [0.82745105 0.86666673 0.8352942 ]\n",
      "   ...\n",
      "   [0.17254902 0.20784315 0.24313727]\n",
      "   [0.15686275 0.19215688 0.227451  ]\n",
      "   [0.15686275 0.19215688 0.227451  ]]\n",
      "\n",
      "  [[0.8235295  0.8705883  0.854902  ]\n",
      "   [0.82745105 0.8705883  0.8470589 ]\n",
      "   [0.854902   0.8941177  0.86274517]\n",
      "   ...\n",
      "   [0.16470589 0.20000002 0.23529413]\n",
      "   [0.16862746 0.20392159 0.2392157 ]\n",
      "   [0.16078432 0.19607845 0.23137257]]\n",
      "\n",
      "  ...\n",
      "\n",
      "  [[0.42352945 0.36862746 0.23137257]\n",
      "   [0.427451   0.37254903 0.23529413]\n",
      "   [0.42352945 0.36862746 0.23137257]\n",
      "   ...\n",
      "   [0.3137255  0.27450982 0.16862746]\n",
      "   [0.30588236 0.26666668 0.16078432]\n",
      "   [0.30980393 0.27058825 0.16470589]]\n",
      "\n",
      "  [[0.39607847 0.34117648 0.20392159]\n",
      "   [0.4156863  0.36078432 0.22352943]\n",
      "   [0.40784317 0.3529412  0.21568629]\n",
      "   ...\n",
      "   [0.31764707 0.2784314  0.17254902]\n",
      "   [0.3137255  0.27450982 0.16862746]\n",
      "   [0.3254902  0.28627452 0.18039216]]\n",
      "\n",
      "  [[0.42352945 0.36862746 0.23137257]\n",
      "   [0.38823533 0.33333334 0.19607845]\n",
      "   [0.40000004 0.34509805 0.20784315]\n",
      "   ...\n",
      "   [0.3254902  0.28627452 0.18039216]\n",
      "   [0.3372549  0.29803923 0.19215688]\n",
      "   [0.30980393 0.27058825 0.16470589]]]\n",
      "\n",
      "\n",
      " [[[0.9490197  0.8117648  0.5529412 ]\n",
      "   [0.95294124 0.8313726  0.5764706 ]\n",
      "   [0.9607844  0.8431373  0.5921569 ]\n",
      "   ...\n",
      "   [0.86274517 0.67058825 0.41176474]\n",
      "   [0.7803922  0.6117647  0.41176474]\n",
      "   [0.03137255 0.01960784 0.        ]]\n",
      "\n",
      "  [[0.94117653 0.80392164 0.54509807]\n",
      "   [0.95294124 0.8313726  0.5764706 ]\n",
      "   [0.9450981  0.82745105 0.5764706 ]\n",
      "   ...\n",
      "   [0.8745099  0.68235296 0.42352945]\n",
      "   [0.78823537 0.61960787 0.41960788]\n",
      "   [0.03529412 0.02352941 0.00392157]]\n",
      "\n",
      "  [[0.9294118  0.79215693 0.53333336]\n",
      "   [0.93725497 0.81568635 0.56078434]\n",
      "   [0.9607844  0.8431373  0.5921569 ]\n",
      "   ...\n",
      "   [0.87843144 0.6862745  0.427451  ]\n",
      "   [0.8078432  0.6392157  0.43921572]\n",
      "   [0.01176471 0.         0.        ]]\n",
      "\n",
      "  ...\n",
      "\n",
      "  [[0.8431373  0.6431373  0.427451  ]\n",
      "   [0.8588236  0.6666667  0.44705886]\n",
      "   [0.8745099  0.6901961  0.47058827]\n",
      "   ...\n",
      "   [0.8745099  0.6784314  0.40000004]\n",
      "   [0.8313726  0.6431373  0.3921569 ]\n",
      "   [0.24313727 0.18823531 0.08235294]]\n",
      "\n",
      "  [[0.85098046 0.6509804  0.43529415]\n",
      "   [0.8705883  0.6784314  0.45882356]\n",
      "   [0.882353   0.69803923 0.4784314 ]\n",
      "   ...\n",
      "   [0.86274517 0.654902   0.3803922 ]\n",
      "   [0.8196079  0.62352943 0.37647063]\n",
      "   [0.24705884 0.18431373 0.08235294]]\n",
      "\n",
      "  [[0.8352942  0.63529414 0.41960788]\n",
      "   [0.86274517 0.67058825 0.45098042]\n",
      "   [0.8588236  0.6745098  0.454902  ]\n",
      "   ...\n",
      "   [0.8862746  0.6784314  0.4039216 ]\n",
      "   [0.8235295  0.62352943 0.37647063]\n",
      "   [0.28627452 0.21960786 0.11764707]]]\n",
      "\n",
      "\n",
      " [[[0.5019608  0.5372549  0.5647059 ]\n",
      "   [0.5019608  0.5372549  0.5647059 ]\n",
      "   [0.5019608  0.5372549  0.5647059 ]\n",
      "   ...\n",
      "   [0.49411768 0.5372549  0.56078434]\n",
      "   [0.4901961  0.53333336 0.5568628 ]\n",
      "   [0.4901961  0.53333336 0.5568628 ]]\n",
      "\n",
      "  [[0.5019608  0.5372549  0.5647059 ]\n",
      "   [0.5019608  0.5372549  0.5647059 ]\n",
      "   [0.5019608  0.5372549  0.5647059 ]\n",
      "   ...\n",
      "   [0.49411768 0.5372549  0.56078434]\n",
      "   [0.4901961  0.53333336 0.5568628 ]\n",
      "   [0.4901961  0.53333336 0.5568628 ]]\n",
      "\n",
      "  [[0.5019608  0.5372549  0.5647059 ]\n",
      "   [0.5019608  0.5372549  0.5647059 ]\n",
      "   [0.5019608  0.5372549  0.5647059 ]\n",
      "   ...\n",
      "   [0.49411768 0.5372549  0.56078434]\n",
      "   [0.49411768 0.5372549  0.56078434]\n",
      "   [0.49411768 0.5372549  0.56078434]]\n",
      "\n",
      "  ...\n",
      "\n",
      "  [[0.3137255  0.24313727 0.16470589]\n",
      "   [0.41176474 0.34117648 0.2627451 ]\n",
      "   [0.34901962 0.2784314  0.20000002]\n",
      "   ...\n",
      "   [0.39607847 0.32941177 0.26666668]\n",
      "   [0.45882356 0.39607847 0.3372549 ]\n",
      "   [0.44705886 0.38431376 0.3254902 ]]\n",
      "\n",
      "  [[0.5921569  0.52156866 0.43529415]\n",
      "   [0.4666667  0.39607847 0.30980393]\n",
      "   [0.4156863  0.34509805 0.25882354]\n",
      "   ...\n",
      "   [0.5058824  0.4431373  0.38431376]\n",
      "   [0.40000004 0.3372549  0.2784314 ]\n",
      "   [0.34117648 0.28627452 0.23529413]]\n",
      "\n",
      "  [[0.24705884 0.1764706  0.08235294]\n",
      "   [0.5803922  0.50980395 0.4156863 ]\n",
      "   [0.6745098  0.6039216  0.50980395]\n",
      "   ...\n",
      "   [0.34509805 0.28235295 0.22352943]\n",
      "   [0.427451   0.37254903 0.32156864]\n",
      "   [0.3137255  0.26666668 0.21960786]]]]\n"
     ]
    }
   ],
   "source": [
    "print(X)"
   ]
  },
  {
   "cell_type": "code",
   "execution_count": 12,
   "id": "e48cd444",
   "metadata": {},
   "outputs": [
    {
     "name": "stdout",
     "output_type": "stream",
     "text": [
      "[1. 1. 0. 1. 0. 0. 0. 0. 1. 1. 0. 1. 0. 1. 0. 0. 1. 0. 1. 0.]\n"
     ]
    }
   ],
   "source": [
    "print(y)"
   ]
  },
  {
   "cell_type": "code",
   "execution_count": 13,
   "id": "01aadccb",
   "metadata": {},
   "outputs": [
    {
     "name": "stdout",
     "output_type": "stream",
     "text": [
      "Found 394 images belonging to 2 classes.\n"
     ]
    }
   ],
   "source": [
    "val_generator = val_datagen.flow_from_directory(val_dir,\n",
    "                                                target_size=(150, 150),\n",
    "                                                batch_size=20,\n",
    "                                                shuffle=True,\n",
    "                                                class_mode='binary')"
   ]
  },
  {
   "cell_type": "code",
   "execution_count": 14,
   "id": "dd4c0e78",
   "metadata": {},
   "outputs": [
    {
     "name": "stdout",
     "output_type": "stream",
     "text": [
      "data batch shape: (20, 150, 150, 3)\n",
      "labels batch shape: (20,)\n"
     ]
    }
   ],
   "source": [
    "for data_batch, labels_batch in train_generator:\n",
    "    print('data batch shape:', data_batch.shape)\n",
    "    print('labels batch shape:', labels_batch.shape)\n",
    "    break"
   ]
  },
  {
   "cell_type": "code",
   "execution_count": 15,
   "id": "92da1b00",
   "metadata": {},
   "outputs": [
    {
     "name": "stdout",
     "output_type": "stream",
     "text": [
      "Epoch 1/10\n",
      "80/80 [==============================] - 16s 197ms/step - loss: 0.6157 - acc: 0.6619 - val_loss: 0.5144 - val_acc: 0.7335\n",
      "Epoch 2/10\n",
      "80/80 [==============================] - 15s 183ms/step - loss: 0.4438 - acc: 0.8105 - val_loss: 0.5172 - val_acc: 0.7208\n",
      "Epoch 3/10\n",
      "80/80 [==============================] - 15s 192ms/step - loss: 0.3960 - acc: 0.8287 - val_loss: 0.3597 - val_acc: 0.8477\n",
      "Epoch 4/10\n",
      "80/80 [==============================] - 16s 194ms/step - loss: 0.3565 - acc: 0.8526 - val_loss: 0.3477 - val_acc: 0.8579\n",
      "Epoch 5/10\n",
      "80/80 [==============================] - 15s 192ms/step - loss: 0.3235 - acc: 0.8708 - val_loss: 0.3271 - val_acc: 0.8579\n",
      "Epoch 6/10\n",
      "80/80 [==============================] - 14s 178ms/step - loss: 0.2817 - acc: 0.8902 - val_loss: 0.3084 - val_acc: 0.8731\n",
      "Epoch 7/10\n",
      "80/80 [==============================] - 14s 170ms/step - loss: 0.2429 - acc: 0.9065 - val_loss: 0.3358 - val_acc: 0.8452\n",
      "Epoch 8/10\n",
      "80/80 [==============================] - 14s 171ms/step - loss: 0.2153 - acc: 0.9260 - val_loss: 0.3233 - val_acc: 0.8426\n",
      "Epoch 9/10\n",
      "80/80 [==============================] - 14s 171ms/step - loss: 0.1846 - acc: 0.9373 - val_loss: 0.2983 - val_acc: 0.8731\n",
      "Epoch 10/10\n",
      "80/80 [==============================] - 15s 183ms/step - loss: 0.1792 - acc: 0.9417 - val_loss: 0.2983 - val_acc: 0.8731\n"
     ]
    }
   ],
   "source": [
    "history = model.fit(\n",
    "    train_generator,\n",
    "    epochs=10,\n",
    "    validation_data=val_generator)"
   ]
  },
  {
   "cell_type": "code",
   "execution_count": 16,
   "id": "bb18553b",
   "metadata": {},
   "outputs": [],
   "source": [
    "acc = history.history['acc']\n",
    "val_acc = history.history['val_acc']\n",
    "loss = history.history['loss']\n",
    "val_loss = history.history['val_loss']"
   ]
  },
  {
   "cell_type": "markdown",
   "id": "240290b5",
   "metadata": {},
   "source": [
    "# Question 3\n",
    "What is the median of training accuracy for all the epochs for this model?\n",
    "\n",
    "- 0.40\n",
    "- 0.60\n",
    "- 0.90 [X]\n",
    "- 0.20\n"
   ]
  },
  {
   "cell_type": "code",
   "execution_count": 17,
   "id": "1aaad638",
   "metadata": {},
   "outputs": [
    {
     "data": {
      "text/plain": [
       "0.8804893493652344"
      ]
     },
     "execution_count": 17,
     "metadata": {},
     "output_type": "execute_result"
    }
   ],
   "source": [
    "acc_median = np.median(acc)\n",
    "acc_median"
   ]
  },
  {
   "cell_type": "markdown",
   "id": "fe4e7881",
   "metadata": {},
   "source": [
    "# Question 4\n",
    "What is the standard deviation of training loss for all the epochs for this model?\n",
    "\n",
    "- 0.11 [X]\n",
    "- 0.66\n",
    "- 0.99\n",
    "- 0.33"
   ]
  },
  {
   "cell_type": "code",
   "execution_count": 18,
   "id": "e48c21c7",
   "metadata": {},
   "outputs": [
    {
     "data": {
      "text/plain": [
       "0.12894292787351552"
      ]
     },
     "execution_count": 18,
     "metadata": {},
     "output_type": "execute_result"
    }
   ],
   "source": [
    "loss_std = np.std(loss)\n",
    "loss_std"
   ]
  },
  {
   "cell_type": "markdown",
   "id": "1973dc24",
   "metadata": {},
   "source": [
    "# Data Augmentation\n",
    "## Generate more different images\n",
    "For the next two questions, we'll generate more data using data augmentations. \n",
    "\n",
    "Add the following augmentations to your training data generator:\n",
    "\n",
    "* `rotation_range=40,`\n",
    "* `width_shift_range=0.2,`\n",
    "* `height_shift_range=0.2,`\n",
    "* `shear_range=0.2,`\n",
    "* `zoom_range=0.2,`\n",
    "* `horizontal_flip=True,`\n",
    "* `fill_mode='nearest'`"
   ]
  },
  {
   "cell_type": "code",
   "execution_count": 19,
   "id": "c4fbc25b",
   "metadata": {},
   "outputs": [],
   "source": [
    "datagen = ImageDataGenerator(\n",
    "    rotation_range=40,\n",
    "    width_shift_range=0.2,\n",
    "    height_shift_range=0.2,\n",
    "    shear_range=0.2,\n",
    "    zoom_range=0.2,\n",
    "    horizontal_flip=True,\n",
    "    fill_mode='nearest')"
   ]
  },
  {
   "cell_type": "code",
   "execution_count": 20,
   "id": "42faab5f",
   "metadata": {},
   "outputs": [],
   "source": [
    "import os\n",
    "from tensorflow.keras.preprocessing import image"
   ]
  },
  {
   "cell_type": "code",
   "execution_count": 22,
   "id": "5ad1d606",
   "metadata": {},
   "outputs": [],
   "source": [
    "train_datagen = ImageDataGenerator(\n",
    "    rescale=1./255,\n",
    "    rotation_range=40,\n",
    "    width_shift_range=0.2,\n",
    "    height_shift_range=0.2,\n",
    "    shear_range=0.2,\n",
    "    zoom_range=0.2,\n",
    "    horizontal_flip=True)\n",
    "\n",
    "test_datagen = ImageDataGenerator(rescale=1./255)"
   ]
  },
  {
   "cell_type": "code",
   "execution_count": 23,
   "id": "15441ce5",
   "metadata": {},
   "outputs": [
    {
     "name": "stdout",
     "output_type": "stream",
     "text": [
      "Found 1594 images belonging to 2 classes.\n"
     ]
    }
   ],
   "source": [
    "train_generator = train_datagen.flow_from_directory(train_dir,\n",
    "                                                    target_size=(150, 150), \n",
    "                                                    batch_size=32, \n",
    "                                                    class_mode='binary')"
   ]
  },
  {
   "cell_type": "code",
   "execution_count": 26,
   "id": "8f4cefd6",
   "metadata": {},
   "outputs": [
    {
     "name": "stdout",
     "output_type": "stream",
     "text": [
      "Found 394 images belonging to 2 classes.\n"
     ]
    }
   ],
   "source": [
    "validation_generator = test_datagen.flow_from_directory(\n",
    "    val_dir,\n",
    "    target_size=(150, 150),\n",
    "    batch_size=32,\n",
    "    class_mode='binary')"
   ]
  },
  {
   "cell_type": "code",
   "execution_count": null,
   "id": "82a3a05f",
   "metadata": {},
   "outputs": [
    {
     "name": "stdout",
     "output_type": "stream",
     "text": [
      "Epoch 1/10\n",
      "27/50 [===============>..............] - ETA: 8s - loss: 0.5045 - acc: 0.7541"
     ]
    }
   ],
   "source": [
    "history = model.fit(\n",
    "    train_generator,\n",
    "    epochs=10,\n",
    "    validation_data=validation_generator,)"
   ]
  },
  {
   "cell_type": "code",
   "execution_count": null,
   "id": "59d53bec",
   "metadata": {},
   "outputs": [],
   "source": [
    "acc_aug = history.history['acc']\n",
    "val_acc_aug = history.history['val_acc']\n",
    "loss_aug = history.history['loss']\n",
    "val_loss_aug = history.history['val_loss']"
   ]
  },
  {
   "cell_type": "markdown",
   "id": "31bca667",
   "metadata": {},
   "source": [
    "# Question 5\n",
    "Let's train our model for 10 more epochs using the same code as previously.\n",
    "Make sure you don't re-create the model - we want to continue training the model\n",
    "we already started training.\n",
    "\n",
    "What is the mean of validation loss for all the epochs for the model trained with augmentations?\n",
    "\n",
    "- 0.15\n",
    "- 0.77\n",
    "- 0.37 [X]\n",
    "- 0.97"
   ]
  },
  {
   "cell_type": "code",
   "execution_count": null,
   "id": "83289cd5",
   "metadata": {},
   "outputs": [],
   "source": [
    "loss_mean_aug = np.mean(val_loss_aug)\n",
    "loss_mean_aug"
   ]
  },
  {
   "cell_type": "markdown",
   "id": "5809707c",
   "metadata": {},
   "source": [
    "# Question 6\n",
    "What's the average of validation accuracy for the last 5 epochs (from 6 to 10)\n",
    "for the model trained with augmentations?\n",
    "\n",
    "- 0.84  [X]\n",
    "- 0.54\n",
    "- 0.44\n",
    "- 0.24"
   ]
  },
  {
   "cell_type": "code",
   "execution_count": null,
   "id": "310c7cd4",
   "metadata": {},
   "outputs": [],
   "source": [
    "acc_mean_aug = np.mean(val_acc_aug[5:10])\n",
    "acc_mean_aug"
   ]
  }
 ],
 "metadata": {
  "kernelspec": {
   "display_name": "Python 3 (ipykernel)",
   "language": "python",
   "name": "python3"
  },
  "language_info": {
   "codemirror_mode": {
    "name": "ipython",
    "version": 3
   },
   "file_extension": ".py",
   "mimetype": "text/x-python",
   "name": "python",
   "nbconvert_exporter": "python",
   "pygments_lexer": "ipython3",
   "version": "3.9.13"
  }
 },
 "nbformat": 4,
 "nbformat_minor": 5
}
