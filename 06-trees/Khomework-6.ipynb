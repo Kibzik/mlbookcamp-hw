{
 "cells": [
  {
   "cell_type": "markdown",
   "metadata": {
    "id": "-JrenrSGmAeg"
   },
   "source": [
    "**HOMEWORK**  \n",
    "\n",
    "The goal of this homework is to create a regression model for predicting housing prices (column 'median_house_value').  \n",
    "\n",
    "In this homework we'll again use the California Housing Prices dataset - the same one we used in homework 2 and 3.\n",
    "\n",
    "You can take it from [Kaggle](https://www.kaggle.com/datasets/camnugent/california-housing-prices) or download using wget link mentioned below:\n",
    "\n",
    "```\n",
    "wget https://raw.githubusercontent.com/alexeygrigorev/datasets/master/housing.csv\n",
    "\n",
    "```\n",
    "\n"
   ]
  },
  {
   "cell_type": "code",
   "execution_count": 1,
   "metadata": {
    "ExecuteTime": {
     "end_time": "2022-10-15T15:01:17.227587Z",
     "start_time": "2022-10-15T15:01:14.140273Z"
    },
    "id": "nLosiCNJUjDM"
   },
   "outputs": [],
   "source": [
    "#@ IMPORTING LIBRARIES AND DEPENDENCIES:\n",
    "import re\n",
    "import numpy as np\n",
    "import pandas as pd\n",
    "import seaborn as sns\n",
    "import xgboost as xgb\n",
    "import matplotlib.pyplot as plt\n",
    "from tqdm.auto import tqdm\n",
    "from sklearn.tree import DecisionTreeRegressor\n",
    "from sklearn.tree import export_text\n",
    "from sklearn.feature_extraction import DictVectorizer\n",
    "from sklearn.model_selection import train_test_split\n",
    "from sklearn.ensemble import RandomForestRegressor\n",
    "from sklearn.metrics import mean_squared_error\n",
    "\n",
    "%matplotlib inline"
   ]
  },
  {
   "cell_type": "code",
   "execution_count": 2,
   "metadata": {
    "ExecuteTime": {
     "end_time": "2022-10-15T15:01:17.290589Z",
     "start_time": "2022-10-15T15:01:17.227587Z"
    },
    "id": "492Hn6-3n08G"
   },
   "outputs": [],
   "source": [
    "#@ READING DATASET:\n",
    "PATH = \"./housing.csv\"\n",
    "select_cols = [\"longitude\", \"latitude\", \"housing_median_age\", \"total_rooms\", \"total_bedrooms\", \"population\", \"households\", \n",
    "               \"median_income\", \"median_house_value\", \"ocean_proximity\"]\n",
    "df = pd.read_csv(PATH, usecols=select_cols)\n",
    "df.total_bedrooms = df.total_bedrooms.fillna(0)"
   ]
  },
  {
   "cell_type": "markdown",
   "metadata": {
    "id": "OqXppJ_Ro0H0"
   },
   "source": [
    "- Apply the log transform to `median_house_value`. \n",
    "- Do train/validation/test split with 60%/20%/20% distribution.\n",
    "- Use the `train_test_split` function and set the `random_state parameter` to 1."
   ]
  },
  {
   "cell_type": "code",
   "execution_count": 3,
   "metadata": {
    "ExecuteTime": {
     "end_time": "2022-10-15T15:01:17.306543Z",
     "start_time": "2022-10-15T15:01:17.297539Z"
    }
   },
   "outputs": [],
   "source": [
    "df[\"median_house_value\"] = np.log1p(df[\"median_house_value\"])"
   ]
  },
  {
   "cell_type": "code",
   "execution_count": 4,
   "metadata": {
    "ExecuteTime": {
     "end_time": "2022-10-15T15:01:17.338535Z",
     "start_time": "2022-10-15T15:01:17.310535Z"
    },
    "id": "W1MmdcRDpHS1"
   },
   "outputs": [
    {
     "data": {
      "text/plain": [
       "((12384, 9), (4128, 9), (4128, 9))"
      ]
     },
     "execution_count": 4,
     "metadata": {},
     "output_type": "execute_result"
    }
   ],
   "source": [
    "X = df[df.columns.difference([\"median_house_value\"])]\n",
    "y = df[\"median_house_value\"]\n",
    "X_full_train, X_test, y_full_train, y_test = train_test_split(X, y, test_size=0.2, random_state=1)\n",
    "X_train, X_val, y_train, y_val = train_test_split(X_full_train, y_full_train, test_size=0.25, random_state=1)\n",
    "X_train.shape, X_val.shape, X_test.shape"
   ]
  },
  {
   "cell_type": "code",
   "execution_count": 5,
   "metadata": {
    "ExecuteTime": {
     "end_time": "2022-10-15T15:01:17.354539Z",
     "start_time": "2022-10-15T15:01:17.340540Z"
    }
   },
   "outputs": [],
   "source": [
    "for df_ in [X_train, X_val, X_test]:\n",
    "    df_.reset_index(drop=True)"
   ]
  },
  {
   "cell_type": "markdown",
   "metadata": {
    "id": "5VKq8FX7qIVM"
   },
   "source": [
    "- We will use `DictVectorizer` to turn train and validation into matrices."
   ]
  },
  {
   "cell_type": "code",
   "execution_count": 6,
   "metadata": {
    "ExecuteTime": {
     "end_time": "2022-10-15T15:01:17.513533Z",
     "start_time": "2022-10-15T15:01:17.356540Z"
    }
   },
   "outputs": [],
   "source": [
    "train_dict = X_train.to_dict(orient='records')\n",
    "val_dict = X_val.to_dict(orient='records')"
   ]
  },
  {
   "cell_type": "code",
   "execution_count": 7,
   "metadata": {
    "ExecuteTime": {
     "end_time": "2022-10-15T15:01:17.592573Z",
     "start_time": "2022-10-15T15:01:17.514534Z"
    },
    "id": "WnfFrWe9qtuc"
   },
   "outputs": [
    {
     "data": {
      "text/plain": [
       "DictVectorizer(sparse=False)"
      ]
     },
     "execution_count": 7,
     "metadata": {},
     "output_type": "execute_result"
    }
   ],
   "source": [
    "dv = DictVectorizer(sparse=False)\n",
    "dv.fit(train_dict)"
   ]
  },
  {
   "cell_type": "code",
   "execution_count": 8,
   "metadata": {
    "ExecuteTime": {
     "end_time": "2022-10-15T15:01:17.688272Z",
     "start_time": "2022-10-15T15:01:17.595536Z"
    }
   },
   "outputs": [],
   "source": [
    "X_train = dv.transform(train_dict)\n",
    "X_val = dv.transform(val_dict)"
   ]
  },
  {
   "cell_type": "code",
   "execution_count": 9,
   "metadata": {
    "ExecuteTime": {
     "end_time": "2022-10-15T15:01:17.704270Z",
     "start_time": "2022-10-15T15:01:17.690231Z"
    }
   },
   "outputs": [
    {
     "data": {
      "text/plain": [
       "['households',\n",
       " 'housing_median_age',\n",
       " 'latitude',\n",
       " 'longitude',\n",
       " 'median_income',\n",
       " 'ocean_proximity=<1H OCEAN',\n",
       " 'ocean_proximity=INLAND',\n",
       " 'ocean_proximity=ISLAND',\n",
       " 'ocean_proximity=NEAR BAY',\n",
       " 'ocean_proximity=NEAR OCEAN',\n",
       " 'population',\n",
       " 'total_bedrooms',\n",
       " 'total_rooms']"
      ]
     },
     "execution_count": 9,
     "metadata": {},
     "output_type": "execute_result"
    }
   ],
   "source": [
    "dv.get_feature_names()"
   ]
  },
  {
   "cell_type": "markdown",
   "metadata": {
    "id": "qvxmhaD5hmAK"
   },
   "source": [
    "## Question 1\n",
    "\n",
    "Let's train a decision tree regressor to predict the `median_house_value` variable.\n",
    "\n",
    "Train a model with `max_depth=1`."
   ]
  },
  {
   "cell_type": "code",
   "execution_count": 10,
   "metadata": {
    "ExecuteTime": {
     "end_time": "2022-10-15T15:01:17.736230Z",
     "start_time": "2022-10-15T15:01:17.705274Z"
    },
    "id": "cqBcSbpIq7kJ"
   },
   "outputs": [
    {
     "data": {
      "text/plain": [
       "DecisionTreeRegressor(max_depth=1)"
      ]
     },
     "execution_count": 10,
     "metadata": {},
     "output_type": "execute_result"
    }
   ],
   "source": [
    "dt = DecisionTreeRegressor(max_depth=1)\n",
    "dt.fit(X_train, y_train)"
   ]
  },
  {
   "cell_type": "code",
   "execution_count": 11,
   "metadata": {
    "ExecuteTime": {
     "end_time": "2022-10-15T15:01:17.752232Z",
     "start_time": "2022-10-15T15:01:17.738233Z"
    },
    "id": "sLAnqRwuikqQ"
   },
   "outputs": [
    {
     "name": "stdout",
     "output_type": "stream",
     "text": [
      "|--- ocean_proximity=INLAND <= 0.50\n",
      "|   |--- value: [12.31]\n",
      "|--- ocean_proximity=INLAND >  0.50\n",
      "|   |--- value: [11.61]\n",
      "\n"
     ]
    }
   ],
   "source": [
    "print(export_text(dt, feature_names=dv.get_feature_names()))"
   ]
  },
  {
   "cell_type": "markdown",
   "metadata": {
    "id": "JNBm-qeRp6aZ"
   },
   "source": [
    "- Which feature is used for splitting the data?\n",
    "\n",
    "- Answer: **ocean_proximity=INLAND**"
   ]
  },
  {
   "cell_type": "markdown",
   "metadata": {
    "id": "Xhnbdy-CqQoB"
   },
   "source": [
    "## Question 2\n",
    "\n",
    "Train a random forest model with these parameters:\n",
    "\n",
    "- `n_estimators=10`  \n",
    "- `random_state=1`  \n",
    "- `n_jobs=-1` (optional-to make training faster)"
   ]
  },
  {
   "cell_type": "code",
   "execution_count": 12,
   "metadata": {
    "ExecuteTime": {
     "end_time": "2022-10-15T15:01:18.329859Z",
     "start_time": "2022-10-15T15:01:17.754230Z"
    },
    "id": "2w-YSGYMisFt"
   },
   "outputs": [],
   "source": [
    "rf = RandomForestRegressor(n_estimators=10, random_state=1, n_jobs=-1)\n",
    "rf.fit(X_train, y_train)\n",
    "y_pred_val = rf.predict(X_val)"
   ]
  },
  {
   "cell_type": "code",
   "execution_count": 13,
   "metadata": {
    "ExecuteTime": {
     "end_time": "2022-10-15T15:01:18.345810Z",
     "start_time": "2022-10-15T15:01:18.331762Z"
    },
    "id": "jCxUAO2Rq1Ps"
   },
   "outputs": [
    {
     "data": {
      "text/plain": [
       "0.2457383433183843"
      ]
     },
     "execution_count": 13,
     "metadata": {},
     "output_type": "execute_result"
    }
   ],
   "source": [
    "mean_squared_error(y_pred_val, y_val, squared=False)"
   ]
  },
  {
   "cell_type": "markdown",
   "metadata": {
    "id": "jfcDllHxrTqu"
   },
   "source": [
    "- What's the RMSE of this model on validation?\n",
    "\n",
    "- Answer: **0.25**"
   ]
  },
  {
   "cell_type": "markdown",
   "metadata": {
    "id": "Y7K69bFSrg_V"
   },
   "source": [
    "## Question 3\n",
    "\n",
    "Now, let's experiment with the `n_estimators` parameter.\n",
    "\n",
    "- Try different values of this parameter from 10 to 200 with step 10.\n",
    "- Set `random_state` to 1.\n",
    "- Evaluate the model on the validation dataset."
   ]
  },
  {
   "cell_type": "code",
   "execution_count": 14,
   "metadata": {
    "ExecuteTime": {
     "end_time": "2022-10-15T15:01:18.361761Z",
     "start_time": "2022-10-15T15:01:18.347763Z"
    }
   },
   "outputs": [
    {
     "data": {
      "text/plain": [
       "array([ 10,  20,  30,  40,  50,  60,  70,  80,  90, 100, 110, 120, 130,\n",
       "       140, 150, 160, 170, 180, 190, 200])"
      ]
     },
     "execution_count": 14,
     "metadata": {},
     "output_type": "execute_result"
    }
   ],
   "source": [
    "n_estimators_list = np.arange(10, 201, 10)\n",
    "n_estimators_list"
   ]
  },
  {
   "cell_type": "code",
   "execution_count": 18,
   "metadata": {
    "ExecuteTime": {
     "end_time": "2022-10-15T15:06:12.861945Z",
     "start_time": "2022-10-15T15:04:52.565092Z"
    },
    "id": "-oUFCQwOrQNN"
   },
   "outputs": [],
   "source": [
    "pred_scores = {}\n",
    "for n_estimator in n_estimators_list:\n",
    "    rf = RandomForestRegressor(n_estimators=n_estimator, random_state=1, n_jobs=-1)\n",
    "    rf.fit(X_train, y_train)\n",
    "    y_pred_val = rf.predict(X_val)\n",
    "    pred_scores[n_estimator] = round(mean_squared_error(y_pred_val, y_val, squared=False), 3)"
   ]
  },
  {
   "cell_type": "code",
   "execution_count": 19,
   "metadata": {
    "ExecuteTime": {
     "end_time": "2022-10-15T15:06:13.117914Z",
     "start_time": "2022-10-15T15:06:13.104919Z"
    },
    "id": "3J-wFLh4s8Ky"
   },
   "outputs": [
    {
     "data": {
      "text/plain": [
       "{10: 0.246,\n",
       " 20: 0.239,\n",
       " 30: 0.236,\n",
       " 40: 0.235,\n",
       " 50: 0.233,\n",
       " 60: 0.233,\n",
       " 70: 0.232,\n",
       " 80: 0.233,\n",
       " 90: 0.232,\n",
       " 100: 0.232,\n",
       " 110: 0.232,\n",
       " 120: 0.232,\n",
       " 130: 0.232,\n",
       " 140: 0.232,\n",
       " 150: 0.232,\n",
       " 160: 0.232,\n",
       " 170: 0.232,\n",
       " 180: 0.232,\n",
       " 190: 0.232,\n",
       " 200: 0.232}"
      ]
     },
     "metadata": {},
     "output_type": "display_data"
    }
   ],
   "source": [
    "display(pred_scores)"
   ]
  },
  {
   "cell_type": "code",
   "execution_count": 20,
   "metadata": {
    "ExecuteTime": {
     "end_time": "2022-10-15T15:06:13.606772Z",
     "start_time": "2022-10-15T15:06:13.373921Z"
    }
   },
   "outputs": [
    {
     "name": "stderr",
     "output_type": "stream",
     "text": [
      "No handles with labels found to put in legend.\n"
     ]
    },
    {
     "data": {
      "image/png": "[encoded data removed]",
      "text/plain": [
       "<Figure size 432x288 with 1 Axes>"
      ]
     },
     "metadata": {
      "needs_background": "light"
     },
     "output_type": "display_data"
    }
   ],
   "source": [
    "plt.plot(pred_scores.keys(), pred_scores.values())\n",
    "plt.plot(110, 0.23151835138763843, marker=\"o\", markersize=5, markeredgecolor=\"red\", markerfacecolor=\"blue\")\n",
    "plt.xticks(np.arange(0, max(pred_scores.keys())+10, 15))\n",
    "plt.yticks(np.arange(0.231, max(pred_scores.values())+0.001, 0.001))\n",
    "plt.legend()\n",
    "plt.show()"
   ]
  },
  {
   "cell_type": "markdown",
   "metadata": {
    "id": "NAXZcW3AuC-d"
   },
   "source": [
    "- After which value of `n_estimators` does RMSE stop improving?\n",
    "\n",
    "- Answer: **150**"
   ]
  },
  {
   "cell_type": "markdown",
   "metadata": {
    "id": "CYhRv3kEvWjK"
   },
   "source": [
    "## Question 4\n",
    "\n",
    "Let's select the best `max_depth`:\n",
    "\n",
    "- Try different values of `max_depth`: [10, 15, 20, 25].\n",
    "- For each of these values, try different values of n_estimators from 10 till 200 (with step 10).\n",
    "- Fix the random seed: `random_state=1`."
   ]
  },
  {
   "cell_type": "code",
   "execution_count": 18,
   "metadata": {
    "ExecuteTime": {
     "end_time": "2022-10-15T12:18:51.504071Z",
     "start_time": "2022-10-15T12:18:51.492108Z"
    }
   },
   "outputs": [
    {
     "data": {
      "text/plain": [
       "array([10, 15, 20, 25])"
      ]
     },
     "execution_count": 18,
     "metadata": {},
     "output_type": "execute_result"
    }
   ],
   "source": [
    "max_depth_list = np.arange(10, 26, 5)\n",
    "max_depth_list"
   ]
  },
  {
   "cell_type": "code",
   "execution_count": 19,
   "metadata": {
    "ExecuteTime": {
     "end_time": "2022-10-15T12:22:42.656686Z",
     "start_time": "2022-10-15T12:18:51.507909Z"
    },
    "id": "fO9TackKvKcS"
   },
   "outputs": [],
   "source": [
    "scores = []\n",
    "for max_depth in max_depth_list:\n",
    "    for n_estimator in n_estimators_list:\n",
    "        rf = RandomForestRegressor(max_depth=max_depth, n_estimators=n_estimator, random_state=1, n_jobs=-1)\n",
    "        rf.fit(X_train, y_train)\n",
    "        y_pred_val = rf.predict(X_val)\n",
    "        score = mean_squared_error(y_pred_val, y_val, squared=False)\n",
    "        scores.append((max_depth, n_estimator, score)) \n",
    "df_scores = pd.DataFrame(scores, columns=['max_depth', 'n_estimators', 'RMSE'])"
   ]
  },
  {
   "cell_type": "code",
   "execution_count": 20,
   "metadata": {
    "ExecuteTime": {
     "end_time": "2022-10-15T12:22:43.254803Z",
     "start_time": "2022-10-15T12:22:42.664646Z"
    }
   },
   "outputs": [
    {
     "data": {
      "image/png": "[encoded data removed]",
      "text/plain": [
       "<Figure size 432x288 with 1 Axes>"
      ]
     },
     "metadata": {
      "needs_background": "light"
     },
     "output_type": "display_data"
    }
   ],
   "source": [
    "for max_depth in max_depth_list:\n",
    "    df_temp = df_scores[df_scores[\"max_depth\"] == max_depth]\n",
    "    plt.plot(df_temp.n_estimators, df_temp.RMSE, label=max_depth)\n",
    "plt.legend()\n",
    "plt.show()"
   ]
  },
  {
   "cell_type": "markdown",
   "metadata": {
    "id": "eCRCaKlSwp7D"
   },
   "source": [
    "- What's the best `max_depth`:\n",
    "\n",
    "- Answer: **25**"
   ]
  },
  {
   "cell_type": "markdown",
   "metadata": {
    "id": "BDLbx3N5xAoY"
   },
   "source": [
    "## Question 5\n",
    "\n",
    "We can extract feature importance information from tree-based models.\n",
    "\n",
    "At each step of the decision tree learning algorith, it finds the best split. When doint it, we can calculate \"gain\" - the reduction in impurity before and after the split. This gain is quite useful in understanding what are the imporatant features for tree-based models.\n",
    "\n",
    "In Scikit-Learn, tree-based models contain this information in the `feature_importances_` field.\n",
    "\n",
    "For this homework question, we'll find the most important feature:\n",
    "\n",
    "Train the model with these parametes:\n",
    "- `n_estimators=10`,\n",
    "- `max_depth=20`,\n",
    "- `random_state=1`,\n",
    "- `n_jobs=-1` (optional)\n",
    "\n",
    "Get the feature importance information from this model"
   ]
  },
  {
   "cell_type": "code",
   "execution_count": 21,
   "metadata": {
    "ExecuteTime": {
     "end_time": "2022-10-15T12:22:43.792913Z",
     "start_time": "2022-10-15T12:22:43.259937Z"
    },
    "id": "UICqST2Qwhbj"
   },
   "outputs": [
    {
     "data": {
      "text/plain": [
       "RandomForestRegressor(max_depth=20, n_estimators=10, n_jobs=-1, random_state=1)"
      ]
     },
     "execution_count": 21,
     "metadata": {},
     "output_type": "execute_result"
    }
   ],
   "source": [
    "rf = RandomForestRegressor(n_estimators=10, max_depth=20, \n",
    "                           random_state=1, n_jobs=-1)\n",
    "rf.fit(X_train, y_train)"
   ]
  },
  {
   "cell_type": "code",
   "execution_count": 22,
   "metadata": {
    "ExecuteTime": {
     "end_time": "2022-10-15T12:22:43.839953Z",
     "start_time": "2022-10-15T12:22:43.804960Z"
    }
   },
   "outputs": [
    {
     "data": {
      "text/plain": [
       "array([1.69573183e-02, 3.30938997e-02, 1.01333971e-01, 9.62649876e-02,\n",
       "       3.62912907e-01, 3.00723750e-03, 3.10900842e-01, 3.56806263e-04,\n",
       "       4.48661972e-04, 4.22762446e-03, 3.09180197e-02, 1.90412562e-02,\n",
       "       2.05364687e-02])"
      ]
     },
     "execution_count": 22,
     "metadata": {},
     "output_type": "execute_result"
    }
   ],
   "source": [
    "rf.feature_importances_"
   ]
  },
  {
   "cell_type": "code",
   "execution_count": 23,
   "metadata": {
    "ExecuteTime": {
     "end_time": "2022-10-15T12:22:43.919917Z",
     "start_time": "2022-10-15T12:22:43.849914Z"
    }
   },
   "outputs": [
    {
     "data": {
      "text/html": [
       "<div>\n",
       "<style scoped>\n",
       "    .dataframe tbody tr th:only-of-type {\n",
       "        vertical-align: middle;\n",
       "    }\n",
       "\n",
       "    .dataframe tbody tr th {\n",
       "        vertical-align: top;\n",
       "    }\n",
       "\n",
       "    .dataframe thead th {\n",
       "        text-align: right;\n",
       "    }\n",
       "</style>\n",
       "<table border=\"1\" class=\"dataframe\">\n",
       "  <thead>\n",
       "    <tr style=\"text-align: right;\">\n",
       "      <th></th>\n",
       "      <th>feature</th>\n",
       "      <th>importance</th>\n",
       "    </tr>\n",
       "  </thead>\n",
       "  <tbody>\n",
       "    <tr>\n",
       "      <th>7</th>\n",
       "      <td>ocean_proximity=ISLAND</td>\n",
       "      <td>0.000357</td>\n",
       "    </tr>\n",
       "    <tr>\n",
       "      <th>8</th>\n",
       "      <td>ocean_proximity=NEAR BAY</td>\n",
       "      <td>0.000449</td>\n",
       "    </tr>\n",
       "    <tr>\n",
       "      <th>5</th>\n",
       "      <td>ocean_proximity=&lt;1H OCEAN</td>\n",
       "      <td>0.003007</td>\n",
       "    </tr>\n",
       "    <tr>\n",
       "      <th>9</th>\n",
       "      <td>ocean_proximity=NEAR OCEAN</td>\n",
       "      <td>0.004228</td>\n",
       "    </tr>\n",
       "    <tr>\n",
       "      <th>0</th>\n",
       "      <td>households</td>\n",
       "      <td>0.016957</td>\n",
       "    </tr>\n",
       "    <tr>\n",
       "      <th>11</th>\n",
       "      <td>total_bedrooms</td>\n",
       "      <td>0.019041</td>\n",
       "    </tr>\n",
       "    <tr>\n",
       "      <th>12</th>\n",
       "      <td>total_rooms</td>\n",
       "      <td>0.020536</td>\n",
       "    </tr>\n",
       "    <tr>\n",
       "      <th>10</th>\n",
       "      <td>population</td>\n",
       "      <td>0.030918</td>\n",
       "    </tr>\n",
       "    <tr>\n",
       "      <th>1</th>\n",
       "      <td>housing_median_age</td>\n",
       "      <td>0.033094</td>\n",
       "    </tr>\n",
       "    <tr>\n",
       "      <th>3</th>\n",
       "      <td>longitude</td>\n",
       "      <td>0.096265</td>\n",
       "    </tr>\n",
       "    <tr>\n",
       "      <th>2</th>\n",
       "      <td>latitude</td>\n",
       "      <td>0.101334</td>\n",
       "    </tr>\n",
       "    <tr>\n",
       "      <th>6</th>\n",
       "      <td>ocean_proximity=INLAND</td>\n",
       "      <td>0.310901</td>\n",
       "    </tr>\n",
       "    <tr>\n",
       "      <th>4</th>\n",
       "      <td>median_income</td>\n",
       "      <td>0.362913</td>\n",
       "    </tr>\n",
       "  </tbody>\n",
       "</table>\n",
       "</div>"
      ],
      "text/plain": [
       "                       feature  importance\n",
       "7       ocean_proximity=ISLAND    0.000357\n",
       "8     ocean_proximity=NEAR BAY    0.000449\n",
       "5    ocean_proximity=<1H OCEAN    0.003007\n",
       "9   ocean_proximity=NEAR OCEAN    0.004228\n",
       "0                   households    0.016957\n",
       "11              total_bedrooms    0.019041\n",
       "12                 total_rooms    0.020536\n",
       "10                  population    0.030918\n",
       "1           housing_median_age    0.033094\n",
       "3                    longitude    0.096265\n",
       "2                     latitude    0.101334\n",
       "6       ocean_proximity=INLAND    0.310901\n",
       "4                median_income    0.362913"
      ]
     },
     "execution_count": 23,
     "metadata": {},
     "output_type": "execute_result"
    }
   ],
   "source": [
    "df_importances = pd.DataFrame()\n",
    "df_importances['feature'] = dv.get_feature_names()\n",
    "df_importances['importance'] = rf.feature_importances_\n",
    "df_importances.sort_values(by=\"importance\")"
   ]
  },
  {
   "cell_type": "markdown",
   "metadata": {
    "id": "kSCqlx9jye1s"
   },
   "source": [
    "- What's the most important feature?\n",
    "\n",
    "- Answer: **median_income**"
   ]
  },
  {
   "cell_type": "markdown",
   "metadata": {
    "id": "K5KEdiTMzPaI"
   },
   "source": [
    "## Question 6\n",
    "\n",
    "Now let's train an XGBoost model! For this question, we'll tune the eta parameter:\n",
    "\n",
    "- Install XGBoost.\n",
    "- Create DMatrix for train and validation\n",
    "- Create a watchlist\n",
    "- Train a model with these parameters for 100 rounds:\n",
    "\n",
    "```\n",
    "xgb_params = {  \n",
    "    'eta': 0.3,  \n",
    "    'max_depth': 6,  \n",
    "    'min_child_weight': 1,  \n",
    "\n",
    "    'objective': 'reg:squarederror',\n",
    "    'nthread': 8,\n",
    "\n",
    "    'seed': 1,\n",
    "    'verbosity': 1,\n",
    "}\n",
    "```\n",
    "\n"
   ]
  },
  {
   "cell_type": "code",
   "execution_count": 24,
   "metadata": {
    "ExecuteTime": {
     "end_time": "2022-10-15T12:22:44.093061Z",
     "start_time": "2022-10-15T12:22:43.926199Z"
    },
    "id": "TUP0uoL5yZTc"
   },
   "outputs": [],
   "source": [
    "#@ CREATING THE DMARTIX:\n",
    "features = dv.feature_names_\n",
    "\n",
    "regex = re.compile(r\"<\", re.IGNORECASE)\n",
    "features = [regex.sub(\"_\", col) if any(x in str(col) for x in set(('[', ']', '<'))) else col for col in features]\n",
    "\n",
    "dtrain = xgb.DMatrix(X_train, label=y_train, feature_names=features)\n",
    "dval = xgb.DMatrix(X_val, label=y_val, feature_names=features)"
   ]
  },
  {
   "cell_type": "code",
   "execution_count": 25,
   "metadata": {
    "ExecuteTime": {
     "end_time": "2022-10-15T12:22:44.108909Z",
     "start_time": "2022-10-15T12:22:44.097916Z"
    }
   },
   "outputs": [],
   "source": [
    "watchlist = [(dtrain, 'train'), (dval, 'val')]"
   ]
  },
  {
   "cell_type": "code",
   "execution_count": 26,
   "metadata": {
    "ExecuteTime": {
     "end_time": "2022-10-15T12:22:44.139918Z",
     "start_time": "2022-10-15T12:22:44.113915Z"
    }
   },
   "outputs": [],
   "source": [
    "def parse_xgb_output(output):\n",
    "    results = []\n",
    "\n",
    "    for line in output.stdout.strip().split('\\n'):\n",
    "        it_line, train_line, val_line = line.split('\\t')\n",
    "\n",
    "        it = int(it_line.strip('[]'))\n",
    "        train = float(train_line.split(':')[1])\n",
    "        val = float(val_line.split(':')[1])\n",
    "\n",
    "        results.append((it, train, val))\n",
    "    columns = ['num_iter', 'train_rmse', 'val_rmse']\n",
    "    df_results = pd.DataFrame(results, columns=columns)\n",
    "    return df_results"
   ]
  },
  {
   "cell_type": "code",
   "execution_count": 42,
   "metadata": {
    "ExecuteTime": {
     "end_time": "2022-10-15T12:26:20.051096Z",
     "start_time": "2022-10-15T12:26:18.314444Z"
    },
    "id": "lRRzLznP-Z-Q"
   },
   "outputs": [],
   "source": [
    "%%capture model_output\n",
    "xgb_params = {  \n",
    "    # how fast our model learns\n",
    "    'eta': 0.3,  \n",
    "    'max_depth': 6,  \n",
    "    # how many observations we need to have in a leaf node\n",
    "    'min_child_weight': 1,  \n",
    "\n",
    "    'objective': 'reg:squarederror',\n",
    "    'nthread': 8,\n",
    "\n",
    "    'seed': 1,\n",
    "    'verbosity': 1,\n",
    "}\n",
    "model = xgb.train(xgb_params,\n",
    "                  dtrain,\n",
    "                  num_boost_round=100,\n",
    "                  evals=watchlist)"
   ]
  },
  {
   "cell_type": "code",
   "execution_count": 43,
   "metadata": {
    "ExecuteTime": {
     "end_time": "2022-10-15T12:26:22.448088Z",
     "start_time": "2022-10-15T12:26:22.436256Z"
    }
   },
   "outputs": [],
   "source": [
    "df_eta03 = parse_xgb_output(model_output)"
   ]
  },
  {
   "cell_type": "code",
   "execution_count": 44,
   "metadata": {
    "ExecuteTime": {
     "end_time": "2022-10-15T12:26:24.996370Z",
     "start_time": "2022-10-15T12:26:24.592637Z"
    }
   },
   "outputs": [
    {
     "data": {
      "image/png": "[encoded data removed]",
      "text/plain": [
       "<Figure size 432x288 with 1 Axes>"
      ]
     },
     "metadata": {
      "needs_background": "light"
     },
     "output_type": "display_data"
    }
   ],
   "source": [
    "plt.plot(df_eta03.num_iter, df_eta03.val_rmse, label=\"validaion\")\n",
    "plt.plot(df_eta03.num_iter, df_eta03.train_rmse, label=\"train\")\n",
    "\n",
    "plt.ylabel(\"RMSE\")\n",
    "plt.xlabel(\"number of iterations\")\n",
    "plt.legend()\n",
    "plt.show()"
   ]
  },
  {
   "cell_type": "markdown",
   "metadata": {
    "id": "3RmcQ1BQ64X-"
   },
   "source": [
    "- Now, change eta first to 0.1 and then to 0.01."
   ]
  },
  {
   "cell_type": "code",
   "execution_count": 45,
   "metadata": {
    "ExecuteTime": {
     "end_time": "2022-10-15T12:26:29.093650Z",
     "start_time": "2022-10-15T12:26:27.279763Z"
    }
   },
   "outputs": [],
   "source": [
    "%%capture model_output\n",
    "xgb_params = {  \n",
    "    # how fast our model learns\n",
    "    'eta': 0.1,  \n",
    "    'max_depth': 6,  \n",
    "    # how many observations we need to have in a leaf node\n",
    "    'min_child_weight': 1,  \n",
    "\n",
    "    'objective': 'reg:squarederror',\n",
    "    'nthread': 8,\n",
    "\n",
    "    'seed': 1,\n",
    "    'verbosity': 1,\n",
    "}\n",
    "model = xgb.train(xgb_params,\n",
    "                  dtrain,\n",
    "                  num_boost_round=100,\n",
    "                  evals=watchlist)"
   ]
  },
  {
   "cell_type": "code",
   "execution_count": 46,
   "metadata": {
    "ExecuteTime": {
     "end_time": "2022-10-15T12:26:31.537811Z",
     "start_time": "2022-10-15T12:26:31.525546Z"
    }
   },
   "outputs": [],
   "source": [
    "df_eta01 = parse_xgb_output(model_output)"
   ]
  },
  {
   "cell_type": "code",
   "execution_count": 47,
   "metadata": {
    "ExecuteTime": {
     "end_time": "2022-10-15T12:26:35.265043Z",
     "start_time": "2022-10-15T12:26:33.779061Z"
    }
   },
   "outputs": [],
   "source": [
    "%%capture model_output\n",
    "xgb_params = {  \n",
    "    # how fast our model learns\n",
    "    'eta': 0.01,  \n",
    "    'max_depth': 6,  \n",
    "    # how many observations we need to have in a leaf node\n",
    "    'min_child_weight': 1,  \n",
    "\n",
    "    'objective': 'reg:squarederror',\n",
    "    'nthread': 8,\n",
    "\n",
    "    'seed': 1,\n",
    "    'verbosity': 1,\n",
    "}\n",
    "model = xgb.train(xgb_params,\n",
    "                  dtrain,\n",
    "                  num_boost_round=100,\n",
    "                  evals=watchlist)"
   ]
  },
  {
   "cell_type": "code",
   "execution_count": 48,
   "metadata": {
    "ExecuteTime": {
     "end_time": "2022-10-15T12:26:37.558447Z",
     "start_time": "2022-10-15T12:26:37.550069Z"
    }
   },
   "outputs": [],
   "source": [
    "df_eta001 = parse_xgb_output(model_output)"
   ]
  },
  {
   "cell_type": "code",
   "execution_count": 50,
   "metadata": {
    "ExecuteTime": {
     "end_time": "2022-10-15T12:26:42.905271Z",
     "start_time": "2022-10-15T12:26:42.525225Z"
    },
    "scrolled": false
   },
   "outputs": [
    {
     "data": {
      "image/png": "[encoded data removed]",
      "text/plain": [
       "<Figure size 432x288 with 1 Axes>"
      ]
     },
     "metadata": {
      "needs_background": "light"
     },
     "output_type": "display_data"
    }
   ],
   "source": [
    "plt.plot(df_eta03.num_iter, df_eta03.val_rmse, label=\"eta=0.3\")\n",
    "plt.plot(df_eta01.num_iter, df_eta01.val_rmse, label=\"eta=0.1\")\n",
    "plt.plot(df_eta001.num_iter, df_eta001.val_rmse, label=\"eta=0.01\")\n",
    "\n",
    "plt.ylabel(\"RMSE\")\n",
    "plt.xlabel(\"number of iterations\")\n",
    "plt.ylim(0.2,0.3)\n",
    "plt.legend()\n",
    "plt.show()"
   ]
  },
  {
   "cell_type": "markdown",
   "metadata": {
    "id": "Yl6Xn6Zb76iH"
   },
   "source": [
    "- Which eta leads to the best RMSE score on the validation dataset?\n",
    "\n",
    "- Answer: **eta=0.3**"
   ]
  },
  {
   "cell_type": "code",
   "execution_count": 70,
   "metadata": {
    "ExecuteTime": {
     "end_time": "2022-10-15T12:36:44.867991Z",
     "start_time": "2022-10-15T12:36:42.336462Z"
    },
    "scrolled": true
   },
   "outputs": [
    {
     "name": "stderr",
     "output_type": "stream",
     "text": [
      "To https://github.com/Kibzik/mlbookcamp-code\n",
      "   20a014a..7ef2bc8  master -> master\n"
     ]
    }
   ],
   "source": [
    "!git push origin master"
   ]
  }
 ],
 "metadata": {
  "colab": {
   "provenance": []
  },
  "hide_input": false,
  "kernelspec": {
   "display_name": "Python 3",
   "language": "python",
   "name": "python3"
  },
  "language_info": {
   "codemirror_mode": {
    "name": "ipython",
    "version": 3
   },
   "file_extension": ".py",
   "mimetype": "text/x-python",
   "name": "python",
   "nbconvert_exporter": "python",
   "pygments_lexer": "ipython3",
   "version": "3.8.5"
  },
  "toc": {
   "base_numbering": 1,
   "nav_menu": {},
   "number_sections": true,
   "sideBar": true,
   "skip_h1_title": false,
   "title_cell": "Table of Contents",
   "title_sidebar": "Contents",
   "toc_cell": false,
   "toc_position": {},
   "toc_section_display": true,
   "toc_window_display": false
  },
  "varInspector": {
   "cols": {
    "lenName": 16,
    "lenType": 16,
    "lenVar": 40
   },
   "kernels_config": {
    "python": {
     "delete_cmd_postfix": "",
     "delete_cmd_prefix": "del ",
     "library": "var_list.py",
     "varRefreshCmd": "print(var_dic_list())"
    },
    "r": {
     "delete_cmd_postfix": ") ",
     "delete_cmd_prefix": "rm(",
     "library": "var_list.r",
     "varRefreshCmd": "cat(var_dic_list()) "
    }
   },
   "types_to_exclude": [
    "module",
    "function",
    "builtin_function_or_method",
    "instance",
    "_Feature"
   ],
   "window_display": false
  }
 },
 "nbformat": 4,
 "nbformat_minor": 1
}
