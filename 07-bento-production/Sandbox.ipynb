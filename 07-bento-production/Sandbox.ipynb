{
 "cells": [
  {
   "cell_type": "code",
   "execution_count": 3,
   "id": "d71140e1",
   "metadata": {
    "ExecuteTime": {
     "end_time": "2022-10-19T13:29:42.183465Z",
     "start_time": "2022-10-19T13:29:39.351346Z"
    },
    "pycharm": {
     "name": "#%%\n"
    }
   },
   "outputs": [],
   "source": [
    "import bentoml"
   ]
  },
  {
   "cell_type": "markdown",
   "id": "516a1d91",
   "metadata": {
    "pycharm": {
     "name": "#%% md\n"
    }
   },
   "source": [
    "## Question 1\n",
    "\n",
    "* Install BentoML\n",
    "* What's the version of BentoML you installed?\n",
    "* Use `--version` to find out"
   ]
  },
  {
   "cell_type": "code",
   "execution_count": 4,
   "id": "4deff878",
   "metadata": {
    "ExecuteTime": {
     "end_time": "2022-10-19T13:29:42.230053Z",
     "start_time": "2022-10-19T13:29:42.184566Z"
    },
    "pycharm": {
     "name": "#%%\n"
    },
    "scrolled": true
   },
   "outputs": [
    {
     "data": {
      "text/plain": [
       "'1.0.7'"
      ]
     },
     "execution_count": 4,
     "metadata": {},
     "output_type": "execute_result"
    }
   ],
   "source": [
    "bentoml.__version__"
   ]
  },
  {
   "cell_type": "markdown",
   "id": "b137bfd4",
   "metadata": {
    "pycharm": {
     "name": "#%% md\n"
    }
   },
   "source": [
    "## Question 2\n",
    "\n",
    "Run the notebook which contains random forest model from module 6 i.e previous module and save the model with BentoML. To make it easier for you we have prepared this [notebook](https://github.com/alexeygrigorev/mlbookcamp-code/blob/master/course-zoomcamp/07-bentoml-production/code/train.ipynb). \n",
    "\n",
    "How big approximately is the saved BentoML model? Size can slightly vary depending on your local development environment.\n",
    "Choose the size closest to your model."
   ]
  },
  {
   "cell_type": "code",
   "execution_count": 33,
   "id": "7954b458",
   "metadata": {
    "ExecuteTime": {
     "end_time": "2022-10-19T18:51:36.767305Z",
     "start_time": "2022-10-19T18:51:34.420174Z"
    }
   },
   "outputs": [
    {
     "name": "stdout",
     "output_type": "stream",
     "text": [
      " Tag                          Module           Size        Creation Time       \n",
      " credit_scoring_xgboost:eieвЂ¦  bentoml.xgboost  268.21 KiB  2022-10-19 21:30:40 \n",
      " credit_risk_model:p4j4gq2pвЂ¦  bentoml.xgboost  119.27 KiB  2022-10-19 16:32:37 \n",
      " credit_risk_model:mqk2i3cpвЂ¦  bentoml.sklearn  79.96 KiB   2022-10-19 16:17:33 \n",
      " mlzoomcamp_homework:qtzdz3вЂ¦  bentoml.sklearn  5.79 KiB    2022-10-13 23:42:14 \n"
     ]
    }
   ],
   "source": [
    "!bentoml models list"
   ]
  },
  {
   "cell_type": "markdown",
   "id": "49166eda",
   "metadata": {},
   "source": [
    "### Answer\n",
    "80kb / 179kb"
   ]
  },
  {
   "cell_type": "markdown",
   "id": "80f1723e",
   "metadata": {},
   "source": [
    "## Question 3\n",
    "\n",
    "Say you have the following data that you're sending to your service:\n",
    "\n",
    "```json\n",
    "{\n",
    "  \"name\": \"Tim\",\n",
    "  \"age\": 37,\n",
    "  \"country\": \"US\",\n",
    "  \"rating\": 3.14\n",
    "}\n",
    "```\n",
    "\n",
    "What would the pydantic class look like? You can name the class `UserProfile`."
   ]
  },
  {
   "cell_type": "markdown",
   "id": "79c7ee98",
   "metadata": {
    "ExecuteTime": {
     "end_time": "2022-10-19T17:56:10.956362Z",
     "start_time": "2022-10-19T17:56:10.924657Z"
    }
   },
   "source": [
    "### Answer\n",
    "class UserProfile(BaseModel):  \n",
    "    name: str  \n",
    "    age: int  \n",
    "    country: str  \n",
    "    rating: float"
   ]
  },
  {
   "cell_type": "markdown",
   "id": "6a886951",
   "metadata": {},
   "source": [
    "## Question 4\n",
    "\n",
    "We've prepared a model for you that you can import using:\n",
    "\n",
    "```bash\n",
    "curl -O https://s3.us-west-2.amazonaws.com/bentoml.com/mlzoomcamp/coolmodel.bentomodel\n",
    "bentoml models import coolmodel.bentomodel\n",
    "```\n",
    "\n",
    "What version of scikit-learn was this model trained with?"
   ]
  },
  {
   "cell_type": "code",
   "execution_count": 9,
   "id": "46474edb",
   "metadata": {
    "ExecuteTime": {
     "end_time": "2022-10-19T17:56:42.851582Z",
     "start_time": "2022-10-19T17:56:40.210855Z"
    }
   },
   "outputs": [
    {
     "name": "stderr",
     "output_type": "stream",
     "text": [
      "  % Total    % Received % Xferd  Average Speed   Time    Time     Time  Current\n",
      "                                 Dload  Upload   Total   Spent    Left  Speed\n",
      "\n",
      "  0     0    0     0    0     0      0      0 --:--:-- --:--:-- --:--:--     0\n",
      "  0     0    0     0    0     0      0      0 --:--:--  0:00:02 --:--:--     0\n",
      "100  1724  100  1724    0     0    690      0  0:00:02  0:00:02 --:--:--   690\n"
     ]
    }
   ],
   "source": [
    "!curl -O https://s3.us-west-2.amazonaws.com/bentoml.com/mlzoomcamp/coolmodel.bentomodel"
   ]
  },
  {
   "cell_type": "code",
   "execution_count": 11,
   "id": "d5dc5cc8",
   "metadata": {
    "ExecuteTime": {
     "end_time": "2022-10-19T17:56:56.799912Z",
     "start_time": "2022-10-19T17:56:52.798221Z"
    }
   },
   "outputs": [
    {
     "name": "stdout",
     "output_type": "stream",
     "text": [
      "Model(tag=\"mlzoomcamp_homework:qtzdz3slg6mwwdu5\") imported\n"
     ]
    }
   ],
   "source": [
    "!bentoml models import coolmodel.bentomodel"
   ]
  },
  {
   "cell_type": "code",
   "execution_count": 18,
   "id": "5fe72f23",
   "metadata": {
    "ExecuteTime": {
     "end_time": "2022-10-19T18:36:50.341338Z",
     "start_time": "2022-10-19T18:36:48.094416Z"
    },
    "scrolled": true
   },
   "outputs": [
    {
     "name": "stdout",
     "output_type": "stream",
     "text": [
      "name: mlzoomcamp_homework                                                      \n",
      "version: qtzdz3slg6mwwdu5                                                      \n",
      "module: bentoml.sklearn                                                        \n",
      "labels: {}                                                                     \n",
      "options: {}                                                                    \n",
      "metadata: {}                                                                   \n",
      "context:                                                                       \n",
      "  framework_name: sklearn                                                      \n",
      "  framework_versions:                                                          \n",
      "    scikit-learn: 1.1.1                                                        \n",
      "  bentoml_version: 1.0.7                                                       \n",
      "  python_version: 3.9.12                                                       \n",
      "signatures:                                                                    \n",
      "  predict:                                                                     \n",
      "    batchable: false                                                           \n",
      "api_version: v1                                                                \n",
      "creation_time: '2022-10-13T20:42:14.411084+00:00'                              \n",
      "                                                                               \n"
     ]
    }
   ],
   "source": [
    "!bentoml models get mlzoomcamp_homework:latest"
   ]
  },
  {
   "cell_type": "markdown",
   "id": "839c949e",
   "metadata": {},
   "source": [
    "### Answer\n",
    "1.1.1"
   ]
  },
  {
   "cell_type": "markdown",
   "id": "f3777c76",
   "metadata": {},
   "source": [
    "## Question 5 \n",
    "\n",
    "Create a bento out of this scikit-learn model. This will require installing scikit-learn like this:\n",
    "```bash\n",
    "pip install scikit-learn\n",
    "```\n",
    "\n",
    "Hint: The output type for this endpoint should be NumpyNdarray()\n",
    "\n",
    "Send this array to the bento:\n",
    "\n",
    "```\n",
    "[[6.4,3.5,4.5,1.2]]\n",
    "```\n",
    "\n",
    "You can use curl or the Swagger UI. What value does it return? "
   ]
  },
  {
   "cell_type": "code",
   "execution_count": 28,
   "id": "d7e2c22b",
   "metadata": {
    "ExecuteTime": {
     "end_time": "2022-10-19T18:44:31.020796Z",
     "start_time": "2022-10-19T18:44:24.598587Z"
    }
   },
   "outputs": [
    {
     "name": "stdout",
     "output_type": "stream",
     "text": [
      "^C\n"
     ]
    }
   ],
   "source": [
    "# !bentoml serve mlbookcamp_service.py --reload"
   ]
  },
  {
   "cell_type": "code",
   "execution_count": 32,
   "id": "34ba035c",
   "metadata": {
    "ExecuteTime": {
     "end_time": "2022-10-19T18:50:29.667941Z",
     "start_time": "2022-10-19T18:50:29.377309Z"
    },
    "collapsed": true
   },
   "outputs": [
    {
     "name": "stdout",
     "output_type": "stream",
     "text": [
      "[1]\n"
     ]
    },
    {
     "name": "stderr",
     "output_type": "stream",
     "text": [
      "  % Total    % Received % Xferd  Average Speed   Time    Time     Time  Current\n",
      "                                 Dload  Upload   Total   Spent    Left  Speed\n",
      "\n",
      "  0     0    0     0    0     0      0      0 --:--:-- --:--:-- --:--:--     0\n",
      "100    25  100     3  100    22     13     97 --:--:-- --:--:-- --:--:--   110\n"
     ]
    }
   ],
   "source": [
    "!curl -X POST -H \"Content-Type: application/json\" --data \"[[6.4, 3.5, 4.5, 1.2]]\" http://localhost:3000/classify"
   ]
  },
  {
   "cell_type": "markdown",
   "id": "9ac8a411",
   "metadata": {},
   "source": [
    "### Answer\n",
    "[\n",
    "  1\n",
    "]"
   ]
  },
  {
   "cell_type": "markdown",
   "id": "bf22ee46",
   "metadata": {},
   "source": [
    "## Question 6\n",
    "\n",
    "Ensure to serve your bento with `--production` for this question\n",
    "\n",
    "Install locust using:\n",
    "\n",
    "```bash\n",
    "pip install locust\n",
    "```\n",
    "\n",
    "Use the following locust file: [locustfile.py](locustfile.py)\n",
    "\n",
    "Ensure that it is pointed at your bento's endpoint (In case you didn't name your endpoint \"classify\")\n",
    "\n",
    "<img src=\"resources/classify-endpoint.png\">\n",
    "\n",
    "Configure 100 users with ramp time of 10 users per second. Click \"Start Swarming\" and ensure that it is working.\n",
    "\n",
    "Now download a second model with this command:\n",
    "\n",
    "```bash\n",
    "curl -O https://s3.us-west-2.amazonaws.com/bentoml.com/mlzoomcamp/coolmodel2.bentomodel\n",
    "```\n",
    "\n",
    "Or you can download with this link as well:\n",
    "[https://s3.us-west-2.amazonaws.com/bentoml.com/mlzoomcamp/coolmodel2.bentomodel](https://s3.us-west-2.amazonaws.com/bentoml.com/mlzoomcamp/coolmodel2.bentomodel)\n",
    "\n",
    "Now import the model:\n",
    "\n",
    "```bash\n",
    "bentoml models import coolmodel2.bentomodel\n",
    "```\n",
    "\n",
    "Update your bento's runner tag and test with both models. Which model allows more traffic (more throughput) as you ramp up the traffic?\n",
    "\n",
    "**Hint 1**: Remember to turn off and turn on your bento service between changing the model tag. Use Ctl-C to close the service in between trials.\n",
    "\n",
    "**Hint 2**: Increase the number of concurrent users to see which one has higher throughput\n",
    "\n",
    "Which model has better performance at higher volumes?"
   ]
  },
  {
   "cell_type": "code",
   "execution_count": 34,
   "id": "0f296f7e",
   "metadata": {
    "ExecuteTime": {
     "end_time": "2022-10-19T19:18:27.214782Z",
     "start_time": "2022-10-19T19:18:26.351364Z"
    }
   },
   "outputs": [
    {
     "name": "stderr",
     "output_type": "stream",
     "text": [
      "  % Total    % Received % Xferd  Average Speed   Time    Time     Time  Current\n",
      "                                 Dload  Upload   Total   Spent    Left  Speed\n",
      "\n",
      "  0     0    0     0    0     0      0      0 --:--:-- --:--:-- --:--:--     0\n",
      "100  1728  100  1728    0     0   2198      0 --:--:-- --:--:-- --:--:--  2198\n"
     ]
    }
   ],
   "source": [
    "!curl -O https://s3.us-west-2.amazonaws.com/bentoml.com/mlzoomcamp/coolmodel2.bentomodel"
   ]
  },
  {
   "cell_type": "code",
   "execution_count": 35,
   "id": "0e564d20",
   "metadata": {
    "ExecuteTime": {
     "end_time": "2022-10-19T19:18:38.044619Z",
     "start_time": "2022-10-19T19:18:34.822939Z"
    }
   },
   "outputs": [
    {
     "name": "stdout",
     "output_type": "stream",
     "text": [
      "Model(tag=\"mlzoomcamp_homework:jsi67fslz6txydu5\") imported\n"
     ]
    }
   ],
   "source": [
    "!bentoml models import coolmodel2.bentomodel"
   ]
  },
  {
   "cell_type": "code",
   "execution_count": 36,
   "id": "4c627c89",
   "metadata": {
    "ExecuteTime": {
     "end_time": "2022-10-20T08:55:11.455431Z",
     "start_time": "2022-10-20T08:55:06.634493Z"
    }
   },
   "outputs": [
    {
     "name": "stdout",
     "output_type": "stream",
     "text": [
      " Tag                          Module           Size        Creation Time       \n",
      " credit_scoring_xgboost:eieвЂ¦  bentoml.xgboost  268.21 KiB  2022-10-19 21:30:40 \n",
      " credit_risk_model:p4j4gq2pвЂ¦  bentoml.xgboost  119.27 KiB  2022-10-19 16:32:37 \n",
      " credit_risk_model:mqk2i3cpвЂ¦  bentoml.sklearn  79.96 KiB   2022-10-19 16:17:33 \n",
      " mlzoomcamp_homework:jsi67fвЂ¦  bentoml.sklearn  5.82 KiB    2022-10-14 17:48:43 \n",
      " mlzoomcamp_homework:qtzdz3вЂ¦  bentoml.sklearn  5.79 KiB    2022-10-13 23:42:14 \n"
     ]
    }
   ],
   "source": [
    "!bentoml models list"
   ]
  },
  {
   "cell_type": "code",
   "execution_count": 37,
   "id": "656b6962",
   "metadata": {
    "ExecuteTime": {
     "end_time": "2022-10-21T13:17:57.376955Z",
     "start_time": "2022-10-21T13:17:55.133416Z"
    }
   },
   "outputs": [
    {
     "name": "stderr",
     "output_type": "stream",
     "text": [
      "[2022-10-21 16:17:56,979] LAPTOP-Z/INFO/locust.main: Starting web interface at http://0.0.0.0:8089 (accepting connections from all network interfaces)\n",
      "[2022-10-21 16:17:57,006] LAPTOP-Z/INFO/locust.main: Starting Locust 2.12.2\n",
      "Traceback (most recent call last):\n",
      "  File \"src\\\\gevent\\\\greenlet.py\", line 908, in gevent._gevent_cgreenlet.Greenlet.run\n",
      "  File \"C:\\Users\\User\\AppData\\Local\\Programs\\Python\\Python310\\lib\\site-packages\\locust\\web.py\", line 473, in start_server\n",
      "    self.server.serve_forever()\n",
      "  File \"C:\\Users\\User\\AppData\\Local\\Programs\\Python\\Python310\\lib\\site-packages\\gevent\\baseserver.py\", line 398, in serve_forever\n",
      "    self.start()\n",
      "  File \"C:\\Users\\User\\AppData\\Local\\Programs\\Python\\Python310\\lib\\site-packages\\gevent\\baseserver.py\", line 336, in start\n",
      "    self.init_socket()\n",
      "  File \"C:\\Users\\User\\AppData\\Local\\Programs\\Python\\Python310\\lib\\site-packages\\gevent\\pywsgi.py\", line 1545, in init_socket\n",
      "    StreamServer.init_socket(self)\n",
      "  File \"C:\\Users\\User\\AppData\\Local\\Programs\\Python\\Python310\\lib\\site-packages\\gevent\\server.py\", line 180, in init_socket\n",
      "    self.socket = self.get_listener(self.address, self.backlog, self.family)\n",
      "  File \"C:\\Users\\User\\AppData\\Local\\Programs\\Python\\Python310\\lib\\site-packages\\gevent\\server.py\", line 192, in get_listener\n",
      "    return _tcp_listener(address, backlog=backlog, reuse_addr=cls.reuse_addr, family=family)\n",
      "  File \"C:\\Users\\User\\AppData\\Local\\Programs\\Python\\Python310\\lib\\site-packages\\gevent\\server.py\", line 288, in _tcp_listener\n",
      "    sock.bind(address)\n",
      "  File \"C:\\Users\\User\\AppData\\Local\\Programs\\Python\\Python310\\lib\\site-packages\\gevent\\_socketcommon.py\", line 563, in bind\n",
      "    return self._sock.bind(address)\n",
      "OSError: [WinError 10048] Обычно разрешается только одно использование адреса сокета (протокол/сетевой адрес/порт): ('', 8089)\n",
      "2022-10-21T13:17:57Z <Greenlet at 0x1b74cfe3be0: <bound method WebUI.start_server of <locust.web.WebUI object at 0x000001B74D36C160>>> failed with OSError\n",
      "\n",
      "[2022-10-21 16:17:57,029] LAPTOP-Z/CRITICAL/locust.web: Unhandled exception in greenlet: <Greenlet at 0x1b74cfe3be0: <bound method WebUI.start_server of <locust.web.WebUI object at 0x000001B74D36C160>>>\n",
      "Traceback (most recent call last):\n",
      "  File \"src\\\\gevent\\\\greenlet.py\", line 908, in gevent._gevent_cgreenlet.Greenlet.run\n",
      "  File \"C:\\Users\\User\\AppData\\Local\\Programs\\Python\\Python310\\lib\\site-packages\\locust\\web.py\", line 473, in start_server\n",
      "    self.server.serve_forever()\n",
      "  File \"C:\\Users\\User\\AppData\\Local\\Programs\\Python\\Python310\\lib\\site-packages\\gevent\\baseserver.py\", line 398, in serve_forever\n",
      "    self.start()\n",
      "  File \"C:\\Users\\User\\AppData\\Local\\Programs\\Python\\Python310\\lib\\site-packages\\gevent\\baseserver.py\", line 336, in start\n",
      "    self.init_socket()\n",
      "  File \"C:\\Users\\User\\AppData\\Local\\Programs\\Python\\Python310\\lib\\site-packages\\gevent\\pywsgi.py\", line 1545, in init_socket\n",
      "    StreamServer.init_socket(self)\n",
      "  File \"C:\\Users\\User\\AppData\\Local\\Programs\\Python\\Python310\\lib\\site-packages\\gevent\\server.py\", line 180, in init_socket\n",
      "    self.socket = self.get_listener(self.address, self.backlog, self.family)\n",
      "  File \"C:\\Users\\User\\AppData\\Local\\Programs\\Python\\Python310\\lib\\site-packages\\gevent\\server.py\", line 192, in get_listener\n",
      "    return _tcp_listener(address, backlog=backlog, reuse_addr=cls.reuse_addr, family=family)\n",
      "  File \"C:\\Users\\User\\AppData\\Local\\Programs\\Python\\Python310\\lib\\site-packages\\gevent\\server.py\", line 288, in _tcp_listener\n",
      "    sock.bind(address)\n",
      "  File \"C:\\Users\\User\\AppData\\Local\\Programs\\Python\\Python310\\lib\\site-packages\\gevent\\_socketcommon.py\", line 563, in bind\n",
      "    return self._sock.bind(address)\n",
      "OSError: [WinError 10048] Обычно разрешается только одно использование адреса сокета (протокол/сетевой адрес/порт): ('', 8089)\n",
      "[2022-10-21 16:17:57,032] LAPTOP-Z/INFO/locust.main: Shutting down (exit code 2)\n",
      "Type     Name                                                                          # reqs      # fails |    Avg     Min     Max    Med |   req/s  failures/s\n",
      "--------|----------------------------------------------------------------------------|-------|-------------|-------|-------|-------|-------|--------|-----------\n",
      "--------|----------------------------------------------------------------------------|-------|-------------|-------|-------|-------|-------|--------|-----------\n",
      "         Aggregated                                                                         0     0(0.00%) |      0       0       0      0 |    0.00        0.00\n",
      "\n",
      "Response time percentiles (approximated)\n",
      "Type     Name                                                                                  50%    66%    75%    80%    90%    95%    98%    99%  99.9% 99.99%   100% # reqs\n",
      "--------|--------------------------------------------------------------------------------|--------|------|------|------|------|------|------|------|------|------|------|------\n",
      "--------|--------------------------------------------------------------------------------|--------|------|------|------|------|------|------|------|------|------|------|------\n",
      "\n"
     ]
    }
   ],
   "source": [
    "!locust -H http://localhost:8089"
   ]
  },
  {
   "cell_type": "markdown",
   "id": "94422e44",
   "metadata": {},
   "source": [
    "### Answer\n",
    "The second model"
   ]
  },
  {
   "cell_type": "markdown",
   "id": "16e4542e",
   "metadata": {},
   "source": [
    "\n",
    "## Question 7 (optional)\n",
    "\n",
    "Go to this Bento deployment of Stable Diffusion: http://54.176.205.174/ (or deploy it yourself)\n",
    "\n",
    "Use the txt2image endpoint and update the prompt to: \"A cartoon dragon with sunglasses\". \n",
    "Don't change the seed, it should be 0 by default\n",
    "\n",
    "What is the resulting image?"
   ]
  },
  {
   "cell_type": "markdown",
   "id": "199fe69f",
   "metadata": {},
   "source": [
    "### Answer\n",
    "blob:http://54.176.205.174/ee9ced7a-d31c-4785-b336-b4f9555ffb6f\n",
    "red dragin on white background"
   ]
  }
 ],
 "metadata": {
  "hide_input": false,
  "kernelspec": {
   "display_name": "Python 3",
   "language": "python",
   "name": "python3"
  },
  "language_info": {
   "codemirror_mode": {
    "name": "ipython",
    "version": 3
   },
   "file_extension": ".py",
   "mimetype": "text/x-python",
   "name": "python",
   "nbconvert_exporter": "python",
   "pygments_lexer": "ipython3",
   "version": "3.8.5"
  },
  "toc": {
   "base_numbering": 1,
   "nav_menu": {},
   "number_sections": true,
   "sideBar": true,
   "skip_h1_title": false,
   "title_cell": "Table of Contents",
   "title_sidebar": "Contents",
   "toc_cell": false,
   "toc_position": {},
   "toc_section_display": true,
   "toc_window_display": false
  },
  "varInspector": {
   "cols": {
    "lenName": 16,
    "lenType": 16,
    "lenVar": 40
   },
   "kernels_config": {
    "python": {
     "delete_cmd_postfix": "",
     "delete_cmd_prefix": "del ",
     "library": "var_list.py",
     "varRefreshCmd": "print(var_dic_list())"
    },
    "r": {
     "delete_cmd_postfix": ") ",
     "delete_cmd_prefix": "rm(",
     "library": "var_list.r",
     "varRefreshCmd": "cat(var_dic_list()) "
    }
   },
   "types_to_exclude": [
    "module",
    "function",
    "builtin_function_or_method",
    "instance",
    "_Feature"
   ],
   "window_display": false
  }
 },
 "nbformat": 4,
 "nbformat_minor": 5
}
