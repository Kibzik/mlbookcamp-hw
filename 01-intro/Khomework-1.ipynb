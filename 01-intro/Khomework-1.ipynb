{
 "cells": [
  {
   "cell_type": "code",
   "execution_count": 2,
   "id": "53926796",
   "metadata": {
    "ExecuteTime": {
     "end_time": "2022-09-11T08:01:50.927247Z",
     "start_time": "2022-09-11T08:01:49.575606Z"
    }
   },
   "outputs": [],
   "source": [
    "import numpy as np\n",
    "import pandas as pd"
   ]
  },
  {
   "cell_type": "markdown",
   "id": "6c3487ff",
   "metadata": {},
   "source": [
    "## What's the version of NumPy that you installed? "
   ]
  },
  {
   "cell_type": "code",
   "execution_count": 3,
   "id": "4b9920ea",
   "metadata": {
    "ExecuteTime": {
     "end_time": "2022-09-11T08:01:50.958658Z",
     "start_time": "2022-09-11T08:01:50.931294Z"
    }
   },
   "outputs": [
    {
     "data": {
      "text/plain": [
       "'1.22.3'"
      ]
     },
     "execution_count": 3,
     "metadata": {},
     "output_type": "execute_result"
    }
   ],
   "source": [
    "np.__version__"
   ]
  },
  {
   "cell_type": "markdown",
   "id": "2a3e1479",
   "metadata": {},
   "source": [
    "## Getting the data "
   ]
  },
  {
   "cell_type": "code",
   "execution_count": 4,
   "id": "f4de2d2b",
   "metadata": {
    "ExecuteTime": {
     "end_time": "2022-09-11T08:01:51.700832Z",
     "start_time": "2022-09-11T08:01:50.962697Z"
    }
   },
   "outputs": [
    {
     "name": "stderr",
     "output_type": "stream",
     "text": [
      "--2022-09-11 11:01:51--  https://raw.githubusercontent.com/alexeygrigorev/mlbookcamp-code/master/chapter-02-car-price/data.csv\n",
      "Resolving raw.githubusercontent.com (raw.githubusercontent.com)... 185.199.108.133, 185.199.109.133, 185.199.110.133, ...\n",
      "Connecting to raw.githubusercontent.com (raw.githubusercontent.com)|185.199.108.133|:443... connected.\n",
      "HTTP request sent, awaiting response... 200 OK\n",
      "Length: 1475504 (1,4M) [text/plain]\n",
      "Saving to: 'data.csv.1'\n",
      "\n",
      "     0K .......... .......... .......... .......... ..........  3% 1,04M 1s\n",
      "    50K .......... .......... .......... .......... ..........  6% 3,97M 1s\n",
      "   100K .......... .......... .......... .......... .......... 10% 1,59M 1s\n",
      "   150K .......... .......... .......... .......... .......... 13% 5,79M 1s\n",
      "   200K .......... .......... .......... .......... .......... 17% 6,22M 1s\n",
      "   250K .......... .......... .......... .......... .......... 20% 2,41M 0s\n",
      "   300K .......... .......... .......... .......... .......... 24% 6,36M 0s\n",
      "   350K .......... .......... .......... .......... .......... 27% 6,17M 0s\n",
      "   400K .......... .......... .......... .......... .......... 31% 36,2M 0s\n",
      "   450K .......... .......... .......... .......... .......... 34% 11,5M 0s\n",
      "   500K .......... .......... .......... .......... .......... 38% 12,8M 0s\n",
      "   550K .......... .......... .......... .......... .......... 41% 4,07M 0s\n",
      "   600K .......... .......... .......... .......... .......... 45% 8,54M 0s\n",
      "   650K .......... .......... .......... .......... .......... 48% 8,35M 0s\n",
      "   700K .......... .......... .......... .......... .......... 52% 15,4M 0s\n",
      "   750K .......... .......... .......... .......... .......... 55% 26,0M 0s\n",
      "   800K .......... .......... .......... .......... .......... 58% 8,17M 0s\n",
      "   850K .......... .......... .......... .......... .......... 62% 45,6M 0s\n",
      "   900K .......... .......... .......... .......... .......... 65% 40,5M 0s\n",
      "   950K .......... .......... .......... .......... .......... 69% 5,24M 0s\n",
      "  1000K .......... .......... .......... .......... .......... 72% 23,3M 0s\n",
      "  1050K .......... .......... .......... .......... .......... 76% 31,0M 0s\n",
      "  1100K .......... .......... .......... .......... .......... 79% 41,9M 0s\n",
      "  1150K .......... .......... .......... .......... .......... 83% 40,1M 0s\n",
      "  1200K .......... .......... .......... .......... .......... 86% 15,1M 0s\n",
      "  1250K .......... .......... .......... .......... .......... 90% 10,8M 0s\n",
      "  1300K .......... .......... .......... .......... .......... 93% 31,3M 0s\n",
      "  1350K .......... .......... .......... .......... .......... 97% 19,8M 0s\n",
      "  1400K .......... .......... .......... ..........           100% 16,1M=0,2s\n",
      "\n",
      "2022-09-11 11:01:51 (6,46 MB/s) - 'data.csv.1' saved [1475504/1475504]\n",
      "\n"
     ]
    }
   ],
   "source": [
    "!wget https://raw.githubusercontent.com/alexeygrigorev/mlbookcamp-code/master/chapter-02-car-price/data.csv"
   ]
  },
  {
   "cell_type": "code",
   "execution_count": 5,
   "id": "85c855f7",
   "metadata": {
    "ExecuteTime": {
     "end_time": "2022-09-11T08:01:51.809345Z",
     "start_time": "2022-09-11T08:01:51.709430Z"
    }
   },
   "outputs": [],
   "source": [
    "df_car = pd.read_csv(\"data.csv\")"
   ]
  },
  {
   "cell_type": "markdown",
   "id": "afd050b3",
   "metadata": {},
   "source": [
    "## How many records are in the dataset?"
   ]
  },
  {
   "cell_type": "code",
   "execution_count": 6,
   "id": "c94a6520",
   "metadata": {
    "ExecuteTime": {
     "end_time": "2022-09-11T08:01:51.824766Z",
     "start_time": "2022-09-11T08:01:51.813518Z"
    }
   },
   "outputs": [
    {
     "data": {
      "text/plain": [
       "(11914, 16)"
      ]
     },
     "execution_count": 6,
     "metadata": {},
     "output_type": "execute_result"
    }
   ],
   "source": [
    "df_car.shape"
   ]
  },
  {
   "cell_type": "markdown",
   "id": "83608a22",
   "metadata": {},
   "source": [
    "11914"
   ]
  },
  {
   "cell_type": "markdown",
   "id": "fc291581",
   "metadata": {},
   "source": [
    "## Who are the most popular car manufacturers (top-3) according to the dataset?"
   ]
  },
  {
   "cell_type": "code",
   "execution_count": 7,
   "id": "ad51fd03",
   "metadata": {
    "ExecuteTime": {
     "end_time": "2022-09-11T08:01:51.887473Z",
     "start_time": "2022-09-11T08:01:51.830392Z"
    }
   },
   "outputs": [
    {
     "data": {
      "text/html": [
       "<div>\n",
       "<style scoped>\n",
       "    .dataframe tbody tr th:only-of-type {\n",
       "        vertical-align: middle;\n",
       "    }\n",
       "\n",
       "    .dataframe tbody tr th {\n",
       "        vertical-align: top;\n",
       "    }\n",
       "\n",
       "    .dataframe thead th {\n",
       "        text-align: right;\n",
       "    }\n",
       "</style>\n",
       "<table border=\"1\" class=\"dataframe\">\n",
       "  <thead>\n",
       "    <tr style=\"text-align: right;\">\n",
       "      <th></th>\n",
       "      <th>Make</th>\n",
       "      <th>Model</th>\n",
       "      <th>Year</th>\n",
       "      <th>Engine Fuel Type</th>\n",
       "      <th>Engine HP</th>\n",
       "      <th>Engine Cylinders</th>\n",
       "      <th>Transmission Type</th>\n",
       "      <th>Driven_Wheels</th>\n",
       "      <th>Number of Doors</th>\n",
       "      <th>Market Category</th>\n",
       "      <th>Vehicle Size</th>\n",
       "      <th>Vehicle Style</th>\n",
       "      <th>highway MPG</th>\n",
       "      <th>city mpg</th>\n",
       "      <th>Popularity</th>\n",
       "      <th>MSRP</th>\n",
       "    </tr>\n",
       "  </thead>\n",
       "  <tbody>\n",
       "    <tr>\n",
       "      <th>0</th>\n",
       "      <td>BMW</td>\n",
       "      <td>1 Series M</td>\n",
       "      <td>2011</td>\n",
       "      <td>premium unleaded (required)</td>\n",
       "      <td>335.0</td>\n",
       "      <td>6.0</td>\n",
       "      <td>MANUAL</td>\n",
       "      <td>rear wheel drive</td>\n",
       "      <td>2.0</td>\n",
       "      <td>Factory Tuner,Luxury,High-Performance</td>\n",
       "      <td>Compact</td>\n",
       "      <td>Coupe</td>\n",
       "      <td>26</td>\n",
       "      <td>19</td>\n",
       "      <td>3916</td>\n",
       "      <td>46135</td>\n",
       "    </tr>\n",
       "    <tr>\n",
       "      <th>1</th>\n",
       "      <td>BMW</td>\n",
       "      <td>1 Series</td>\n",
       "      <td>2011</td>\n",
       "      <td>premium unleaded (required)</td>\n",
       "      <td>300.0</td>\n",
       "      <td>6.0</td>\n",
       "      <td>MANUAL</td>\n",
       "      <td>rear wheel drive</td>\n",
       "      <td>2.0</td>\n",
       "      <td>Luxury,Performance</td>\n",
       "      <td>Compact</td>\n",
       "      <td>Convertible</td>\n",
       "      <td>28</td>\n",
       "      <td>19</td>\n",
       "      <td>3916</td>\n",
       "      <td>40650</td>\n",
       "    </tr>\n",
       "    <tr>\n",
       "      <th>2</th>\n",
       "      <td>BMW</td>\n",
       "      <td>1 Series</td>\n",
       "      <td>2011</td>\n",
       "      <td>premium unleaded (required)</td>\n",
       "      <td>300.0</td>\n",
       "      <td>6.0</td>\n",
       "      <td>MANUAL</td>\n",
       "      <td>rear wheel drive</td>\n",
       "      <td>2.0</td>\n",
       "      <td>Luxury,High-Performance</td>\n",
       "      <td>Compact</td>\n",
       "      <td>Coupe</td>\n",
       "      <td>28</td>\n",
       "      <td>20</td>\n",
       "      <td>3916</td>\n",
       "      <td>36350</td>\n",
       "    </tr>\n",
       "    <tr>\n",
       "      <th>3</th>\n",
       "      <td>BMW</td>\n",
       "      <td>1 Series</td>\n",
       "      <td>2011</td>\n",
       "      <td>premium unleaded (required)</td>\n",
       "      <td>230.0</td>\n",
       "      <td>6.0</td>\n",
       "      <td>MANUAL</td>\n",
       "      <td>rear wheel drive</td>\n",
       "      <td>2.0</td>\n",
       "      <td>Luxury,Performance</td>\n",
       "      <td>Compact</td>\n",
       "      <td>Coupe</td>\n",
       "      <td>28</td>\n",
       "      <td>18</td>\n",
       "      <td>3916</td>\n",
       "      <td>29450</td>\n",
       "    </tr>\n",
       "    <tr>\n",
       "      <th>4</th>\n",
       "      <td>BMW</td>\n",
       "      <td>1 Series</td>\n",
       "      <td>2011</td>\n",
       "      <td>premium unleaded (required)</td>\n",
       "      <td>230.0</td>\n",
       "      <td>6.0</td>\n",
       "      <td>MANUAL</td>\n",
       "      <td>rear wheel drive</td>\n",
       "      <td>2.0</td>\n",
       "      <td>Luxury</td>\n",
       "      <td>Compact</td>\n",
       "      <td>Convertible</td>\n",
       "      <td>28</td>\n",
       "      <td>18</td>\n",
       "      <td>3916</td>\n",
       "      <td>34500</td>\n",
       "    </tr>\n",
       "  </tbody>\n",
       "</table>\n",
       "</div>"
      ],
      "text/plain": [
       "  Make       Model  Year             Engine Fuel Type  Engine HP  \\\n",
       "0  BMW  1 Series M  2011  premium unleaded (required)      335.0   \n",
       "1  BMW    1 Series  2011  premium unleaded (required)      300.0   \n",
       "2  BMW    1 Series  2011  premium unleaded (required)      300.0   \n",
       "3  BMW    1 Series  2011  premium unleaded (required)      230.0   \n",
       "4  BMW    1 Series  2011  premium unleaded (required)      230.0   \n",
       "\n",
       "   Engine Cylinders Transmission Type     Driven_Wheels  Number of Doors  \\\n",
       "0               6.0            MANUAL  rear wheel drive              2.0   \n",
       "1               6.0            MANUAL  rear wheel drive              2.0   \n",
       "2               6.0            MANUAL  rear wheel drive              2.0   \n",
       "3               6.0            MANUAL  rear wheel drive              2.0   \n",
       "4               6.0            MANUAL  rear wheel drive              2.0   \n",
       "\n",
       "                         Market Category Vehicle Size Vehicle Style  \\\n",
       "0  Factory Tuner,Luxury,High-Performance      Compact         Coupe   \n",
       "1                     Luxury,Performance      Compact   Convertible   \n",
       "2                Luxury,High-Performance      Compact         Coupe   \n",
       "3                     Luxury,Performance      Compact         Coupe   \n",
       "4                                 Luxury      Compact   Convertible   \n",
       "\n",
       "   highway MPG  city mpg  Popularity   MSRP  \n",
       "0           26        19        3916  46135  \n",
       "1           28        19        3916  40650  \n",
       "2           28        20        3916  36350  \n",
       "3           28        18        3916  29450  \n",
       "4           28        18        3916  34500  "
      ]
     },
     "execution_count": 7,
     "metadata": {},
     "output_type": "execute_result"
    }
   ],
   "source": [
    "df_car.head()"
   ]
  },
  {
   "cell_type": "code",
   "execution_count": 11,
   "id": "7a14f2d0",
   "metadata": {
    "ExecuteTime": {
     "end_time": "2022-09-11T08:02:33.409466Z",
     "start_time": "2022-09-11T08:02:33.384475Z"
    }
   },
   "outputs": [
    {
     "data": {
      "text/plain": [
       "Make\n",
       "Genesis             3\n",
       "Spyker              3\n",
       "Bugatti             3\n",
       "Alfa Romeo          5\n",
       "McLaren             5\n",
       "Maybach            16\n",
       "HUMMER             17\n",
       "Tesla              18\n",
       "Lotus              29\n",
       "Rolls-Royce        31\n",
       "Lamborghini        52\n",
       "Maserati           58\n",
       "Scion              60\n",
       "FIAT               62\n",
       "Ferrari            69\n",
       "Bentley            74\n",
       "Plymouth           82\n",
       "Aston Martin       93\n",
       "Saab              111\n",
       "Porsche           136\n",
       "Land Rover        143\n",
       "Oldsmobile        150\n",
       "Lincoln           164\n",
       "Pontiac           186\n",
       "Chrysler          187\n",
       "Buick             196\n",
       "Lexus             202\n",
       "Mitsubishi        213\n",
       "Kia               231\n",
       "Acura             252\n",
       "Subaru            256\n",
       "Volvo             281\n",
       "Hyundai           303\n",
       "Audi              328\n",
       "Infiniti          330\n",
       "BMW               334\n",
       "Suzuki            351\n",
       "Mercedes-Benz     353\n",
       "Cadillac          397\n",
       "Mazda             423\n",
       "Honda             449\n",
       "GMC               515\n",
       "Nissan            558\n",
       "Dodge             626\n",
       "Toyota            746\n",
       "Volkswagen        809\n",
       "Ford              881\n",
       "Chevrolet        1123\n",
       "Name: Make, dtype: int64"
      ]
     },
     "execution_count": 11,
     "metadata": {},
     "output_type": "execute_result"
    }
   ],
   "source": [
    "df_car.groupby(['Make'])['Make'].count().sort_values()"
   ]
  },
  {
   "cell_type": "markdown",
   "id": "072c8bec",
   "metadata": {},
   "source": [
    "Chevrolet, Ford, Volkswagen"
   ]
  },
  {
   "cell_type": "markdown",
   "id": "2fef690d",
   "metadata": {},
   "source": [
    "## What's the number of unique Audi car models in the dataset?"
   ]
  },
  {
   "cell_type": "code",
   "execution_count": 12,
   "id": "2353f34a",
   "metadata": {
    "ExecuteTime": {
     "end_time": "2022-09-11T08:03:08.550915Z",
     "start_time": "2022-09-11T08:03:08.522885Z"
    }
   },
   "outputs": [
    {
     "data": {
      "text/plain": [
       "34"
      ]
     },
     "execution_count": 12,
     "metadata": {},
     "output_type": "execute_result"
    }
   ],
   "source": [
    "df_car[df_car[\"Make\"] == \"Audi\"][\"Model\"].drop_duplicates().count()"
   ]
  },
  {
   "cell_type": "markdown",
   "id": "2e066c69",
   "metadata": {},
   "source": [
    "34 "
   ]
  },
  {
   "cell_type": "markdown",
   "id": "a076dee8",
   "metadata": {},
   "source": [
    "## How many columns in the dataset have missing values?"
   ]
  },
  {
   "cell_type": "code",
   "execution_count": 13,
   "id": "ee6458b3",
   "metadata": {
    "ExecuteTime": {
     "end_time": "2022-09-11T08:03:09.950399Z",
     "start_time": "2022-09-11T08:03:09.924639Z"
    }
   },
   "outputs": [
    {
     "data": {
      "text/plain": [
       "Make                    0\n",
       "Model                   0\n",
       "Year                    0\n",
       "Engine Fuel Type        3\n",
       "Engine HP              69\n",
       "Engine Cylinders       30\n",
       "Transmission Type       0\n",
       "Driven_Wheels           0\n",
       "Number of Doors         6\n",
       "Market Category      3742\n",
       "Vehicle Size            0\n",
       "Vehicle Style           0\n",
       "highway MPG             0\n",
       "city mpg                0\n",
       "Popularity              0\n",
       "MSRP                    0\n",
       "dtype: int64"
      ]
     },
     "execution_count": 13,
     "metadata": {},
     "output_type": "execute_result"
    }
   ],
   "source": [
    "df_car.isna().sum()"
   ]
  },
  {
   "cell_type": "code",
   "execution_count": 14,
   "id": "1bc2d0c0",
   "metadata": {
    "ExecuteTime": {
     "end_time": "2022-09-11T08:03:13.924686Z",
     "start_time": "2022-09-11T08:03:13.843554Z"
    }
   },
   "outputs": [
    {
     "data": {
      "text/plain": [
       "5"
      ]
     },
     "execution_count": 14,
     "metadata": {},
     "output_type": "execute_result"
    }
   ],
   "source": [
    "df_car.isna().sum()[lambda x: x > 0].count()"
   ]
  },
  {
   "cell_type": "markdown",
   "id": "f285e4d5",
   "metadata": {},
   "source": [
    "5"
   ]
  },
  {
   "cell_type": "markdown",
   "id": "ab774e27",
   "metadata": {},
   "source": [
    "## Question 6"
   ]
  },
  {
   "cell_type": "markdown",
   "id": "370fdcaf",
   "metadata": {},
   "source": [
    "* Find the median value of \"Engine Cylinders\" column in the dataset.\n",
    "* Next, calculate the most frequent value of the same \"Engine Cylinders\".\n",
    "* Use the `fillna` method to fill the missing values in \"Engine Cylinders\" with the most frequent value from the previous step.\n",
    "* Now, calculate the median value of \"Engine Cylinders\" once again.\n",
    "\n",
    "Has it changed?"
   ]
  },
  {
   "cell_type": "code",
   "execution_count": 15,
   "id": "2cb0d6f4",
   "metadata": {
    "ExecuteTime": {
     "end_time": "2022-09-11T08:03:25.698314Z",
     "start_time": "2022-09-11T08:03:25.681978Z"
    }
   },
   "outputs": [
    {
     "data": {
      "text/plain": [
       "6.0"
      ]
     },
     "execution_count": 15,
     "metadata": {},
     "output_type": "execute_result"
    }
   ],
   "source": [
    "df_car[\"Engine Cylinders\"].median()"
   ]
  },
  {
   "cell_type": "code",
   "execution_count": 16,
   "id": "7bf93f0d",
   "metadata": {
    "ExecuteTime": {
     "end_time": "2022-09-11T08:03:27.328071Z",
     "start_time": "2022-09-11T08:03:27.304681Z"
    }
   },
   "outputs": [
    {
     "data": {
      "text/plain": [
       "4.0"
      ]
     },
     "execution_count": 16,
     "metadata": {},
     "output_type": "execute_result"
    }
   ],
   "source": [
    "mfv = df_car[\"Engine Cylinders\"].mode()\n",
    "float(mfv)"
   ]
  },
  {
   "cell_type": "code",
   "execution_count": 17,
   "id": "4f8aa5cb",
   "metadata": {
    "ExecuteTime": {
     "end_time": "2022-09-11T08:03:28.347753Z",
     "start_time": "2022-09-11T08:03:28.330793Z"
    }
   },
   "outputs": [],
   "source": [
    "df_car[\"Engine Cylinders\"] = df_car[\"Engine Cylinders\"].fillna(mfv.iloc[0])"
   ]
  },
  {
   "cell_type": "code",
   "execution_count": 18,
   "id": "7f77d7ad",
   "metadata": {
    "ExecuteTime": {
     "end_time": "2022-09-11T08:03:29.684918Z",
     "start_time": "2022-09-11T08:03:29.666067Z"
    }
   },
   "outputs": [
    {
     "data": {
      "text/plain": [
       "6.0"
      ]
     },
     "execution_count": 18,
     "metadata": {},
     "output_type": "execute_result"
    }
   ],
   "source": [
    "df_car[\"Engine Cylinders\"].median()"
   ]
  },
  {
   "cell_type": "markdown",
   "id": "b8db4d13",
   "metadata": {},
   "source": [
    "No"
   ]
  },
  {
   "cell_type": "markdown",
   "id": "451b3f5f",
   "metadata": {},
   "source": [
    "## Question 7"
   ]
  },
  {
   "cell_type": "markdown",
   "id": "e98ffaf4",
   "metadata": {},
   "source": [
    "* Select all the \"Lotus\" cars from the dataset.\n",
    "* Select only columns \"Engine HP\", \"Engine Cylinders\".\n",
    "* Now drop all duplicated rows using `drop_duplicates` method (you should get a dataframe with 9 rows).\n",
    "* Get the underlying NumPy array. Let's call it `X`.\n",
    "* Compute matrix-matrix multiplication between the transpose of `X` and `X`. To get the transpose, use `X.T`. Let's call the result `XTX`.\n",
    "* Invert `XTX`.\n",
    "* Create an array `y` with values `[1100, 800, 750, 850, 1300, 1000, 1000, 1300, 800]`.\n",
    "* Multiply the inverse of `XTX` with the transpose of `X`, and then multiply the result by `y`. Call the result `w`.\n",
    "* What's the value of the first element of `w`?"
   ]
  },
  {
   "cell_type": "code",
   "execution_count": 19,
   "id": "0bfaa8d6",
   "metadata": {
    "ExecuteTime": {
     "end_time": "2022-09-11T08:03:57.937060Z",
     "start_time": "2022-09-11T08:03:57.921883Z"
    }
   },
   "outputs": [],
   "source": [
    "lotus = df_car[df_car[\"Make\"] == \"Lotus\"][[\"Engine HP\", \"Engine Cylinders\"]]"
   ]
  },
  {
   "cell_type": "code",
   "execution_count": 20,
   "id": "bda33d3e",
   "metadata": {
    "ExecuteTime": {
     "end_time": "2022-09-11T08:03:59.660689Z",
     "start_time": "2022-09-11T08:03:59.629297Z"
    }
   },
   "outputs": [
    {
     "data": {
      "text/html": [
       "<div>\n",
       "<style scoped>\n",
       "    .dataframe tbody tr th:only-of-type {\n",
       "        vertical-align: middle;\n",
       "    }\n",
       "\n",
       "    .dataframe tbody tr th {\n",
       "        vertical-align: top;\n",
       "    }\n",
       "\n",
       "    .dataframe thead th {\n",
       "        text-align: right;\n",
       "    }\n",
       "</style>\n",
       "<table border=\"1\" class=\"dataframe\">\n",
       "  <thead>\n",
       "    <tr style=\"text-align: right;\">\n",
       "      <th></th>\n",
       "      <th>Engine HP</th>\n",
       "      <th>Engine Cylinders</th>\n",
       "    </tr>\n",
       "  </thead>\n",
       "  <tbody>\n",
       "    <tr>\n",
       "      <th>3912</th>\n",
       "      <td>189.0</td>\n",
       "      <td>4.0</td>\n",
       "    </tr>\n",
       "    <tr>\n",
       "      <th>3913</th>\n",
       "      <td>218.0</td>\n",
       "      <td>4.0</td>\n",
       "    </tr>\n",
       "    <tr>\n",
       "      <th>3914</th>\n",
       "      <td>189.0</td>\n",
       "      <td>4.0</td>\n",
       "    </tr>\n",
       "    <tr>\n",
       "      <th>3915</th>\n",
       "      <td>189.0</td>\n",
       "      <td>4.0</td>\n",
       "    </tr>\n",
       "    <tr>\n",
       "      <th>3916</th>\n",
       "      <td>218.0</td>\n",
       "      <td>4.0</td>\n",
       "    </tr>\n",
       "  </tbody>\n",
       "</table>\n",
       "</div>"
      ],
      "text/plain": [
       "      Engine HP  Engine Cylinders\n",
       "3912      189.0               4.0\n",
       "3913      218.0               4.0\n",
       "3914      189.0               4.0\n",
       "3915      189.0               4.0\n",
       "3916      218.0               4.0"
      ]
     },
     "metadata": {},
     "output_type": "display_data"
    },
    {
     "data": {
      "text/plain": [
       "(29, 2)"
      ]
     },
     "execution_count": 20,
     "metadata": {},
     "output_type": "execute_result"
    }
   ],
   "source": [
    "display(lotus.head())\n",
    "lotus.shape"
   ]
  },
  {
   "cell_type": "code",
   "execution_count": 21,
   "id": "2154c817",
   "metadata": {
    "ExecuteTime": {
     "end_time": "2022-09-11T08:04:05.022712Z",
     "start_time": "2022-09-11T08:04:05.003773Z"
    }
   },
   "outputs": [],
   "source": [
    "lotus = lotus.drop_duplicates()"
   ]
  },
  {
   "cell_type": "code",
   "execution_count": 22,
   "id": "b99ac622",
   "metadata": {
    "ExecuteTime": {
     "end_time": "2022-09-11T08:04:06.142142Z",
     "start_time": "2022-09-11T08:04:06.130003Z"
    }
   },
   "outputs": [
    {
     "data": {
      "text/plain": [
       "(9, 2)"
      ]
     },
     "execution_count": 22,
     "metadata": {},
     "output_type": "execute_result"
    }
   ],
   "source": [
    "lotus.shape"
   ]
  },
  {
   "cell_type": "code",
   "execution_count": 23,
   "id": "2c8109a9",
   "metadata": {
    "ExecuteTime": {
     "end_time": "2022-09-11T08:04:07.134705Z",
     "start_time": "2022-09-11T08:04:07.117519Z"
    }
   },
   "outputs": [],
   "source": [
    "X = lotus.to_numpy()"
   ]
  },
  {
   "cell_type": "code",
   "execution_count": 24,
   "id": "28e37e8c",
   "metadata": {
    "ExecuteTime": {
     "end_time": "2022-09-11T08:04:07.974476Z",
     "start_time": "2022-09-11T08:04:07.953508Z"
    }
   },
   "outputs": [
    {
     "data": {
      "text/plain": [
       "array([[7.31684e+05, 1.34100e+04],\n",
       "       [1.34100e+04, 2.52000e+02]])"
      ]
     },
     "metadata": {},
     "output_type": "display_data"
    }
   ],
   "source": [
    "XTX = X.T.dot(X)\n",
    "display(XTX)"
   ]
  },
  {
   "cell_type": "code",
   "execution_count": 25,
   "id": "65ae27fb",
   "metadata": {
    "ExecuteTime": {
     "end_time": "2022-09-11T08:04:08.892543Z",
     "start_time": "2022-09-11T08:04:08.868669Z"
    }
   },
   "outputs": [
    {
     "data": {
      "text/plain": [
       "array([[ 5.53084235e-05, -2.94319825e-03],\n",
       "       [-2.94319825e-03,  1.60588447e-01]])"
      ]
     },
     "metadata": {},
     "output_type": "display_data"
    }
   ],
   "source": [
    "XTX = np.linalg.inv(XTX)\n",
    "display(XTX)"
   ]
  },
  {
   "cell_type": "code",
   "execution_count": 26,
   "id": "dca091b0",
   "metadata": {
    "ExecuteTime": {
     "end_time": "2022-09-11T08:04:10.635168Z",
     "start_time": "2022-09-11T08:04:10.630066Z"
    }
   },
   "outputs": [],
   "source": [
    "y = [1100, 800, 750, 850, 1300, 1000, 1000, 1300, 800]"
   ]
  },
  {
   "cell_type": "code",
   "execution_count": 27,
   "id": "a80226da",
   "metadata": {
    "ExecuteTime": {
     "end_time": "2022-09-11T08:04:11.711043Z",
     "start_time": "2022-09-11T08:04:11.688805Z"
    }
   },
   "outputs": [
    {
     "data": {
      "text/plain": [
       "array([  4.59494481, -63.56432501])"
      ]
     },
     "metadata": {},
     "output_type": "display_data"
    }
   ],
   "source": [
    "w = XTX.dot(X.T).dot(y)\n",
    "display(w)"
   ]
  },
  {
   "cell_type": "code",
   "execution_count": 28,
   "id": "3beb0976",
   "metadata": {
    "ExecuteTime": {
     "end_time": "2022-09-11T08:04:12.888470Z",
     "start_time": "2022-09-11T08:04:12.873604Z"
    }
   },
   "outputs": [
    {
     "data": {
      "text/plain": [
       "4.594944810094551"
      ]
     },
     "execution_count": 28,
     "metadata": {},
     "output_type": "execute_result"
    }
   ],
   "source": [
    "w[0]"
   ]
  }
 ],
 "metadata": {
  "hide_input": false,
  "kernelspec": {
   "display_name": "Python 3",
   "language": "python",
   "name": "python3"
  },
  "language_info": {
   "codemirror_mode": {
    "name": "ipython",
    "version": 3
   },
   "file_extension": ".py",
   "mimetype": "text/x-python",
   "name": "python",
   "nbconvert_exporter": "python",
   "pygments_lexer": "ipython3",
   "version": "3.8.5"
  },
  "toc": {
   "base_numbering": 1,
   "nav_menu": {},
   "number_sections": true,
   "sideBar": true,
   "skip_h1_title": false,
   "title_cell": "Table of Contents",
   "title_sidebar": "Contents",
   "toc_cell": false,
   "toc_position": {},
   "toc_section_display": true,
   "toc_window_display": false
  },
  "varInspector": {
   "cols": {
    "lenName": 16,
    "lenType": 16,
    "lenVar": 40
   },
   "kernels_config": {
    "python": {
     "delete_cmd_postfix": "",
     "delete_cmd_prefix": "del ",
     "library": "var_list.py",
     "varRefreshCmd": "print(var_dic_list())"
    },
    "r": {
     "delete_cmd_postfix": ") ",
     "delete_cmd_prefix": "rm(",
     "library": "var_list.r",
     "varRefreshCmd": "cat(var_dic_list()) "
    }
   },
   "types_to_exclude": [
    "module",
    "function",
    "builtin_function_or_method",
    "instance",
    "_Feature"
   ],
   "window_display": false
  }
 },
 "nbformat": 4,
 "nbformat_minor": 5
}
