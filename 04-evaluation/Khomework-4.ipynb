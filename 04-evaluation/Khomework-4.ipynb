{
 "cells": [
  {
   "cell_type": "code",
   "execution_count": 1,
   "id": "f02db8be",
   "metadata": {
    "ExecuteTime": {
     "end_time": "2022-10-05T10:20:08.615215Z",
     "start_time": "2022-10-05T10:20:06.215128Z"
    }
   },
   "outputs": [],
   "source": [
    "import random\n",
    "import pandas as pd\n",
    "import numpy as np\n",
    "import seaborn as sns\n",
    "import matplotlib.pyplot as plt\n",
    "\n",
    "%matplotlib inline"
   ]
  },
  {
   "cell_type": "markdown",
   "id": "d44fc76f",
   "metadata": {},
   "source": [
    "## Notes\n",
    " * Accuracy isn't good metric with imbalanced data(class-imbalance), when we have (20% of 0 and 80% of 1 fe)\n",
    " * Precision is fraction of positive predictions are correct\n",
    " * 1-Precision tells us how many users we identify incorrectly (who not going to 1, they are 0, but we say they are 1)\n",
    " * Recall is fraction of correctly identified positive examples\n",
    " * 1-Recall tells us how many users in % we failed to identify(who are going to 1, but we say they 0)\n",
    " \n",
    " * AUC tells us the probability is randomly selected positive 1 example has higher score than negative 0 P(1r > 0r)=AUC"
   ]
  },
  {
   "cell_type": "markdown",
   "id": "33d9a1a1",
   "metadata": {},
   "source": [
    "## Get the data"
   ]
  },
  {
   "cell_type": "code",
   "execution_count": 2,
   "id": "6e7e8fa3",
   "metadata": {
    "ExecuteTime": {
     "end_time": "2022-10-05T10:20:08.647221Z",
     "start_time": "2022-10-05T10:20:08.618219Z"
    }
   },
   "outputs": [],
   "source": [
    "df = pd.read_csv(\"AER_credit_card_data.csv\")"
   ]
  },
  {
   "cell_type": "code",
   "execution_count": 3,
   "id": "1e466f64",
   "metadata": {
    "ExecuteTime": {
     "end_time": "2022-10-05T10:20:08.693220Z",
     "start_time": "2022-10-05T10:20:08.651212Z"
    }
   },
   "outputs": [
    {
     "data": {
      "text/html": [
       "<div>\n",
       "<style scoped>\n",
       "    .dataframe tbody tr th:only-of-type {\n",
       "        vertical-align: middle;\n",
       "    }\n",
       "\n",
       "    .dataframe tbody tr th {\n",
       "        vertical-align: top;\n",
       "    }\n",
       "\n",
       "    .dataframe thead th {\n",
       "        text-align: right;\n",
       "    }\n",
       "</style>\n",
       "<table border=\"1\" class=\"dataframe\">\n",
       "  <thead>\n",
       "    <tr style=\"text-align: right;\">\n",
       "      <th></th>\n",
       "      <th>card</th>\n",
       "      <th>reports</th>\n",
       "      <th>age</th>\n",
       "      <th>income</th>\n",
       "      <th>share</th>\n",
       "      <th>expenditure</th>\n",
       "      <th>owner</th>\n",
       "      <th>selfemp</th>\n",
       "      <th>dependents</th>\n",
       "      <th>months</th>\n",
       "      <th>majorcards</th>\n",
       "      <th>active</th>\n",
       "    </tr>\n",
       "  </thead>\n",
       "  <tbody>\n",
       "    <tr>\n",
       "      <th>0</th>\n",
       "      <td>yes</td>\n",
       "      <td>0</td>\n",
       "      <td>37.66667</td>\n",
       "      <td>4.5200</td>\n",
       "      <td>0.033270</td>\n",
       "      <td>124.983300</td>\n",
       "      <td>yes</td>\n",
       "      <td>no</td>\n",
       "      <td>3</td>\n",
       "      <td>54</td>\n",
       "      <td>1</td>\n",
       "      <td>12</td>\n",
       "    </tr>\n",
       "    <tr>\n",
       "      <th>1</th>\n",
       "      <td>yes</td>\n",
       "      <td>0</td>\n",
       "      <td>33.25000</td>\n",
       "      <td>2.4200</td>\n",
       "      <td>0.005217</td>\n",
       "      <td>9.854167</td>\n",
       "      <td>no</td>\n",
       "      <td>no</td>\n",
       "      <td>3</td>\n",
       "      <td>34</td>\n",
       "      <td>1</td>\n",
       "      <td>13</td>\n",
       "    </tr>\n",
       "    <tr>\n",
       "      <th>2</th>\n",
       "      <td>yes</td>\n",
       "      <td>0</td>\n",
       "      <td>33.66667</td>\n",
       "      <td>4.5000</td>\n",
       "      <td>0.004156</td>\n",
       "      <td>15.000000</td>\n",
       "      <td>yes</td>\n",
       "      <td>no</td>\n",
       "      <td>4</td>\n",
       "      <td>58</td>\n",
       "      <td>1</td>\n",
       "      <td>5</td>\n",
       "    </tr>\n",
       "    <tr>\n",
       "      <th>3</th>\n",
       "      <td>yes</td>\n",
       "      <td>0</td>\n",
       "      <td>30.50000</td>\n",
       "      <td>2.5400</td>\n",
       "      <td>0.065214</td>\n",
       "      <td>137.869200</td>\n",
       "      <td>no</td>\n",
       "      <td>no</td>\n",
       "      <td>0</td>\n",
       "      <td>25</td>\n",
       "      <td>1</td>\n",
       "      <td>7</td>\n",
       "    </tr>\n",
       "    <tr>\n",
       "      <th>4</th>\n",
       "      <td>yes</td>\n",
       "      <td>0</td>\n",
       "      <td>32.16667</td>\n",
       "      <td>9.7867</td>\n",
       "      <td>0.067051</td>\n",
       "      <td>546.503300</td>\n",
       "      <td>yes</td>\n",
       "      <td>no</td>\n",
       "      <td>2</td>\n",
       "      <td>64</td>\n",
       "      <td>1</td>\n",
       "      <td>5</td>\n",
       "    </tr>\n",
       "  </tbody>\n",
       "</table>\n",
       "</div>"
      ],
      "text/plain": [
       "  card  reports       age  income     share  expenditure owner selfemp  \\\n",
       "0  yes        0  37.66667  4.5200  0.033270   124.983300   yes      no   \n",
       "1  yes        0  33.25000  2.4200  0.005217     9.854167    no      no   \n",
       "2  yes        0  33.66667  4.5000  0.004156    15.000000   yes      no   \n",
       "3  yes        0  30.50000  2.5400  0.065214   137.869200    no      no   \n",
       "4  yes        0  32.16667  9.7867  0.067051   546.503300   yes      no   \n",
       "\n",
       "   dependents  months  majorcards  active  \n",
       "0           3      54           1      12  \n",
       "1           3      34           1      13  \n",
       "2           4      58           1       5  \n",
       "3           0      25           1       7  \n",
       "4           2      64           1       5  "
      ]
     },
     "execution_count": 3,
     "metadata": {},
     "output_type": "execute_result"
    }
   ],
   "source": [
    "df.head()"
   ]
  },
  {
   "cell_type": "markdown",
   "id": "b21289f1",
   "metadata": {},
   "source": [
    "## Data preparation"
   ]
  },
  {
   "cell_type": "markdown",
   "id": "a0d0ca65",
   "metadata": {},
   "source": [
    "- Create the target variable by mapping yes to 1 and no to 0.\n",
    "- Split the dataset into 3 parts: train/validation/test with 60%/20%/20% distribution. Use train_test_split funciton for that with random_state=1."
   ]
  },
  {
   "cell_type": "code",
   "execution_count": 4,
   "id": "4a1be75b",
   "metadata": {
    "ExecuteTime": {
     "end_time": "2022-10-05T10:20:08.709217Z",
     "start_time": "2022-10-05T10:20:08.698222Z"
    }
   },
   "outputs": [],
   "source": [
    "df[\"card\"] = df[\"card\"].map({'yes': 1, 'no': 0})"
   ]
  },
  {
   "cell_type": "code",
   "execution_count": 5,
   "id": "25e97d5d",
   "metadata": {
    "ExecuteTime": {
     "end_time": "2022-10-05T10:20:09.788215Z",
     "start_time": "2022-10-05T10:20:08.712221Z"
    }
   },
   "outputs": [],
   "source": [
    "from sklearn.model_selection import train_test_split"
   ]
  },
  {
   "cell_type": "code",
   "execution_count": 6,
   "id": "dca8815b",
   "metadata": {
    "ExecuteTime": {
     "end_time": "2022-10-05T10:20:09.804218Z",
     "start_time": "2022-10-05T10:20:09.791221Z"
    }
   },
   "outputs": [],
   "source": [
    "df_full_train, df_test = train_test_split(df, test_size=.2, random_state=1)"
   ]
  },
  {
   "cell_type": "code",
   "execution_count": 7,
   "id": "46113408",
   "metadata": {
    "ExecuteTime": {
     "end_time": "2022-10-05T10:20:09.820216Z",
     "start_time": "2022-10-05T10:20:09.808217Z"
    }
   },
   "outputs": [],
   "source": [
    "df_train, df_val = train_test_split(\n",
    "    df_full_train, test_size=.25, random_state=1)"
   ]
  },
  {
   "cell_type": "code",
   "execution_count": 8,
   "id": "a0416312",
   "metadata": {
    "ExecuteTime": {
     "end_time": "2022-10-05T10:20:09.836219Z",
     "start_time": "2022-10-05T10:20:09.827216Z"
    }
   },
   "outputs": [
    {
     "data": {
      "text/plain": [
       "(791, 264, 264)"
      ]
     },
     "execution_count": 8,
     "metadata": {},
     "output_type": "execute_result"
    }
   ],
   "source": [
    "len(df_train), len(df_val), len(df_test)"
   ]
  },
  {
   "cell_type": "code",
   "execution_count": 9,
   "id": "20bba167",
   "metadata": {
    "ExecuteTime": {
     "end_time": "2022-10-05T10:20:09.868217Z",
     "start_time": "2022-10-05T10:20:09.841217Z"
    }
   },
   "outputs": [],
   "source": [
    "y_train, y_val, y_test = df_train['card'], df_val['card'], df_test['card']\n",
    "for df_ in [df_train, df_val, df_test]:\n",
    "    del df_['card']  "
   ]
  },
  {
   "cell_type": "markdown",
   "id": "ba3c5b0f",
   "metadata": {},
   "source": [
    "## Question 1\n",
    "\n",
    "ROC AUC could also be used to evaluate feature importance of numerical variables. \n",
    "\n",
    "Let's do that\n",
    "\n",
    "* For each numerical variable, use it as score and compute AUC with the `card` variable.\n",
    "* Use the training dataset for that.\n",
    "\n",
    "If your AUC is < 0.5, invert this variable by putting \"-\" in front\n",
    "\n",
    "(e.g. `-df_train['expenditure']`)\n",
    "\n",
    "AUC can go below 0.5 if the variable is negatively correlated with the target varialble. You can change the direction of the correlation by negating this variable - then negative correlation becomes positive.\n",
    "\n",
    "Which numerical variable (among the following 4) has the highest AUC?"
   ]
  },
  {
   "cell_type": "code",
   "execution_count": 10,
   "id": "dac2c904",
   "metadata": {
    "ExecuteTime": {
     "end_time": "2022-10-05T10:20:09.884216Z",
     "start_time": "2022-10-05T10:20:09.871218Z"
    }
   },
   "outputs": [],
   "source": [
    "from sklearn.metrics import roc_auc_score\n",
    "from sklearn.metrics import roc_curve\n",
    "from sklearn.metrics import auc"
   ]
  },
  {
   "cell_type": "code",
   "execution_count": 11,
   "id": "fa612cf2",
   "metadata": {
    "ExecuteTime": {
     "end_time": "2022-10-05T10:20:09.916216Z",
     "start_time": "2022-10-05T10:20:09.887218Z"
    }
   },
   "outputs": [],
   "source": [
    "numerical_vars = list(df_train[df_train.columns.difference([\"card\"])].select_dtypes(include=np.number).columns)"
   ]
  },
  {
   "cell_type": "code",
   "execution_count": 12,
   "id": "02837f25",
   "metadata": {
    "ExecuteTime": {
     "end_time": "2022-10-05T10:20:09.980219Z",
     "start_time": "2022-10-05T10:20:09.919215Z"
    }
   },
   "outputs": [],
   "source": [
    "aucs = dict()\n",
    "for var in numerical_vars:\n",
    "    auc_ = roc_auc_score(y_train, df_train[var])\n",
    "    if auc_ < 0.5:\n",
    "        auc_ = roc_auc_score(y_train, -df_train[var])\n",
    "    aucs[var] = auc_    "
   ]
  },
  {
   "cell_type": "code",
   "execution_count": 13,
   "id": "b1a1a9c4",
   "metadata": {
    "ExecuteTime": {
     "end_time": "2022-10-05T10:20:09.996219Z",
     "start_time": "2022-10-05T10:20:09.983214Z"
    }
   },
   "outputs": [
    {
     "data": {
      "text/plain": [
       "[('age', 0.5240020979407055),\n",
       " ('months', 0.5294217780967629),\n",
       " ('dependents', 0.5327757227773791),\n",
       " ('majorcards', 0.5343859842838476),\n",
       " ('income', 0.5908049467233478),\n",
       " ('active', 0.6043173411362006),\n",
       " ('reports', 0.7166629860689376),\n",
       " ('share', 0.989183643423692),\n",
       " ('expenditure', 0.991042345276873)]"
      ]
     },
     "execution_count": 13,
     "metadata": {},
     "output_type": "execute_result"
    }
   ],
   "source": [
    "sorted(aucs.items(), key=lambda x: x[1])"
   ]
  },
  {
   "cell_type": "markdown",
   "id": "35c1327d",
   "metadata": {},
   "source": [
    "### Answer = 'share'"
   ]
  },
  {
   "cell_type": "markdown",
   "id": "e74dc734",
   "metadata": {},
   "source": [
    "## Training the model"
   ]
  },
  {
   "cell_type": "code",
   "execution_count": 14,
   "id": "b143540b",
   "metadata": {
    "ExecuteTime": {
     "end_time": "2022-10-05T10:20:10.123216Z",
     "start_time": "2022-10-05T10:20:09.999214Z"
    }
   },
   "outputs": [],
   "source": [
    "from sklearn.feature_extraction import DictVectorizer\n",
    "from sklearn.linear_model import LogisticRegression"
   ]
  },
  {
   "cell_type": "code",
   "execution_count": 15,
   "id": "ff417d7c",
   "metadata": {
    "ExecuteTime": {
     "end_time": "2022-10-05T10:20:10.138215Z",
     "start_time": "2022-10-05T10:20:10.126218Z"
    }
   },
   "outputs": [],
   "source": [
    "for df_ in [df_train, df_val, df_test]:\n",
    "    df_ = df[[\"reports\", \"age\", \"income\", \"share\", \"expenditure\",\n",
    "             \"dependents\", \"months\", \"majorcards\", \"active\", \"owner\", \"selfemp\"]]"
   ]
  },
  {
   "cell_type": "markdown",
   "id": "4e109e13",
   "metadata": {},
   "source": [
    "### One-hot encoding"
   ]
  },
  {
   "cell_type": "code",
   "execution_count": 16,
   "id": "785f70b5",
   "metadata": {
    "ExecuteTime": {
     "end_time": "2022-10-05T10:20:10.186212Z",
     "start_time": "2022-10-05T10:20:10.142218Z"
    }
   },
   "outputs": [],
   "source": [
    "train_dict = df_train.to_dict(orient='records')\n",
    "val_dict = df_val.to_dict(orient='records')"
   ]
  },
  {
   "cell_type": "code",
   "execution_count": 17,
   "id": "cfb67164",
   "metadata": {
    "ExecuteTime": {
     "end_time": "2022-10-05T10:20:10.218212Z",
     "start_time": "2022-10-05T10:20:10.190214Z"
    }
   },
   "outputs": [
    {
     "data": {
      "text/plain": [
       "DictVectorizer(sparse=False)"
      ]
     },
     "execution_count": 17,
     "metadata": {},
     "output_type": "execute_result"
    }
   ],
   "source": [
    "# sparse - is a matrix that is comprised of mostly zero values.\n",
    "dv = DictVectorizer(sparse=False)\n",
    "dv.fit(train_dict)"
   ]
  },
  {
   "cell_type": "code",
   "execution_count": 18,
   "id": "bee78b57",
   "metadata": {
    "ExecuteTime": {
     "end_time": "2022-10-05T10:20:10.250211Z",
     "start_time": "2022-10-05T10:20:10.222217Z"
    }
   },
   "outputs": [],
   "source": [
    "X_train = dv.transform(train_dict)\n",
    "X_val = dv.transform(val_dict)"
   ]
  },
  {
   "cell_type": "code",
   "execution_count": 19,
   "id": "454ba027",
   "metadata": {
    "ExecuteTime": {
     "end_time": "2022-10-05T10:20:10.266216Z",
     "start_time": "2022-10-05T10:20:10.255215Z"
    }
   },
   "outputs": [
    {
     "data": {
      "text/plain": [
       "['active',\n",
       " 'age',\n",
       " 'dependents',\n",
       " 'expenditure',\n",
       " 'income',\n",
       " 'majorcards',\n",
       " 'months',\n",
       " 'owner=no',\n",
       " 'owner=yes',\n",
       " 'reports',\n",
       " 'selfemp=no',\n",
       " 'selfemp=yes',\n",
       " 'share']"
      ]
     },
     "execution_count": 19,
     "metadata": {},
     "output_type": "execute_result"
    }
   ],
   "source": [
    "dv.get_feature_names()"
   ]
  },
  {
   "cell_type": "markdown",
   "id": "59f6c778",
   "metadata": {},
   "source": [
    "### Training the model"
   ]
  },
  {
   "cell_type": "code",
   "execution_count": 20,
   "id": "a86f784b",
   "metadata": {
    "ExecuteTime": {
     "end_time": "2022-10-05T10:20:14.928935Z",
     "start_time": "2022-10-05T10:20:14.850941Z"
    }
   },
   "outputs": [],
   "source": [
    "model = LogisticRegression(solver='liblinear', C=1.0, max_iter=1000)\n",
    "model.fit(X_train, y_train)\n",
    "\n",
    "y_pred = model.predict_proba(X_val)[:, 1]\n",
    "y_pred_bin = model.predict(X_val)"
   ]
  },
  {
   "cell_type": "markdown",
   "id": "9d6d1508",
   "metadata": {},
   "source": [
    "## Question 2\n",
    "\n",
    "What's the AUC of this model on the validation dataset? (round to 3 digits)"
   ]
  },
  {
   "cell_type": "code",
   "execution_count": 21,
   "id": "891e3d0f",
   "metadata": {
    "ExecuteTime": {
     "end_time": "2022-09-30T18:23:56.035616Z",
     "start_time": "2022-09-30T18:23:56.020583Z"
    }
   },
   "outputs": [
    {
     "data": {
      "text/plain": [
       "0.995171242063847"
      ]
     },
     "execution_count": 21,
     "metadata": {},
     "output_type": "execute_result"
    }
   ],
   "source": [
    "roc_auc_score(y_val, y_pred)"
   ]
  },
  {
   "cell_type": "code",
   "execution_count": 22,
   "id": "f2ddd921",
   "metadata": {
    "ExecuteTime": {
     "end_time": "2022-09-30T18:23:56.257624Z",
     "start_time": "2022-09-30T18:23:56.041585Z"
    }
   },
   "outputs": [
    {
     "data": {
      "image/png": "[encoded data removed]",
      "text/plain": [
       "<Figure size 360x360 with 1 Axes>"
      ]
     },
     "metadata": {
      "needs_background": "light"
     },
     "output_type": "display_data"
    }
   ],
   "source": [
    "plt.figure(figsize=(5, 5))\n",
    "\n",
    "fpr, tpr, _ = roc_curve(y_val, y_pred)\n",
    "plt.plot(fpr, tpr, label='probability')\n",
    "\n",
    "fpr, tpr, _ = roc_curve(y_val, y_pred_bin)\n",
    "plt.plot(fpr, tpr, label='hard prediction')\n",
    "\n",
    "plt.plot([0, 1], [0, 1], color='grey', linestyle='--')\n",
    "\n",
    "plt.legend()\n",
    "plt.show()"
   ]
  },
  {
   "cell_type": "markdown",
   "id": "c2d0346b",
   "metadata": {},
   "source": [
    "### Answer = 0.995"
   ]
  },
  {
   "cell_type": "markdown",
   "id": "17018871",
   "metadata": {},
   "source": [
    "## Question 3\n",
    "\n",
    "Now let's compute precision and recall for our model.\n",
    "\n",
    "* Evaluate the model on all thresholds from 0.0 to 1.0 with step 0.01\n",
    "* For each threshold, compute precision and recall\n",
    "* Plot them\n",
    "\n",
    "\n",
    "At which threshold precision and recall curves intersect?"
   ]
  },
  {
   "cell_type": "markdown",
   "id": "b8bcad10",
   "metadata": {},
   "source": [
    "### Create a confusion matrix"
   ]
  },
  {
   "cell_type": "code",
   "execution_count": 23,
   "id": "f50f984c",
   "metadata": {
    "ExecuteTime": {
     "end_time": "2022-09-30T18:23:56.273622Z",
     "start_time": "2022-09-30T18:23:56.260581Z"
    }
   },
   "outputs": [],
   "source": [
    "thresholds = np.linspace(0, 1, 101)"
   ]
  },
  {
   "cell_type": "code",
   "execution_count": 24,
   "id": "abc7e5fc",
   "metadata": {
    "ExecuteTime": {
     "end_time": "2022-09-30T18:23:56.289622Z",
     "start_time": "2022-09-30T18:23:56.275583Z"
    }
   },
   "outputs": [],
   "source": [
    "def confusion_matrix_dataframe(y_val, y_pred):\n",
    "    scores = []\n",
    "    for t in thresholds:\n",
    "        actual_positive = (y_val == 1)\n",
    "        actual_negative = (y_val == 0)\n",
    "\n",
    "        predict_positive = (y_pred >= t)\n",
    "        predict_negative = (y_pred < t)\n",
    "\n",
    "        tp = (predict_positive & actual_positive).sum()\n",
    "        tn = (predict_negative & actual_negative).sum()\n",
    "\n",
    "        fp = (predict_positive & actual_negative).sum()\n",
    "        fn = (predict_negative & actual_positive).sum()\n",
    "\n",
    "        tpr = tp/(tp + fn)\n",
    "        fpr = fp/(fp + tn)\n",
    "        scores.append((t, tp, fp, fn, tn, tpr, fpr))\n",
    "\n",
    "    columns = ['threshold', 'tp', 'fp', 'fn', 'tn', 'tpr', 'fpr']\n",
    "    df_scores = pd.DataFrame(scores, columns=columns)\n",
    "    \n",
    "    return df_scores"
   ]
  },
  {
   "cell_type": "code",
   "execution_count": 25,
   "id": "f82c22d2",
   "metadata": {
    "ExecuteTime": {
     "end_time": "2022-09-30T18:23:56.449580Z",
     "start_time": "2022-09-30T18:23:56.291582Z"
    }
   },
   "outputs": [
    {
     "data": {
      "text/html": [
       "<div>\n",
       "<style scoped>\n",
       "    .dataframe tbody tr th:only-of-type {\n",
       "        vertical-align: middle;\n",
       "    }\n",
       "\n",
       "    .dataframe tbody tr th {\n",
       "        vertical-align: top;\n",
       "    }\n",
       "\n",
       "    .dataframe thead th {\n",
       "        text-align: right;\n",
       "    }\n",
       "</style>\n",
       "<table border=\"1\" class=\"dataframe\">\n",
       "  <thead>\n",
       "    <tr style=\"text-align: right;\">\n",
       "      <th></th>\n",
       "      <th>threshold</th>\n",
       "      <th>tp</th>\n",
       "      <th>fp</th>\n",
       "      <th>fn</th>\n",
       "      <th>tn</th>\n",
       "      <th>tpr</th>\n",
       "      <th>fpr</th>\n",
       "    </tr>\n",
       "  </thead>\n",
       "  <tbody>\n",
       "    <tr>\n",
       "      <th>0</th>\n",
       "      <td>0.00</td>\n",
       "      <td>211</td>\n",
       "      <td>53</td>\n",
       "      <td>0</td>\n",
       "      <td>0</td>\n",
       "      <td>1.0</td>\n",
       "      <td>1.000000</td>\n",
       "    </tr>\n",
       "    <tr>\n",
       "      <th>1</th>\n",
       "      <td>0.01</td>\n",
       "      <td>211</td>\n",
       "      <td>34</td>\n",
       "      <td>0</td>\n",
       "      <td>19</td>\n",
       "      <td>1.0</td>\n",
       "      <td>0.641509</td>\n",
       "    </tr>\n",
       "    <tr>\n",
       "      <th>2</th>\n",
       "      <td>0.02</td>\n",
       "      <td>211</td>\n",
       "      <td>31</td>\n",
       "      <td>0</td>\n",
       "      <td>22</td>\n",
       "      <td>1.0</td>\n",
       "      <td>0.584906</td>\n",
       "    </tr>\n",
       "    <tr>\n",
       "      <th>3</th>\n",
       "      <td>0.03</td>\n",
       "      <td>211</td>\n",
       "      <td>24</td>\n",
       "      <td>0</td>\n",
       "      <td>29</td>\n",
       "      <td>1.0</td>\n",
       "      <td>0.452830</td>\n",
       "    </tr>\n",
       "    <tr>\n",
       "      <th>4</th>\n",
       "      <td>0.04</td>\n",
       "      <td>211</td>\n",
       "      <td>22</td>\n",
       "      <td>0</td>\n",
       "      <td>31</td>\n",
       "      <td>1.0</td>\n",
       "      <td>0.415094</td>\n",
       "    </tr>\n",
       "  </tbody>\n",
       "</table>\n",
       "</div>"
      ],
      "text/plain": [
       "   threshold   tp  fp  fn  tn  tpr       fpr\n",
       "0       0.00  211  53   0   0  1.0  1.000000\n",
       "1       0.01  211  34   0  19  1.0  0.641509\n",
       "2       0.02  211  31   0  22  1.0  0.584906\n",
       "3       0.03  211  24   0  29  1.0  0.452830\n",
       "4       0.04  211  22   0  31  1.0  0.415094"
      ]
     },
     "execution_count": 25,
     "metadata": {},
     "output_type": "execute_result"
    }
   ],
   "source": [
    "df_scores = confusion_matrix_dataframe(y_val, y_pred)\n",
    "df_scores.head()"
   ]
  },
  {
   "cell_type": "code",
   "execution_count": 26,
   "id": "19d1b8b2",
   "metadata": {
    "ExecuteTime": {
     "end_time": "2022-09-30T18:23:56.465579Z",
     "start_time": "2022-09-30T18:23:56.451581Z"
    }
   },
   "outputs": [],
   "source": [
    "df_scores['precision'] = df_scores.tp / (df_scores.tp + df_scores.fp)\n",
    "df_scores['recall'] = df_scores.tp / (df_scores.tp + df_scores.fn)"
   ]
  },
  {
   "cell_type": "code",
   "execution_count": 27,
   "id": "01d5c31a",
   "metadata": {
    "ExecuteTime": {
     "end_time": "2022-09-30T18:23:56.654579Z",
     "start_time": "2022-09-30T18:23:56.466583Z"
    }
   },
   "outputs": [
    {
     "data": {
      "image/png": "[encoded data removed]",
      "text/plain": [
       "<Figure size 432x288 with 1 Axes>"
      ]
     },
     "metadata": {
      "needs_background": "light"
     },
     "output_type": "display_data"
    }
   ],
   "source": [
    "plt.plot(df_scores.threshold, df_scores.precision, label='precision')\n",
    "plt.plot(df_scores.threshold, df_scores.recall, label='recall')\n",
    "\n",
    "plt.vlines(0.3, 0, 1, color='grey', linestyle='--', alpha=0.5)\n",
    "\n",
    "plt.legend()\n",
    "plt.show()"
   ]
  },
  {
   "cell_type": "code",
   "execution_count": 28,
   "id": "9f6e5c1e",
   "metadata": {
    "ExecuteTime": {
     "end_time": "2022-09-30T18:23:56.845584Z",
     "start_time": "2022-09-30T18:23:56.656582Z"
    }
   },
   "outputs": [
    {
     "data": {
      "image/png": "[encoded data removed]",
      "text/plain": [
       "<Figure size 432x288 with 1 Axes>"
      ]
     },
     "metadata": {
      "needs_background": "light"
     },
     "output_type": "display_data"
    }
   ],
   "source": [
    "plt.plot(df_scores.threshold, df_scores.tpr, label='trp')\n",
    "plt.plot(df_scores.threshold, df_scores.fpr, label='fpr')\n",
    "plt.legend()\n",
    "plt.show()"
   ]
  },
  {
   "cell_type": "markdown",
   "id": "eb57d69f",
   "metadata": {},
   "source": [
    "### Answer = 0.3"
   ]
  },
  {
   "cell_type": "markdown",
   "id": "c21364cb",
   "metadata": {},
   "source": [
    "## Question 4\n",
    "\n",
    "Precision and recall are conflicting - when one grows, the other goes down. That's why they are often combined into the F1 score - a metrics that takes into account both\n",
    "\n",
    "This is the formula for computing F1:\n",
    "\n",
    "F1 = 2 * P * R / (P + R)\n",
    "\n",
    "Where P is precision and R is recall.\n",
    "\n",
    "Let's compute F1 for all thresholds from 0.0 to 1.0 with increment 0.01\n",
    "\n",
    "At which threshold F1 is maximal?"
   ]
  },
  {
   "cell_type": "code",
   "execution_count": 29,
   "id": "d5b315f9",
   "metadata": {
    "ExecuteTime": {
     "end_time": "2022-09-30T18:23:56.861581Z",
     "start_time": "2022-09-30T18:23:56.848582Z"
    }
   },
   "outputs": [],
   "source": [
    "df_scores[\"f1\"] = 2 * df_scores[\"precision\"] * \\\n",
    "    df_scores[\"recall\"] / (df_scores[\"precision\"]+df_scores[\"recall\"])"
   ]
  },
  {
   "cell_type": "code",
   "execution_count": 30,
   "id": "64f8b179",
   "metadata": {
    "ExecuteTime": {
     "end_time": "2022-09-30T18:23:57.069581Z",
     "start_time": "2022-09-30T18:23:56.863582Z"
    }
   },
   "outputs": [
    {
     "data": {
      "image/png": "[encoded data removed]",
      "text/plain": [
       "<Figure size 432x288 with 1 Axes>"
      ]
     },
     "metadata": {
      "needs_background": "light"
     },
     "output_type": "display_data"
    }
   ],
   "source": [
    "plt.plot(thresholds, df_scores.f1, label='f1')\n",
    "\n",
    "plt.legend()\n",
    "plt.show()"
   ]
  },
  {
   "cell_type": "code",
   "execution_count": 31,
   "id": "b9a79721",
   "metadata": {
    "ExecuteTime": {
     "end_time": "2022-09-30T18:23:57.085586Z",
     "start_time": "2022-09-30T18:23:57.071589Z"
    }
   },
   "outputs": [
    {
     "data": {
      "text/plain": [
       "threshold      0.350000\n",
       "tp           205.000000\n",
       "fp             1.000000\n",
       "fn             6.000000\n",
       "tn            52.000000\n",
       "tpr            0.971564\n",
       "fpr            0.018868\n",
       "precision      0.995146\n",
       "recall         0.971564\n",
       "f1             0.983213\n",
       "Name: 35, dtype: float64"
      ]
     },
     "execution_count": 31,
     "metadata": {},
     "output_type": "execute_result"
    }
   ],
   "source": [
    "df_scores.iloc[df_scores[\"f1\"].idxmax()]"
   ]
  },
  {
   "cell_type": "markdown",
   "id": "c48c37ab",
   "metadata": {},
   "source": [
    "### Answer = 0.4"
   ]
  },
  {
   "cell_type": "markdown",
   "id": "7342c3ab",
   "metadata": {},
   "source": [
    "### AUC"
   ]
  },
  {
   "cell_type": "code",
   "execution_count": 32,
   "id": "0353aedf",
   "metadata": {
    "ExecuteTime": {
     "end_time": "2022-09-30T18:23:57.100582Z",
     "start_time": "2022-09-30T18:23:57.088584Z"
    }
   },
   "outputs": [
    {
     "data": {
      "text/plain": [
       "0.9949923991773227"
      ]
     },
     "execution_count": 32,
     "metadata": {},
     "output_type": "execute_result"
    }
   ],
   "source": [
    "auc(df_scores.fpr, df_scores.tpr)"
   ]
  },
  {
   "cell_type": "markdown",
   "id": "572f0dee",
   "metadata": {},
   "source": [
    "## Question 5\n",
    "\n",
    "Use the `KFold` class from Scikit-Learn to evaluate our model on 5 different folds:\n",
    "\n",
    "```\n",
    "KFold(n_splits=5, shuffle=True, random_state=1)\n",
    "```\n",
    "\n",
    "* Iterate over different folds of `df_full_train`\n",
    "* Split the data into train and validation\n",
    "* Train the model on train with these parameters: `LogisticRegression(solver='liblinear', C=1.0, max_iter=1000)`\n",
    "* Use AUC to evaluate the model on validation\n",
    "\n",
    "\n",
    "How large is standard devidation of the AUC scores across different folds?"
   ]
  },
  {
   "cell_type": "code",
   "execution_count": 33,
   "id": "c445bb3f",
   "metadata": {
    "ExecuteTime": {
     "end_time": "2022-09-30T18:23:57.115582Z",
     "start_time": "2022-09-30T18:23:57.102581Z"
    }
   },
   "outputs": [],
   "source": [
    "from sklearn.model_selection import KFold"
   ]
  },
  {
   "cell_type": "code",
   "execution_count": 34,
   "id": "1e9aa80c",
   "metadata": {
    "ExecuteTime": {
     "end_time": "2022-09-30T18:23:57.131584Z",
     "start_time": "2022-09-30T18:23:57.117582Z"
    }
   },
   "outputs": [],
   "source": [
    "def train(df_train, y_train, C=1.0):\n",
    "    dicts = df_train[[\"reports\", \"age\", \"income\", \"share\", \"expenditure\",\n",
    "             \"dependents\", \"months\", \"majorcards\", \"active\", \"owner\", \"selfemp\"]].to_dict(orient='records')\n",
    "\n",
    "    dv = DictVectorizer(sparse=False)\n",
    "    X_train = dv.fit_transform(dicts)\n",
    "\n",
    "    model = LogisticRegression(solver='liblinear', C=C, max_iter=1000)\n",
    "    model.fit(X_train, y_train)\n",
    "\n",
    "    return dv, model\n",
    "\n",
    "def predict(df, dv, model):\n",
    "    dicts = df[[\"reports\", \"age\", \"income\", \"share\", \"expenditure\",\n",
    "             \"dependents\", \"months\", \"majorcards\", \"active\", \"owner\", \"selfemp\"]].to_dict(orient='records')\n",
    "\n",
    "    X = dv.transform(dicts)\n",
    "    y_pred = model.predict_proba(X)[:, 1]\n",
    "\n",
    "    return y_pred"
   ]
  },
  {
   "cell_type": "code",
   "execution_count": 35,
   "id": "c4522254",
   "metadata": {
    "ExecuteTime": {
     "end_time": "2022-09-30T18:23:57.321583Z",
     "start_time": "2022-09-30T18:23:57.133584Z"
    }
   },
   "outputs": [
    {
     "name": "stdout",
     "output_type": "stream",
     "text": [
      "0.996 +- 0.003\n"
     ]
    }
   ],
   "source": [
    "scores = []\n",
    "\n",
    "kfold = KFold(n_splits=5, shuffle=True, random_state=1)\n",
    "\n",
    "for train_idxs, val_idxs in kfold.split(df_full_train):\n",
    "    df_train = df_full_train.iloc[train_idxs]\n",
    "    df_val = df_full_train.iloc[val_idxs]\n",
    "\n",
    "    y_train = df_train.card.values\n",
    "    y_val = df_val.card.values\n",
    "\n",
    "    dv, model = train(df_train, y_train, C=1.0)\n",
    "    y_pred = predict(df_val, dv, model)\n",
    "\n",
    "    auc = roc_auc_score(y_val, y_pred)\n",
    "    scores.append(auc)\n",
    "\n",
    "print('%.3f +- %.3f' % (np.mean(scores), np.std(scores)))"
   ]
  },
  {
   "cell_type": "markdown",
   "id": "33d2e9ed",
   "metadata": {},
   "source": [
    "### Answer = 0.003"
   ]
  },
  {
   "cell_type": "markdown",
   "id": "7fdec9bd",
   "metadata": {},
   "source": [
    "\n",
    "## Question 6\n",
    "\n",
    "Now let's use 5-Fold cross-validation to find the best parameter C\n",
    "\n",
    "* Iterate over the following C values: `[0.01, 0.1, 1, 10]`\n",
    "* Initialize `KFold` with the same parameters as previously\n",
    "* Use these parametes for the model: `LogisticRegression(solver='liblinear', C=C, max_iter=1000)`\n",
    "* Compute the mean score as well as the std (round the mean and std to 3 decimal digits)\n",
    "\n",
    "\n",
    "Which C leads to the best mean score?\n",
    "\n",
    "If you have ties, select the score with the lowest std. If you still have ties, select the smallest Compute"
   ]
  },
  {
   "cell_type": "code",
   "execution_count": 36,
   "id": "404f321f",
   "metadata": {
    "ExecuteTime": {
     "end_time": "2022-09-30T18:23:57.987584Z",
     "start_time": "2022-09-30T18:23:57.324583Z"
    }
   },
   "outputs": [
    {
     "name": "stdout",
     "output_type": "stream",
     "text": [
      "0.01 0.992 +- 0.006\n",
      "0.1 0.995 +- 0.004\n",
      "1 0.996 +- 0.003\n",
      "10 0.996 +- 0.003\n"
     ]
    }
   ],
   "source": [
    "for C in [0.01, 0.1, 1, 10]:   \n",
    "    scores = []\n",
    "\n",
    "    kfold = KFold(n_splits=5, shuffle=True, random_state=1)\n",
    "\n",
    "    for train_idxs, val_idxs in kfold.split(df_full_train):\n",
    "        df_train = df_full_train.iloc[train_idxs]\n",
    "        df_val = df_full_train.iloc[val_idxs]\n",
    "\n",
    "        y_train = df_train.card.values\n",
    "        y_val = df_val.card.values\n",
    "\n",
    "        dv, model = train(df_train, y_train, C=C)\n",
    "        y_pred = predict(df_val, dv, model)\n",
    "\n",
    "        auc = roc_auc_score(y_val, y_pred)\n",
    "        scores.append(auc)\n",
    "\n",
    "    print(C, '%.3f +- %.3f' % (np.mean(scores), np.std(scores)))"
   ]
  },
  {
   "cell_type": "markdown",
   "id": "17278b02",
   "metadata": {},
   "source": [
    "### Answer = 1"
   ]
  },
  {
   "cell_type": "markdown",
   "id": "7b227f13",
   "metadata": {},
   "source": [
    "## The Sandbox"
   ]
  },
  {
   "cell_type": "markdown",
   "id": "b821d472",
   "metadata": {},
   "source": [
    "### Random model"
   ]
  },
  {
   "cell_type": "code",
   "execution_count": 37,
   "id": "82dbd635",
   "metadata": {
    "ExecuteTime": {
     "end_time": "2022-09-30T18:23:58.002583Z",
     "start_time": "2022-09-30T18:23:57.989585Z"
    }
   },
   "outputs": [],
   "source": [
    "np.random.seed(1)\n",
    "y_rand = np.random.uniform(0, 1, size=len(y_val))"
   ]
  },
  {
   "cell_type": "code",
   "execution_count": 38,
   "id": "8c09ca95",
   "metadata": {
    "ExecuteTime": {
     "end_time": "2022-09-30T18:23:58.018586Z",
     "start_time": "2022-09-30T18:23:58.004585Z"
    }
   },
   "outputs": [
    {
     "data": {
      "text/plain": [
       "0.47393364928909953"
      ]
     },
     "execution_count": 38,
     "metadata": {},
     "output_type": "execute_result"
    }
   ],
   "source": [
    "((y_rand >= 0.5) == y_val).mean()"
   ]
  },
  {
   "cell_type": "code",
   "execution_count": 39,
   "id": "ab6a3987",
   "metadata": {
    "ExecuteTime": {
     "end_time": "2022-09-30T18:23:58.319583Z",
     "start_time": "2022-09-30T18:23:58.020583Z"
    }
   },
   "outputs": [
    {
     "data": {
      "text/plain": [
       "<seaborn.axisgrid.FacetGrid at 0x104664f12b0>"
      ]
     },
     "execution_count": 39,
     "metadata": {},
     "output_type": "execute_result"
    },
    {
     "data": {
      "image/png": "[encoded data removed]",
      "text/plain": [
       "<Figure size 360x360 with 1 Axes>"
      ]
     },
     "metadata": {
      "needs_background": "light"
     },
     "output_type": "display_data"
    }
   ],
   "source": [
    "sns.displot(x=y_rand)"
   ]
  },
  {
   "cell_type": "code",
   "execution_count": 40,
   "id": "5566ffb6",
   "metadata": {
    "ExecuteTime": {
     "end_time": "2022-09-30T18:23:58.335581Z",
     "start_time": "2022-09-30T18:23:58.321582Z"
    }
   },
   "outputs": [],
   "source": [
    "df_rand = confusion_matrix_dataframe(y_val, y_rand)"
   ]
  },
  {
   "cell_type": "code",
   "execution_count": 41,
   "id": "913b5043",
   "metadata": {
    "ExecuteTime": {
     "end_time": "2022-09-30T18:23:58.586582Z",
     "start_time": "2022-09-30T18:23:58.337584Z"
    },
    "scrolled": true
   },
   "outputs": [
    {
     "data": {
      "image/png": "[encoded data removed]",
      "text/plain": [
       "<Figure size 432x288 with 1 Axes>"
      ]
     },
     "metadata": {
      "needs_background": "light"
     },
     "output_type": "display_data"
    }
   ],
   "source": [
    "plt.plot(df_rand.threshold, df_rand.tpr, label='trp')\n",
    "plt.plot(df_rand.threshold, df_rand.fpr, label='fpr')\n",
    "plt.legend()\n",
    "plt.show()"
   ]
  },
  {
   "cell_type": "code",
   "execution_count": 42,
   "id": "7324c806",
   "metadata": {
    "ExecuteTime": {
     "end_time": "2022-09-30T18:23:58.601583Z",
     "start_time": "2022-09-30T18:23:58.588581Z"
    }
   },
   "outputs": [],
   "source": [
    "from sklearn.metrics import roc_curve"
   ]
  },
  {
   "cell_type": "code",
   "execution_count": 43,
   "id": "3aa0548d",
   "metadata": {
    "ExecuteTime": {
     "end_time": "2022-09-30T18:23:58.617581Z",
     "start_time": "2022-09-30T18:23:58.603583Z"
    }
   },
   "outputs": [],
   "source": [
    "fpr, tpr, thresholds = roc_curve(y_val, y_rand)"
   ]
  },
  {
   "cell_type": "code",
   "execution_count": 44,
   "id": "4be44ff4",
   "metadata": {
    "ExecuteTime": {
     "end_time": "2022-09-30T18:23:58.888582Z",
     "start_time": "2022-09-30T18:23:58.620583Z"
    }
   },
   "outputs": [
    {
     "data": {
      "image/png": "[encoded data removed]",
      "text/plain": [
       "<Figure size 432x288 with 1 Axes>"
      ]
     },
     "metadata": {
      "needs_background": "light"
     },
     "output_type": "display_data"
    }
   ],
   "source": [
    "plt.plot(fpr, tpr, label='rand model')\n",
    "plt.legend()\n",
    "plt.show()"
   ]
  },
  {
   "cell_type": "markdown",
   "id": "e7e927e5",
   "metadata": {},
   "source": [
    "### Ideal model (Benchmark)"
   ]
  },
  {
   "cell_type": "markdown",
   "id": "83108b54",
   "metadata": {},
   "source": [
    "It's not good, cause on train dataset it will be perfect, but on the test it'll show the real number"
   ]
  },
  {
   "cell_type": "code",
   "execution_count": 45,
   "id": "5f8892cd",
   "metadata": {
    "ExecuteTime": {
     "end_time": "2022-09-30T18:23:58.904579Z",
     "start_time": "2022-09-30T18:23:58.890588Z"
    }
   },
   "outputs": [],
   "source": [
    "y_ideal = np.repeat([0, 1], [(y_val == 0).sum(), (y_val == 1).sum()])"
   ]
  },
  {
   "cell_type": "code",
   "execution_count": 46,
   "id": "d7003115",
   "metadata": {
    "ExecuteTime": {
     "end_time": "2022-09-30T18:23:58.920580Z",
     "start_time": "2022-09-30T18:23:58.906581Z"
    }
   },
   "outputs": [
    {
     "data": {
      "text/plain": [
       "0.2037914691943128"
      ]
     },
     "execution_count": 46,
     "metadata": {},
     "output_type": "execute_result"
    }
   ],
   "source": [
    "(y_val == 0).sum()/((y_val == 0).sum()+(y_val == 1).sum())"
   ]
  },
  {
   "cell_type": "code",
   "execution_count": 47,
   "id": "84a2a663",
   "metadata": {
    "ExecuteTime": {
     "end_time": "2022-09-30T18:23:58.935581Z",
     "start_time": "2022-09-30T18:23:58.921584Z"
    }
   },
   "outputs": [
    {
     "data": {
      "text/plain": [
       "0.2037914691943128"
      ]
     },
     "execution_count": 47,
     "metadata": {},
     "output_type": "execute_result"
    }
   ],
   "source": [
    "1 - y_val.mean()"
   ]
  },
  {
   "cell_type": "code",
   "execution_count": 48,
   "id": "d0f889d3",
   "metadata": {
    "ExecuteTime": {
     "end_time": "2022-09-30T18:23:58.951582Z",
     "start_time": "2022-09-30T18:23:58.937583Z"
    }
   },
   "outputs": [
    {
     "data": {
      "text/plain": [
       "array([0.        , 0.04761905, 0.0952381 , 0.14285714, 0.19047619,\n",
       "       0.23809524, 0.28571429, 0.33333333, 0.38095238, 0.42857143,\n",
       "       0.47619048, 0.52380952, 0.57142857, 0.61904762, 0.66666667,\n",
       "       0.71428571, 0.76190476, 0.80952381, 0.85714286, 0.9047619 ,\n",
       "       0.95238095, 1.        ])"
      ]
     },
     "execution_count": 48,
     "metadata": {},
     "output_type": "execute_result"
    }
   ],
   "source": [
    "y_ideal_pred = np.linspace(0, 1, len(y_val))\n",
    "y_ideal_pred[::10]"
   ]
  },
  {
   "cell_type": "code",
   "execution_count": 49,
   "id": "645a0e4a",
   "metadata": {
    "ExecuteTime": {
     "end_time": "2022-09-30T18:23:58.967580Z",
     "start_time": "2022-09-30T18:23:58.953582Z"
    }
   },
   "outputs": [
    {
     "data": {
      "text/plain": [
       "1.0"
      ]
     },
     "execution_count": 49,
     "metadata": {},
     "output_type": "execute_result"
    }
   ],
   "source": [
    "((y_ideal_pred >=0.20075) == y_ideal).mean()"
   ]
  },
  {
   "cell_type": "code",
   "execution_count": 50,
   "id": "9d50529d",
   "metadata": {
    "ExecuteTime": {
     "end_time": "2022-09-30T18:23:59.173620Z",
     "start_time": "2022-09-30T18:23:58.969582Z"
    }
   },
   "outputs": [
    {
     "data": {
      "text/plain": [
       "<seaborn.axisgrid.FacetGrid at 0x104665df5e0>"
      ]
     },
     "execution_count": 50,
     "metadata": {},
     "output_type": "execute_result"
    },
    {
     "data": {
      "image/png": "[encoded data removed]",
      "text/plain": [
       "<Figure size 360x360 with 1 Axes>"
      ]
     },
     "metadata": {
      "needs_background": "light"
     },
     "output_type": "display_data"
    }
   ],
   "source": [
    "sns.displot(x=y_ideal_pred)"
   ]
  },
  {
   "cell_type": "code",
   "execution_count": 51,
   "id": "e6e1eb65",
   "metadata": {
    "ExecuteTime": {
     "end_time": "2022-09-30T18:23:59.188624Z",
     "start_time": "2022-09-30T18:23:59.175592Z"
    }
   },
   "outputs": [],
   "source": [
    "df_ideal = confusion_matrix_dataframe(y_ideal, y_ideal_pred)"
   ]
  },
  {
   "cell_type": "code",
   "execution_count": 52,
   "id": "648805bc",
   "metadata": {
    "ExecuteTime": {
     "end_time": "2022-09-30T18:23:59.363621Z",
     "start_time": "2022-09-30T18:23:59.190582Z"
    }
   },
   "outputs": [
    {
     "data": {
      "image/png": "[encoded data removed]",
      "text/plain": [
       "<Figure size 432x288 with 1 Axes>"
      ]
     },
     "metadata": {
      "needs_background": "light"
     },
     "output_type": "display_data"
    }
   ],
   "source": [
    "plt.plot(df_ideal.threshold, df_ideal.tpr, label='trp')\n",
    "plt.plot(df_ideal.threshold, df_ideal.fpr, label='fpr')\n",
    "plt.legend()\n",
    "plt.show()"
   ]
  },
  {
   "cell_type": "code",
   "execution_count": 53,
   "id": "cb53cc4d",
   "metadata": {
    "ExecuteTime": {
     "end_time": "2022-09-30T18:23:59.554579Z",
     "start_time": "2022-09-30T18:23:59.364581Z"
    },
    "scrolled": true
   },
   "outputs": [
    {
     "data": {
      "image/png": "[encoded data removed]",
      "text/plain": [
       "<Figure size 432x288 with 1 Axes>"
      ]
     },
     "metadata": {
      "needs_background": "light"
     },
     "output_type": "display_data"
    }
   ],
   "source": [
    "plt.plot(df_ideal.fpr, df_ideal.tpr, label='ideal_model')\n",
    "plt.plot(df_scores.fpr, df_scores.tpr, label='model')\n",
    "plt.plot(df_rand.fpr, df_rand.tpr, label='average_model')\n",
    "plt.xlabel(\"FPR\")\n",
    "plt.ylabel(\"TPR\")\n",
    "plt.legend()\n",
    "plt.show()"
   ]
  },
  {
   "cell_type": "markdown",
   "id": "92ab1b2b",
   "metadata": {},
   "source": [
    "With probability of 40% for the customer is 1 it predicts it 1 and with 60% it's not churning"
   ]
  },
  {
   "cell_type": "markdown",
   "id": "95740db5",
   "metadata": {},
   "source": [
    "### AUC interpretation"
   ]
  },
  {
   "cell_type": "code",
   "execution_count": 54,
   "id": "659e79f2",
   "metadata": {
    "ExecuteTime": {
     "end_time": "2022-09-30T18:23:59.569623Z",
     "start_time": "2022-09-30T18:23:59.556583Z"
    }
   },
   "outputs": [],
   "source": [
    "nulls = y_pred[y_val == 0]\n",
    "ones = y_pred[y_val == 1]"
   ]
  },
  {
   "cell_type": "code",
   "execution_count": 55,
   "id": "952b25de",
   "metadata": {
    "ExecuteTime": {
     "end_time": "2022-09-30T18:23:59.678630Z",
     "start_time": "2022-09-30T18:23:59.570584Z"
    }
   },
   "outputs": [
    {
     "data": {
      "text/plain": [
       "1.0"
      ]
     },
     "execution_count": 55,
     "metadata": {},
     "output_type": "execute_result"
    }
   ],
   "source": [
    "results = []\n",
    "for i in range(0, 10000, 1):\n",
    "    null_idx = np.random.randint(0, len(nulls) - 1)\n",
    "    one_idx = np.random.randint(0, len(ones) - 1)\n",
    "    results.append(ones[one_idx] > nulls[null_idx])\n",
    "sum(results)/len(results)"
   ]
  }
 ],
 "metadata": {
  "hide_input": false,
  "kernelspec": {
   "display_name": "Python 3",
   "language": "python",
   "name": "python3"
  },
  "language_info": {
   "codemirror_mode": {
    "name": "ipython",
    "version": 3
   },
   "file_extension": ".py",
   "mimetype": "text/x-python",
   "name": "python",
   "nbconvert_exporter": "python",
   "pygments_lexer": "ipython3",
   "version": "3.8.5"
  },
  "toc": {
   "base_numbering": 1,
   "nav_menu": {},
   "number_sections": true,
   "sideBar": true,
   "skip_h1_title": false,
   "title_cell": "Table of Contents",
   "title_sidebar": "Contents",
   "toc_cell": false,
   "toc_position": {},
   "toc_section_display": true,
   "toc_window_display": false
  },
  "varInspector": {
   "cols": {
    "lenName": 16,
    "lenType": 16,
    "lenVar": 40
   },
   "kernels_config": {
    "python": {
     "delete_cmd_postfix": "",
     "delete_cmd_prefix": "del ",
     "library": "var_list.py",
     "varRefreshCmd": "print(var_dic_list())"
    },
    "r": {
     "delete_cmd_postfix": ") ",
     "delete_cmd_prefix": "rm(",
     "library": "var_list.r",
     "varRefreshCmd": "cat(var_dic_list()) "
    }
   },
   "types_to_exclude": [
    "module",
    "function",
    "builtin_function_or_method",
    "instance",
    "_Feature"
   ],
   "window_display": false
  }
 },
 "nbformat": 4,
 "nbformat_minor": 5
}
