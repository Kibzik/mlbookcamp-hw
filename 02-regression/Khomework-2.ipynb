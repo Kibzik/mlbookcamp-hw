{
 "cells": [
  {
   "cell_type": "code",
   "execution_count": 1,
   "id": "9ed49565",
   "metadata": {
    "ExecuteTime": {
     "end_time": "2022-09-24T10:56:38.801197Z",
     "start_time": "2022-09-24T10:56:35.187179Z"
    }
   },
   "outputs": [],
   "source": [
    "import random\n",
    "import pandas as pd\n",
    "import numpy as np\n",
    "import seaborn as sns\n",
    "import matplotlib.pyplot as plt\n",
    "\n",
    "%matplotlib inline"
   ]
  },
  {
   "cell_type": "markdown",
   "id": "d86fa083",
   "metadata": {},
   "source": [
    "## Get the data"
   ]
  },
  {
   "cell_type": "code",
   "execution_count": 2,
   "id": "127f0cc5",
   "metadata": {
    "ExecuteTime": {
     "end_time": "2022-09-24T10:56:38.900498Z",
     "start_time": "2022-09-24T10:56:38.807425Z"
    }
   },
   "outputs": [],
   "source": [
    "df = pd.read_csv(\"housing.csv\")"
   ]
  },
  {
   "cell_type": "code",
   "execution_count": 3,
   "id": "907e062d",
   "metadata": {
    "ExecuteTime": {
     "end_time": "2022-09-24T10:56:38.963293Z",
     "start_time": "2022-09-24T10:56:38.905465Z"
    },
    "scrolled": false
   },
   "outputs": [
    {
     "data": {
      "text/html": [
       "<div>\n",
       "<style scoped>\n",
       "    .dataframe tbody tr th:only-of-type {\n",
       "        vertical-align: middle;\n",
       "    }\n",
       "\n",
       "    .dataframe tbody tr th {\n",
       "        vertical-align: top;\n",
       "    }\n",
       "\n",
       "    .dataframe thead th {\n",
       "        text-align: right;\n",
       "    }\n",
       "</style>\n",
       "<table border=\"1\" class=\"dataframe\">\n",
       "  <thead>\n",
       "    <tr style=\"text-align: right;\">\n",
       "      <th></th>\n",
       "      <th>longitude</th>\n",
       "      <th>latitude</th>\n",
       "      <th>housing_median_age</th>\n",
       "      <th>total_rooms</th>\n",
       "      <th>total_bedrooms</th>\n",
       "      <th>population</th>\n",
       "      <th>households</th>\n",
       "      <th>median_income</th>\n",
       "      <th>median_house_value</th>\n",
       "      <th>ocean_proximity</th>\n",
       "    </tr>\n",
       "  </thead>\n",
       "  <tbody>\n",
       "    <tr>\n",
       "      <th>0</th>\n",
       "      <td>-122.23</td>\n",
       "      <td>37.88</td>\n",
       "      <td>41.0</td>\n",
       "      <td>880.0</td>\n",
       "      <td>129.0</td>\n",
       "      <td>322.0</td>\n",
       "      <td>126.0</td>\n",
       "      <td>8.3252</td>\n",
       "      <td>452600.0</td>\n",
       "      <td>NEAR BAY</td>\n",
       "    </tr>\n",
       "    <tr>\n",
       "      <th>1</th>\n",
       "      <td>-122.22</td>\n",
       "      <td>37.86</td>\n",
       "      <td>21.0</td>\n",
       "      <td>7099.0</td>\n",
       "      <td>1106.0</td>\n",
       "      <td>2401.0</td>\n",
       "      <td>1138.0</td>\n",
       "      <td>8.3014</td>\n",
       "      <td>358500.0</td>\n",
       "      <td>NEAR BAY</td>\n",
       "    </tr>\n",
       "    <tr>\n",
       "      <th>2</th>\n",
       "      <td>-122.24</td>\n",
       "      <td>37.85</td>\n",
       "      <td>52.0</td>\n",
       "      <td>1467.0</td>\n",
       "      <td>190.0</td>\n",
       "      <td>496.0</td>\n",
       "      <td>177.0</td>\n",
       "      <td>7.2574</td>\n",
       "      <td>352100.0</td>\n",
       "      <td>NEAR BAY</td>\n",
       "    </tr>\n",
       "    <tr>\n",
       "      <th>3</th>\n",
       "      <td>-122.25</td>\n",
       "      <td>37.85</td>\n",
       "      <td>52.0</td>\n",
       "      <td>1274.0</td>\n",
       "      <td>235.0</td>\n",
       "      <td>558.0</td>\n",
       "      <td>219.0</td>\n",
       "      <td>5.6431</td>\n",
       "      <td>341300.0</td>\n",
       "      <td>NEAR BAY</td>\n",
       "    </tr>\n",
       "    <tr>\n",
       "      <th>4</th>\n",
       "      <td>-122.25</td>\n",
       "      <td>37.85</td>\n",
       "      <td>52.0</td>\n",
       "      <td>1627.0</td>\n",
       "      <td>280.0</td>\n",
       "      <td>565.0</td>\n",
       "      <td>259.0</td>\n",
       "      <td>3.8462</td>\n",
       "      <td>342200.0</td>\n",
       "      <td>NEAR BAY</td>\n",
       "    </tr>\n",
       "  </tbody>\n",
       "</table>\n",
       "</div>"
      ],
      "text/plain": [
       "   longitude  latitude  housing_median_age  total_rooms  total_bedrooms  \\\n",
       "0    -122.23     37.88                41.0        880.0           129.0   \n",
       "1    -122.22     37.86                21.0       7099.0          1106.0   \n",
       "2    -122.24     37.85                52.0       1467.0           190.0   \n",
       "3    -122.25     37.85                52.0       1274.0           235.0   \n",
       "4    -122.25     37.85                52.0       1627.0           280.0   \n",
       "\n",
       "   population  households  median_income  median_house_value ocean_proximity  \n",
       "0       322.0       126.0         8.3252            452600.0        NEAR BAY  \n",
       "1      2401.0      1138.0         8.3014            358500.0        NEAR BAY  \n",
       "2       496.0       177.0         7.2574            352100.0        NEAR BAY  \n",
       "3       558.0       219.0         5.6431            341300.0        NEAR BAY  \n",
       "4       565.0       259.0         3.8462            342200.0        NEAR BAY  "
      ]
     },
     "execution_count": 3,
     "metadata": {},
     "output_type": "execute_result"
    }
   ],
   "source": [
    "df.head()"
   ]
  },
  {
   "cell_type": "markdown",
   "id": "876ede75",
   "metadata": {},
   "source": [
    "## EDA"
   ]
  },
  {
   "cell_type": "code",
   "execution_count": 4,
   "id": "1660375f",
   "metadata": {
    "ExecuteTime": {
     "end_time": "2022-09-24T10:56:39.654698Z",
     "start_time": "2022-09-24T10:56:38.965790Z"
    }
   },
   "outputs": [
    {
     "data": {
      "text/plain": [
       "<AxesSubplot:xlabel='median_house_value', ylabel='Count'>"
      ]
     },
     "execution_count": 4,
     "metadata": {},
     "output_type": "execute_result"
    },
    {
     "data": {
      "image/png": "[encoded data removed]",
      "text/plain": [
       "<Figure size 432x288 with 1 Axes>"
      ]
     },
     "metadata": {
      "needs_background": "light"
     },
     "output_type": "display_data"
    }
   ],
   "source": [
    "sns.histplot(df.median_house_value, bins=50)"
   ]
  },
  {
   "cell_type": "code",
   "execution_count": 5,
   "id": "27be78f1",
   "metadata": {
    "ExecuteTime": {
     "end_time": "2022-09-24T10:56:39.672346Z",
     "start_time": "2022-09-24T10:56:39.656311Z"
    }
   },
   "outputs": [],
   "source": [
    "df = df[['latitude', 'longitude', 'housing_median_age', 'total_rooms',\n",
    "         'total_bedrooms', 'population', 'households', 'median_income', 'median_house_value']]"
   ]
  },
  {
   "cell_type": "markdown",
   "id": "a84ecf26",
   "metadata": {},
   "source": [
    "## Q1"
   ]
  },
  {
   "cell_type": "markdown",
   "id": "caa35a75",
   "metadata": {},
   "source": [
    "Find a feature with missing values. How many missing values does it have?"
   ]
  },
  {
   "cell_type": "code",
   "execution_count": 6,
   "id": "6d509e9c",
   "metadata": {
    "ExecuteTime": {
     "end_time": "2022-09-24T10:56:39.714916Z",
     "start_time": "2022-09-24T10:56:39.678181Z"
    }
   },
   "outputs": [
    {
     "data": {
      "text/plain": [
       "total_bedrooms    207\n",
       "dtype: int64"
      ]
     },
     "execution_count": 6,
     "metadata": {},
     "output_type": "execute_result"
    }
   ],
   "source": [
    "df.isnull().sum()[df.isnull().sum() > 0]"
   ]
  },
  {
   "cell_type": "markdown",
   "id": "e58f0ac5",
   "metadata": {},
   "source": [
    "### Answer = 207"
   ]
  },
  {
   "cell_type": "markdown",
   "id": "1ee93d01",
   "metadata": {},
   "source": [
    "## Q2"
   ]
  },
  {
   "cell_type": "markdown",
   "id": "9d31f2a3",
   "metadata": {},
   "source": [
    "What's the median (50% percentile) for variable 'minimum_nights'?"
   ]
  },
  {
   "cell_type": "code",
   "execution_count": 7,
   "id": "2355fe82",
   "metadata": {
    "ExecuteTime": {
     "end_time": "2022-09-24T10:56:39.745939Z",
     "start_time": "2022-09-24T10:56:39.716919Z"
    },
    "scrolled": true
   },
   "outputs": [
    {
     "data": {
      "text/plain": [
       "1166.0"
      ]
     },
     "execution_count": 7,
     "metadata": {},
     "output_type": "execute_result"
    }
   ],
   "source": [
    "df[\"population\"].median()"
   ]
  },
  {
   "cell_type": "markdown",
   "id": "6aaa35d6",
   "metadata": {},
   "source": [
    "### Answer = 1166"
   ]
  },
  {
   "cell_type": "markdown",
   "id": "7f11084d",
   "metadata": {},
   "source": [
    "## Split the data"
   ]
  },
  {
   "cell_type": "markdown",
   "id": "0e2c418f",
   "metadata": {},
   "source": [
    "- Shuffle the initial dataset, use seed 42.\n",
    "- Split your data in train/val/test sets, with 60%/20%/20% distribution.\n",
    "- Apply the log transformation to the price variable using the np.log1p() function.\n",
    "- Make sure that the target value ('price') is not in your dataframe."
   ]
  },
  {
   "cell_type": "code",
   "execution_count": 8,
   "id": "d8e3c233",
   "metadata": {
    "ExecuteTime": {
     "end_time": "2022-09-24T10:56:39.776669Z",
     "start_time": "2022-09-24T10:56:39.754259Z"
    }
   },
   "outputs": [
    {
     "data": {
      "text/plain": [
       "(12384, 4128, 4128)"
      ]
     },
     "execution_count": 8,
     "metadata": {},
     "output_type": "execute_result"
    }
   ],
   "source": [
    "n = len(df)\n",
    "n_train = int(n * 0.6)\n",
    "n_val = int(n * 0.2)\n",
    "n_test = n - n_train - n_val\n",
    "n_train, n_val, n_test"
   ]
  },
  {
   "cell_type": "code",
   "execution_count": 9,
   "id": "db822aae",
   "metadata": {
    "ExecuteTime": {
     "end_time": "2022-09-24T10:56:39.792331Z",
     "start_time": "2022-09-24T10:56:39.782734Z"
    }
   },
   "outputs": [
    {
     "data": {
      "text/plain": [
       "array([    0,     1,     2, ..., 20637, 20638, 20639])"
      ]
     },
     "execution_count": 9,
     "metadata": {},
     "output_type": "execute_result"
    }
   ],
   "source": [
    "idxs = np.arange(len(df))\n",
    "idxs"
   ]
  },
  {
   "cell_type": "code",
   "execution_count": 10,
   "id": "544558d3",
   "metadata": {
    "ExecuteTime": {
     "end_time": "2022-09-24T10:56:39.808600Z",
     "start_time": "2022-09-24T10:56:39.797098Z"
    }
   },
   "outputs": [],
   "source": [
    "np.random.seed(42)\n",
    "np.random.shuffle(idxs)"
   ]
  },
  {
   "cell_type": "code",
   "execution_count": 11,
   "id": "1c59e8af",
   "metadata": {
    "ExecuteTime": {
     "end_time": "2022-09-24T10:56:39.832444Z",
     "start_time": "2022-09-24T10:56:39.812972Z"
    }
   },
   "outputs": [
    {
     "data": {
      "text/plain": [
       "(12384, 4128, 4128)"
      ]
     },
     "execution_count": 11,
     "metadata": {},
     "output_type": "execute_result"
    }
   ],
   "source": [
    "df_train = df.iloc[idxs[:n_train]]\n",
    "df_val = df.iloc[idxs[n_train:n_train+n_val]]\n",
    "df_test = df.iloc[idxs[n_train+n_val:]]\n",
    "len(df_train), len(df_val), len(df_test)"
   ]
  },
  {
   "cell_type": "code",
   "execution_count": 12,
   "id": "cbd1e86e",
   "metadata": {
    "ExecuteTime": {
     "end_time": "2022-09-24T10:56:39.849248Z",
     "start_time": "2022-09-24T10:56:39.836573Z"
    }
   },
   "outputs": [],
   "source": [
    "df_train = df_train.reset_index(drop=True)\n",
    "df_val = df_val.reset_index(drop=True)\n",
    "df_test = df_test.reset_index(drop=True)"
   ]
  },
  {
   "cell_type": "code",
   "execution_count": 13,
   "id": "d0ade42a",
   "metadata": {
    "ExecuteTime": {
     "end_time": "2022-09-24T10:56:39.872906Z",
     "start_time": "2022-09-24T10:56:39.852434Z"
    },
    "scrolled": true
   },
   "outputs": [],
   "source": [
    "y_train = np.log1p(df_train[\"median_house_value\"])\n",
    "df_train.drop(columns=\"median_house_value\", inplace=True)\n",
    "y_val = np.log1p(df_val[\"median_house_value\"])\n",
    "df_val.drop(columns=\"median_house_value\", inplace=True)\n",
    "y_test = np.log1p(df_test[\"median_house_value\"])\n",
    "del df_test[\"median_house_value\"]"
   ]
  },
  {
   "cell_type": "markdown",
   "id": "bd3715eb",
   "metadata": {},
   "source": [
    "## Q3"
   ]
  },
  {
   "cell_type": "markdown",
   "id": "f8c6134d",
   "metadata": {},
   "source": [
    "- We need to deal with missing values for the column from Q1.\n",
    "- We have two options: fill it with 0 or with the mean of this variable.\n",
    "    - For computing the mean, use the training only!\n",
    "- Try both options. For each, train a linear regression model without regularization using the code from the lessons.\n",
    "- Use the validation dataset to evaluate the models and compare the RMSE of each option.\n",
    "- Round the RMSE scores to 2 decimal digits using round(score, 2)  \n",
    "Which option gives better RMSE?"
   ]
  },
  {
   "cell_type": "code",
   "execution_count": 14,
   "id": "775f106f",
   "metadata": {
    "ExecuteTime": {
     "end_time": "2022-09-24T10:56:39.906626Z",
     "start_time": "2022-09-24T10:56:39.875907Z"
    }
   },
   "outputs": [],
   "source": [
    "X_train_null = df_train.fillna(0)\n",
    "X_train_mean = df_train.fillna(df_train.mean())\n",
    "X_train_median = df_train.fillna(df_train.median())"
   ]
  },
  {
   "cell_type": "code",
   "execution_count": 15,
   "id": "185da796",
   "metadata": {
    "ExecuteTime": {
     "end_time": "2022-09-24T10:56:39.939780Z",
     "start_time": "2022-09-24T10:56:39.910919Z"
    }
   },
   "outputs": [],
   "source": [
    "X_val_null = df_val.fillna(0)\n",
    "X_val_mean = df_val.fillna(df_val.mean())\n",
    "X_val_median = df_val.fillna(df_val.median())"
   ]
  },
  {
   "cell_type": "code",
   "execution_count": 16,
   "id": "180b37e4",
   "metadata": {
    "ExecuteTime": {
     "end_time": "2022-09-24T10:56:39.964650Z",
     "start_time": "2022-09-24T10:56:39.945074Z"
    }
   },
   "outputs": [],
   "source": [
    "def train_linear_regression(X, y):\n",
    "    ones = np.ones(X.shape[0])\n",
    "    X = np.column_stack([ones, X])\n",
    "\n",
    "    XTX = X.T.dot(X)\n",
    "    XTX_inv = np.linalg.inv(XTX)\n",
    "    w = XTX_inv.dot(X.T).dot(y)\n",
    "    \n",
    "    return w[0], w[1:]"
   ]
  },
  {
   "cell_type": "code",
   "execution_count": 17,
   "id": "65466beb",
   "metadata": {
    "ExecuteTime": {
     "end_time": "2022-09-24T10:56:39.980504Z",
     "start_time": "2022-09-24T10:56:39.969564Z"
    }
   },
   "outputs": [],
   "source": [
    "def rmse(y, y_pred):\n",
    "    error = y_pred - y\n",
    "    mse = (error ** 2).mean()\n",
    "    return round(np.sqrt(mse), 2)"
   ]
  },
  {
   "cell_type": "code",
   "execution_count": 18,
   "id": "ce9fc4c4",
   "metadata": {
    "ExecuteTime": {
     "end_time": "2022-09-24T10:56:40.012907Z",
     "start_time": "2022-09-24T10:56:39.985135Z"
    }
   },
   "outputs": [],
   "source": [
    "w_0_null, w_null = train_linear_regression(X_train_null, y_train)\n",
    "w_0_mean, w_mean = train_linear_regression(X_train_mean, y_train)\n",
    "w_0_median, w_median = train_linear_regression(X_train_median, y_train)"
   ]
  },
  {
   "cell_type": "code",
   "execution_count": 19,
   "id": "b973d8fc",
   "metadata": {
    "ExecuteTime": {
     "end_time": "2022-09-24T10:56:40.044808Z",
     "start_time": "2022-09-24T10:56:40.017247Z"
    }
   },
   "outputs": [],
   "source": [
    "y_null_pred_val = w_0_null + X_val_null.dot(w_null)\n",
    "y_mean_pred_val = w_0_mean + X_val_mean.dot(w_mean)\n",
    "y_median_pred_val = w_0_median + X_val_median.dot(w_median)"
   ]
  },
  {
   "cell_type": "code",
   "execution_count": 20,
   "id": "75980f64",
   "metadata": {
    "ExecuteTime": {
     "end_time": "2022-09-24T10:56:40.089043Z",
     "start_time": "2022-09-24T10:56:40.050417Z"
    }
   },
   "outputs": [
    {
     "name": "stdout",
     "output_type": "stream",
     "text": [
      "null:0.33\n",
      "mean:0.33\n",
      "median:0.33\n"
     ]
    }
   ],
   "source": [
    "print(\"null:\" + str(rmse(y_val, y_null_pred_val)))\n",
    "print(\"mean:\" + str(rmse(y_val, y_mean_pred_val)))\n",
    "print(\"median:\" + str(rmse(y_val, y_median_pred_val)))"
   ]
  },
  {
   "cell_type": "code",
   "execution_count": 21,
   "id": "0dc8aa13",
   "metadata": {
    "ExecuteTime": {
     "end_time": "2022-09-24T10:56:41.095256Z",
     "start_time": "2022-09-24T10:56:40.091566Z"
    }
   },
   "outputs": [
    {
     "data": {
      "text/plain": [
       "<AxesSubplot:xlabel='median_house_value', ylabel='Count'>"
      ]
     },
     "execution_count": 21,
     "metadata": {},
     "output_type": "execute_result"
    },
    {
     "data": {
      "image/png": "[encoded data removed]",
      "text/plain": [
       "<Figure size 432x288 with 1 Axes>"
      ]
     },
     "metadata": {
      "needs_background": "light"
     },
     "output_type": "display_data"
    }
   ],
   "source": [
    "sns.histplot(y_null_pred_val, alpha=0.4, bins=50, color='red')\n",
    "sns.histplot(y_mean_pred_val, alpha=0.3, bins=50, color='orange')\n",
    "sns.histplot(y_median_pred_val, alpha=0.2, bins=50, color='yellow')\n",
    "sns.histplot(y_val, alpha=0.5, bins=50, color='green')"
   ]
  },
  {
   "cell_type": "markdown",
   "id": "760d6331",
   "metadata": {},
   "source": [
    "### Answer = Both are equally good"
   ]
  },
  {
   "cell_type": "markdown",
   "id": "301d7130",
   "metadata": {},
   "source": [
    "## Q4"
   ]
  },
  {
   "cell_type": "markdown",
   "id": "886a61a9",
   "metadata": {},
   "source": [
    "- Now let's train a regularized linear regression.\n",
    "- For this question, fill the NAs with 0.\n",
    "- Try different values of r from this list: [0, 0.000001, 0.0001, 0.001, 0.01, 0.1, 1, 5, 10].\n",
    "- Use RMSE to evaluate the model on the validation dataset.\n",
    "- Round the RMSE scores to 2 decimal digits.\n",
    "- Which r gives the best RMSE?  \n",
    "If there are multiple options, select the smallest r."
   ]
  },
  {
   "cell_type": "code",
   "execution_count": 22,
   "id": "050a508f",
   "metadata": {
    "ExecuteTime": {
     "end_time": "2022-09-24T10:56:53.136505Z",
     "start_time": "2022-09-24T10:56:53.112282Z"
    }
   },
   "outputs": [],
   "source": [
    "def train_linear_regression_reg(X, y, r=0.0):\n",
    "    ones = np.ones(X.shape[0])\n",
    "    X = np.column_stack([ones, X])\n",
    "\n",
    "    XTX = X.T.dot(X)\n",
    "    reg = r * np.eye(XTX.shape[0])\n",
    "    print(reg)\n",
    "    XTX = XTX + reg\n",
    "\n",
    "    XTX_inv = np.linalg.inv(XTX)\n",
    "    w = XTX_inv.dot(X.T).dot(y)\n",
    "    \n",
    "    return w[0], w[1:]"
   ]
  },
  {
   "cell_type": "code",
   "execution_count": 23,
   "id": "1401c546",
   "metadata": {
    "ExecuteTime": {
     "end_time": "2022-09-24T10:56:55.697823Z",
     "start_time": "2022-09-24T10:56:55.673076Z"
    }
   },
   "outputs": [],
   "source": [
    "X_train = df_train.fillna(0)\n",
    "X_val = df_val.fillna(0)"
   ]
  },
  {
   "cell_type": "code",
   "execution_count": 24,
   "id": "bf2c99fd",
   "metadata": {
    "ExecuteTime": {
     "end_time": "2022-09-24T10:56:56.787893Z",
     "start_time": "2022-09-24T10:56:56.659899Z"
    }
   },
   "outputs": [
    {
     "name": "stdout",
     "output_type": "stream",
     "text": [
      "[[0. 0. 0. 0. 0. 0. 0. 0. 0.]\n",
      " [0. 0. 0. 0. 0. 0. 0. 0. 0.]\n",
      " [0. 0. 0. 0. 0. 0. 0. 0. 0.]\n",
      " [0. 0. 0. 0. 0. 0. 0. 0. 0.]\n",
      " [0. 0. 0. 0. 0. 0. 0. 0. 0.]\n",
      " [0. 0. 0. 0. 0. 0. 0. 0. 0.]\n",
      " [0. 0. 0. 0. 0. 0. 0. 0. 0.]\n",
      " [0. 0. 0. 0. 0. 0. 0. 0. 0.]\n",
      " [0. 0. 0. 0. 0. 0. 0. 0. 0.]]\n",
      "[[1.e-06 0.e+00 0.e+00 0.e+00 0.e+00 0.e+00 0.e+00 0.e+00 0.e+00]\n",
      " [0.e+00 1.e-06 0.e+00 0.e+00 0.e+00 0.e+00 0.e+00 0.e+00 0.e+00]\n",
      " [0.e+00 0.e+00 1.e-06 0.e+00 0.e+00 0.e+00 0.e+00 0.e+00 0.e+00]\n",
      " [0.e+00 0.e+00 0.e+00 1.e-06 0.e+00 0.e+00 0.e+00 0.e+00 0.e+00]\n",
      " [0.e+00 0.e+00 0.e+00 0.e+00 1.e-06 0.e+00 0.e+00 0.e+00 0.e+00]\n",
      " [0.e+00 0.e+00 0.e+00 0.e+00 0.e+00 1.e-06 0.e+00 0.e+00 0.e+00]\n",
      " [0.e+00 0.e+00 0.e+00 0.e+00 0.e+00 0.e+00 1.e-06 0.e+00 0.e+00]\n",
      " [0.e+00 0.e+00 0.e+00 0.e+00 0.e+00 0.e+00 0.e+00 1.e-06 0.e+00]\n",
      " [0.e+00 0.e+00 0.e+00 0.e+00 0.e+00 0.e+00 0.e+00 0.e+00 1.e-06]]\n",
      "[[0.0001 0.     0.     0.     0.     0.     0.     0.     0.    ]\n",
      " [0.     0.0001 0.     0.     0.     0.     0.     0.     0.    ]\n",
      " [0.     0.     0.0001 0.     0.     0.     0.     0.     0.    ]\n",
      " [0.     0.     0.     0.0001 0.     0.     0.     0.     0.    ]\n",
      " [0.     0.     0.     0.     0.0001 0.     0.     0.     0.    ]\n",
      " [0.     0.     0.     0.     0.     0.0001 0.     0.     0.    ]\n",
      " [0.     0.     0.     0.     0.     0.     0.0001 0.     0.    ]\n",
      " [0.     0.     0.     0.     0.     0.     0.     0.0001 0.    ]\n",
      " [0.     0.     0.     0.     0.     0.     0.     0.     0.0001]]\n",
      "[[0.001 0.    0.    0.    0.    0.    0.    0.    0.   ]\n",
      " [0.    0.001 0.    0.    0.    0.    0.    0.    0.   ]\n",
      " [0.    0.    0.001 0.    0.    0.    0.    0.    0.   ]\n",
      " [0.    0.    0.    0.001 0.    0.    0.    0.    0.   ]\n",
      " [0.    0.    0.    0.    0.001 0.    0.    0.    0.   ]\n",
      " [0.    0.    0.    0.    0.    0.001 0.    0.    0.   ]\n",
      " [0.    0.    0.    0.    0.    0.    0.001 0.    0.   ]\n",
      " [0.    0.    0.    0.    0.    0.    0.    0.001 0.   ]\n",
      " [0.    0.    0.    0.    0.    0.    0.    0.    0.001]]\n",
      "[[0.01 0.   0.   0.   0.   0.   0.   0.   0.  ]\n",
      " [0.   0.01 0.   0.   0.   0.   0.   0.   0.  ]\n",
      " [0.   0.   0.01 0.   0.   0.   0.   0.   0.  ]\n",
      " [0.   0.   0.   0.01 0.   0.   0.   0.   0.  ]\n",
      " [0.   0.   0.   0.   0.01 0.   0.   0.   0.  ]\n",
      " [0.   0.   0.   0.   0.   0.01 0.   0.   0.  ]\n",
      " [0.   0.   0.   0.   0.   0.   0.01 0.   0.  ]\n",
      " [0.   0.   0.   0.   0.   0.   0.   0.01 0.  ]\n",
      " [0.   0.   0.   0.   0.   0.   0.   0.   0.01]]\n",
      "[[0.1 0.  0.  0.  0.  0.  0.  0.  0. ]\n",
      " [0.  0.1 0.  0.  0.  0.  0.  0.  0. ]\n",
      " [0.  0.  0.1 0.  0.  0.  0.  0.  0. ]\n",
      " [0.  0.  0.  0.1 0.  0.  0.  0.  0. ]\n",
      " [0.  0.  0.  0.  0.1 0.  0.  0.  0. ]\n",
      " [0.  0.  0.  0.  0.  0.1 0.  0.  0. ]\n",
      " [0.  0.  0.  0.  0.  0.  0.1 0.  0. ]\n",
      " [0.  0.  0.  0.  0.  0.  0.  0.1 0. ]\n",
      " [0.  0.  0.  0.  0.  0.  0.  0.  0.1]]\n",
      "[[1. 0. 0. 0. 0. 0. 0. 0. 0.]\n",
      " [0. 1. 0. 0. 0. 0. 0. 0. 0.]\n",
      " [0. 0. 1. 0. 0. 0. 0. 0. 0.]\n",
      " [0. 0. 0. 1. 0. 0. 0. 0. 0.]\n",
      " [0. 0. 0. 0. 1. 0. 0. 0. 0.]\n",
      " [0. 0. 0. 0. 0. 1. 0. 0. 0.]\n",
      " [0. 0. 0. 0. 0. 0. 1. 0. 0.]\n",
      " [0. 0. 0. 0. 0. 0. 0. 1. 0.]\n",
      " [0. 0. 0. 0. 0. 0. 0. 0. 1.]]\n",
      "[[5. 0. 0. 0. 0. 0. 0. 0. 0.]\n",
      " [0. 5. 0. 0. 0. 0. 0. 0. 0.]\n",
      " [0. 0. 5. 0. 0. 0. 0. 0. 0.]\n",
      " [0. 0. 0. 5. 0. 0. 0. 0. 0.]\n",
      " [0. 0. 0. 0. 5. 0. 0. 0. 0.]\n",
      " [0. 0. 0. 0. 0. 5. 0. 0. 0.]\n",
      " [0. 0. 0. 0. 0. 0. 5. 0. 0.]\n",
      " [0. 0. 0. 0. 0. 0. 0. 5. 0.]\n",
      " [0. 0. 0. 0. 0. 0. 0. 0. 5.]]\n",
      "[[10.  0.  0.  0.  0.  0.  0.  0.  0.]\n",
      " [ 0. 10.  0.  0.  0.  0.  0.  0.  0.]\n",
      " [ 0.  0. 10.  0.  0.  0.  0.  0.  0.]\n",
      " [ 0.  0.  0. 10.  0.  0.  0.  0.  0.]\n",
      " [ 0.  0.  0.  0. 10.  0.  0.  0.  0.]\n",
      " [ 0.  0.  0.  0.  0. 10.  0.  0.  0.]\n",
      " [ 0.  0.  0.  0.  0.  0. 10.  0.  0.]\n",
      " [ 0.  0.  0.  0.  0.  0.  0. 10.  0.]\n",
      " [ 0.  0.  0.  0.  0.  0.  0.  0. 10.]]\n"
     ]
    },
    {
     "data": {
      "text/html": [
       "<div>\n",
       "<style scoped>\n",
       "    .dataframe tbody tr th:only-of-type {\n",
       "        vertical-align: middle;\n",
       "    }\n",
       "\n",
       "    .dataframe tbody tr th {\n",
       "        vertical-align: top;\n",
       "    }\n",
       "\n",
       "    .dataframe thead th {\n",
       "        text-align: right;\n",
       "    }\n",
       "</style>\n",
       "<table border=\"1\" class=\"dataframe\">\n",
       "  <thead>\n",
       "    <tr style=\"text-align: right;\">\n",
       "      <th></th>\n",
       "      <th>Regularise parameter</th>\n",
       "      <th>RMSE</th>\n",
       "    </tr>\n",
       "  </thead>\n",
       "  <tbody>\n",
       "    <tr>\n",
       "      <th>0</th>\n",
       "      <td>0.000000</td>\n",
       "      <td>0.33</td>\n",
       "    </tr>\n",
       "    <tr>\n",
       "      <th>1</th>\n",
       "      <td>0.000001</td>\n",
       "      <td>0.33</td>\n",
       "    </tr>\n",
       "    <tr>\n",
       "      <th>2</th>\n",
       "      <td>0.000100</td>\n",
       "      <td>0.33</td>\n",
       "    </tr>\n",
       "    <tr>\n",
       "      <th>3</th>\n",
       "      <td>0.001000</td>\n",
       "      <td>0.33</td>\n",
       "    </tr>\n",
       "    <tr>\n",
       "      <th>4</th>\n",
       "      <td>0.010000</td>\n",
       "      <td>0.33</td>\n",
       "    </tr>\n",
       "    <tr>\n",
       "      <th>5</th>\n",
       "      <td>0.100000</td>\n",
       "      <td>0.33</td>\n",
       "    </tr>\n",
       "    <tr>\n",
       "      <th>6</th>\n",
       "      <td>1.000000</td>\n",
       "      <td>0.33</td>\n",
       "    </tr>\n",
       "    <tr>\n",
       "      <th>7</th>\n",
       "      <td>5.000000</td>\n",
       "      <td>0.34</td>\n",
       "    </tr>\n",
       "    <tr>\n",
       "      <th>8</th>\n",
       "      <td>10.000000</td>\n",
       "      <td>0.34</td>\n",
       "    </tr>\n",
       "  </tbody>\n",
       "</table>\n",
       "</div>"
      ],
      "text/plain": [
       "   Regularise parameter  RMSE\n",
       "0              0.000000  0.33\n",
       "1              0.000001  0.33\n",
       "2              0.000100  0.33\n",
       "3              0.001000  0.33\n",
       "4              0.010000  0.33\n",
       "5              0.100000  0.33\n",
       "6              1.000000  0.33\n",
       "7              5.000000  0.34\n",
       "8             10.000000  0.34"
      ]
     },
     "execution_count": 24,
     "metadata": {},
     "output_type": "execute_result"
    }
   ],
   "source": [
    "reg_rmse = pd.DataFrame(columns=[\"Regularise parameter\", \"RMSE\"])\n",
    "for r in [0, 0.000001, 0.0001, 0.001, 0.01, 0.1, 1, 5, 10]:\n",
    "    w_0, w = train_linear_regression_reg(X_train, y_train, r=r)\n",
    "    y_reg_val = w_0 + X_val.dot(w)\n",
    "    rmse_val = rmse(y_val, y_reg_val)\n",
    "    reg_rmse = reg_rmse.append({'Regularise parameter': r, 'RMSE': rmse_val}, ignore_index = True)\n",
    "reg_rmse.head(10)"
   ]
  },
  {
   "cell_type": "markdown",
   "id": "03d2d672",
   "metadata": {},
   "source": [
    "### Answer = 0"
   ]
  },
  {
   "cell_type": "markdown",
   "id": "6225bde7",
   "metadata": {},
   "source": [
    "## Q5"
   ]
  },
  {
   "cell_type": "markdown",
   "id": "8541bd38",
   "metadata": {},
   "source": [
    "- We used seed 42 for splitting the data. Let's find out how selecting the seed influences our score.\n",
    "- Try different seed values: [0, 1, 2, 3, 4, 5, 6, 7, 8, 9].\n",
    "- For each seed, do the train/validation/test split with 60%/20%/20% distribution.\n",
    "- Fill the missing values with 0 and train a model without regularization.\n",
    "- For each seed, evaluate the model on the validation dataset and collect the RMSE scores.\n",
    "- What's the standard deviation of all the scores? To compute the standard deviation, use np.std.\n",
    "- Round the result to 3 decimal digits (round(std, 3))  \n",
    "Note: Standard deviation shows how different the values are. If it's low, then all values are approximately the same. If it's high, the values are different. If standard deviation of scores is low, then our model is stable."
   ]
  },
  {
   "cell_type": "code",
   "execution_count": 216,
   "id": "770fcbca",
   "metadata": {
    "ExecuteTime": {
     "end_time": "2022-09-15T13:19:56.397552Z",
     "start_time": "2022-09-15T13:19:56.280335Z"
    },
    "scrolled": true
   },
   "outputs": [
    {
     "name": "stdout",
     "output_type": "stream",
     "text": [
      "0 -11.400369216052377 0.35\n",
      "1 -11.746163468804326 0.34\n",
      "2 -11.401205412465826 0.34\n",
      "3 -11.941066088562632 0.34\n",
      "4 -11.830608322337092 0.35\n",
      "5 -11.093921009870233 0.34\n",
      "6 -11.588010466050784 0.35\n",
      "7 -11.701374810221067 0.34\n",
      "8 -11.736481673631967 0.34\n",
      "9 -11.486795431251362 0.34\n"
     ]
    }
   ],
   "source": [
    "rmse_list = []\n",
    "\n",
    "for r in [0, 1, 2, 3, 4, 5, 6, 7, 8, 9]:\n",
    "    np.random.seed(r)\n",
    "    np.random.shuffle(idxs)\n",
    "\n",
    "    df_train = df.iloc[idxs[:n_train]]\n",
    "    df_val = df.iloc[idxs[n_train:n_train+n_val]]\n",
    "    df_test = df.iloc[idxs[n_train+n_val:]]\n",
    "\n",
    "    df_train = df_train.reset_index(drop=True)\n",
    "    df_val = df_val.reset_index(drop=True)\n",
    "    df_test = df_test.reset_index(drop=True)\n",
    "    \n",
    "    y_train_orig = df_train.median_house_value.values\n",
    "    y_val_orig = df_val.median_house_value.values\n",
    "    y_test_orig = df_test.median_house_value.values\n",
    "\n",
    "    y_train = np.log1p(y_train_orig)\n",
    "    y_val = np.log1p(y_val_orig)\n",
    "    y_test = np.log1p(y_test_orig)\n",
    "    \n",
    "    del df_train['median_house_value']\n",
    "    del df_val['median_house_value']\n",
    "    del df_test['median_house_value']\n",
    "    \n",
    "    X_train = df_train.fillna(0)\n",
    "    X_val = df_val.fillna(0)\n",
    "\n",
    "    w_0, w = train_linear_regression(X_train, y_train)\n",
    "    \n",
    "    y_reg_val = w_0 + X_val.dot(w)\n",
    "    rmse_val = rmse(y_val, y_reg_val)\n",
    "    \n",
    "    rmse_list.append(rmse_val)\n",
    "    \n",
    "    print(r, w_0, rmse_val)"
   ]
  },
  {
   "cell_type": "code",
   "execution_count": 217,
   "id": "f0d661a0",
   "metadata": {
    "ExecuteTime": {
     "end_time": "2022-09-15T13:19:57.803406Z",
     "start_time": "2022-09-15T13:19:57.789293Z"
    }
   },
   "outputs": [
    {
     "name": "stdout",
     "output_type": "stream",
     "text": [
      "0.005\n"
     ]
    }
   ],
   "source": [
    "print(round(np.std(rmse_list), 3))"
   ]
  },
  {
   "cell_type": "markdown",
   "id": "504d5dce",
   "metadata": {},
   "source": [
    "### Answer = 0.005"
   ]
  },
  {
   "cell_type": "markdown",
   "id": "b1eb0f8c",
   "metadata": {},
   "source": [
    "## Q6"
   ]
  },
  {
   "cell_type": "markdown",
   "id": "06ca92fa",
   "metadata": {},
   "source": [
    "- Split the dataset like previously, use seed 9.\n",
    "- Combine train and validation datasets.\n",
    "- Fill the missing values with 0 and train a model with r=0.001.  \n",
    "What's the RMSE on the test dataset?"
   ]
  },
  {
   "cell_type": "code",
   "execution_count": 226,
   "id": "a97fb7e0",
   "metadata": {
    "ExecuteTime": {
     "end_time": "2022-09-15T13:21:13.546341Z",
     "start_time": "2022-09-15T13:21:13.518715Z"
    }
   },
   "outputs": [],
   "source": [
    "np.random.seed(9)\n",
    "np.random.shuffle(idxs)\n",
    "\n",
    "df_train = df.iloc[idxs[:n_train+n_val]]\n",
    "df_test = df.iloc[idxs[n_train+n_val:]]\n",
    "\n",
    "df_train = df_train.reset_index(drop=True)\n",
    "df_test = df_test.reset_index(drop=True)\n",
    "\n",
    "y_train_orig = df_train.median_house_value.values\n",
    "y_test_orig = df_test.median_house_value.values\n",
    "\n",
    "y_train = np.log1p(y_train_orig)\n",
    "y_test = np.log1p(y_test_orig)\n",
    "\n",
    "del df_train['median_house_value']\n",
    "del df_test['median_house_value']\n",
    "\n",
    "X_train = df_train.fillna(0)\n",
    "X_test = df_test.fillna(0)\n",
    "\n",
    "w_0, w = train_linear_regression_reg(X_train, y_train, r=0.001)\n",
    "\n",
    "y_reg_test = w_0 + X_test.dot(w)\n",
    "rmse_test = rmse(y_test, y_reg_test)"
   ]
  },
  {
   "cell_type": "code",
   "execution_count": 227,
   "id": "279d7b0a",
   "metadata": {
    "ExecuteTime": {
     "end_time": "2022-09-15T13:21:15.060079Z",
     "start_time": "2022-09-15T13:21:15.044138Z"
    }
   },
   "outputs": [
    {
     "data": {
      "text/plain": [
       "0.35"
      ]
     },
     "execution_count": 227,
     "metadata": {},
     "output_type": "execute_result"
    }
   ],
   "source": [
    "rmse_test"
   ]
  },
  {
   "cell_type": "markdown",
   "id": "aa4263b6",
   "metadata": {},
   "source": [
    "### Answer = 0.35"
   ]
  }
 ],
 "metadata": {
  "hide_input": false,
  "kernelspec": {
   "display_name": "Python 3",
   "language": "python",
   "name": "python3"
  },
  "language_info": {
   "codemirror_mode": {
    "name": "ipython",
    "version": 3
   },
   "file_extension": ".py",
   "mimetype": "text/x-python",
   "name": "python",
   "nbconvert_exporter": "python",
   "pygments_lexer": "ipython3",
   "version": "3.8.5"
  },
  "toc": {
   "base_numbering": 1,
   "nav_menu": {},
   "number_sections": true,
   "sideBar": true,
   "skip_h1_title": false,
   "title_cell": "Table of Contents",
   "title_sidebar": "Contents",
   "toc_cell": false,
   "toc_position": {},
   "toc_section_display": true,
   "toc_window_display": false
  },
  "varInspector": {
   "cols": {
    "lenName": 16,
    "lenType": 16,
    "lenVar": 40
   },
   "kernels_config": {
    "python": {
     "delete_cmd_postfix": "",
     "delete_cmd_prefix": "del ",
     "library": "var_list.py",
     "varRefreshCmd": "print(var_dic_list())"
    },
    "r": {
     "delete_cmd_postfix": ") ",
     "delete_cmd_prefix": "rm(",
     "library": "var_list.r",
     "varRefreshCmd": "cat(var_dic_list()) "
    }
   },
   "types_to_exclude": [
    "module",
    "function",
    "builtin_function_or_method",
    "instance",
    "_Feature"
   ],
   "window_display": false
  }
 },
 "nbformat": 4,
 "nbformat_minor": 5
}
